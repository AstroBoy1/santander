{
  "nbformat": 4,
  "nbformat_minor": 0,
  "metadata": {
    "colab": {
      "name": "xgboost_santander.ipynb",
      "version": "0.3.2",
      "provenance": [],
      "collapsed_sections": [],
      "include_colab_link": true
    },
    "kernelspec": {
      "name": "python3",
      "display_name": "Python 3"
    },
    "accelerator": "GPU"
  },
  "cells": [
    {
      "cell_type": "markdown",
      "metadata": {
        "id": "view-in-github",
        "colab_type": "text"
      },
      "source": [
        "<a href=\"https://colab.research.google.com/github/AstroBoy1/santander/blob/master/xgboost_santander.ipynb\" target=\"_parent\"><img src=\"https://colab.research.google.com/assets/colab-badge.svg\" alt=\"Open In Colab\"/></a>"
      ]
    },
    {
      "metadata": {
        "id": "tdbaWH9aMyt-",
        "colab_type": "text"
      },
      "cell_type": "markdown",
      "source": [
        "# Import, setup drive, read the data"
      ]
    },
    {
      "metadata": {
        "id": "7MWTbIxO4z7b",
        "colab_type": "code",
        "colab": {
          "base_uri": "https://localhost:8080/",
          "height": 36
        },
        "outputId": "69c84783-5ff6-4df4-8a74-d460d5e15258"
      },
      "cell_type": "code",
      "source": [
        "from google.colab import drive\n",
        "from keras.models import Sequential\n",
        "from keras.layers import Dense\n",
        "from sklearn.metrics import roc_auc_score\n",
        "import numpy as np\n",
        "from sklearn import svm\n",
        "from collections import Counter\n",
        "import pandas as pd\n",
        "from sklearn.preprocessing import MinMaxScaler\n",
        "from sklearn.preprocessing import StandardScaler\n",
        "import matplotlib.pyplot as plt\n",
        "import seaborn as sns\n",
        "import xgboost as xgb"
      ],
      "execution_count": 1,
      "outputs": [
        {
          "output_type": "stream",
          "text": [
            "Using TensorFlow backend.\n"
          ],
          "name": "stderr"
        }
      ]
    },
    {
      "metadata": {
        "id": "C3t9tcHK5nXL",
        "colab_type": "code",
        "outputId": "85b29643-5e34-4001-b2b7-94db1dbaa3ea",
        "colab": {
          "base_uri": "https://localhost:8080/",
          "height": 130
        }
      },
      "cell_type": "code",
      "source": [
        "drive.mount('/content/gdrive')"
      ],
      "execution_count": 2,
      "outputs": [
        {
          "output_type": "stream",
          "text": [
            "Go to this URL in a browser: https://accounts.google.com/o/oauth2/auth?client_id=947318989803-6bn6qk8qdgf4n4g3pfee6491hc0brc4i.apps.googleusercontent.com&redirect_uri=urn%3Aietf%3Awg%3Aoauth%3A2.0%3Aoob&scope=email%20https%3A%2F%2Fwww.googleapis.com%2Fauth%2Fdocs.test%20https%3A%2F%2Fwww.googleapis.com%2Fauth%2Fdrive%20https%3A%2F%2Fwww.googleapis.com%2Fauth%2Fdrive.photos.readonly%20https%3A%2F%2Fwww.googleapis.com%2Fauth%2Fpeopleapi.readonly&response_type=code\n",
            "\n",
            "Enter your authorization code:\n",
            "··········\n",
            "Mounted at /content/gdrive\n"
          ],
          "name": "stdout"
        }
      ]
    },
    {
      "metadata": {
        "id": "bSWl-HfC67O4",
        "colab_type": "code",
        "colab": {}
      },
      "cell_type": "code",
      "source": [
        "train_fn = '/content/gdrive/My Drive/santander_data/train.csv'\n",
        "valid_fn = '/content/gdrive/My Drive/santander_data/test.csv'\n",
        "pred_fn = '/content/gdrive/My Drive/santander_data/submission2.csv'"
      ],
      "execution_count": 0,
      "outputs": []
    },
    {
      "metadata": {
        "id": "VHGfijhL5P52",
        "colab_type": "code",
        "colab": {}
      },
      "cell_type": "code",
      "source": [
        "train_data_df = pd.read_csv(train_fn)\n",
        "valid_data_df = pd.read_csv(valid_fn)\n",
        "train_data_x = train_data_df.drop(columns=[\"ID_code\", \"target\"]).values\n",
        "train_data_y = train_data_df[\"target\"].values\n",
        "valid_data_x = valid_data_df.drop(columns=[\"ID_code\"]).values\n",
        "length = len(train_data_y)"
      ],
      "execution_count": 0,
      "outputs": []
    },
    {
      "metadata": {
        "id": "ryhAssnaGxyE",
        "colab_type": "text"
      },
      "cell_type": "markdown",
      "source": [
        "#Data preprocessing"
      ]
    },
    {
      "metadata": {
        "id": "bLGPHBrgG3cg",
        "colab_type": "text"
      },
      "cell_type": "markdown",
      "source": [
        "Check for missing values, which there are none"
      ]
    },
    {
      "metadata": {
        "id": "ZIxXOMKnG211",
        "colab_type": "code",
        "outputId": "b2e352d3-2c79-4c82-9c4d-298ac7c82de7",
        "colab": {
          "base_uri": "https://localhost:8080/",
          "height": 36
        }
      },
      "cell_type": "code",
      "source": [
        "null_values = train_data_df.isnull().sum()\n",
        "sum(null_values > 0)"
      ],
      "execution_count": 5,
      "outputs": [
        {
          "output_type": "execute_result",
          "data": {
            "text/plain": [
              "0"
            ]
          },
          "metadata": {
            "tags": []
          },
          "execution_count": 5
        }
      ]
    },
    {
      "metadata": {
        "id": "Q4_fs61wH0-w",
        "colab_type": "text"
      },
      "cell_type": "markdown",
      "source": [
        "Check the datatypes of the features, there are 200, all are float64"
      ]
    },
    {
      "metadata": {
        "id": "BaGxG5TWH3ff",
        "colab_type": "code",
        "outputId": "53d81213-1588-416b-8c11-0d8d8b9cda55",
        "colab": {
          "base_uri": "https://localhost:8080/",
          "height": 36
        }
      },
      "cell_type": "code",
      "source": [
        "types = train_data_df.dtypes\n",
        "sum(types == 'float64')"
      ],
      "execution_count": 6,
      "outputs": [
        {
          "output_type": "execute_result",
          "data": {
            "text/plain": [
              "200"
            ]
          },
          "metadata": {
            "tags": []
          },
          "execution_count": 6
        }
      ]
    },
    {
      "metadata": {
        "id": "znKS_cBVK1Yn",
        "colab_type": "text"
      },
      "cell_type": "markdown",
      "source": [
        "Scale the data between 0 and 1"
      ]
    },
    {
      "metadata": {
        "id": "GtZ0MptZK39F",
        "colab_type": "code",
        "outputId": "4961a63e-1004-473d-e138-7de1696381b9",
        "colab": {
          "base_uri": "https://localhost:8080/",
          "height": 258
        }
      },
      "cell_type": "code",
      "source": [
        "scalerScaled = MinMaxScaler(feature_range=(0, 1))\n",
        "scaled_x = scalerScaled.fit_transform(train_data_x)\n",
        "scaled_x"
      ],
      "execution_count": 9,
      "outputs": [
        {
          "output_type": "execute_result",
          "data": {
            "text/plain": [
              "array([[0.42785307, 0.32482435, 0.56805853, ..., 0.43095798, 0.32765751,\n",
              "        0.56064496],\n",
              "       [0.55721218, 0.42863943, 0.6812351 , ..., 0.4682771 , 0.6095461 ,\n",
              "        0.60582746],\n",
              "       [0.41196889, 0.48377668, 0.57806091, ..., 0.38194973, 0.42583343,\n",
              "        0.58273586],\n",
              "       ...,\n",
              "       [0.5432771 , 0.39305749, 0.4870996 , ..., 0.45612437, 0.38087342,\n",
              "        0.63919915],\n",
              "       [0.46750324, 0.25309006, 0.66682332, ..., 0.67445942, 0.46661746,\n",
              "        0.37047369],\n",
              "       [0.5258457 , 0.36714503, 0.580254  , ..., 0.36840624, 0.29469964,\n",
              "        0.57890533]])"
            ]
          },
          "metadata": {
            "tags": []
          },
          "execution_count": 9
        }
      ]
    },
    {
      "metadata": {
        "id": "yZKMvVm8MJcY",
        "colab_type": "text"
      },
      "cell_type": "markdown",
      "source": [
        "Standardize the data to a standard normal gaussian distribution, assuming originally normal data"
      ]
    },
    {
      "metadata": {
        "id": "eFzBylIbMWal",
        "colab_type": "code",
        "outputId": "e09e3ae1-1232-4bd2-dc7f-6c1b3ed6bd74",
        "colab": {
          "base_uri": "https://localhost:8080/",
          "height": 258
        }
      },
      "cell_type": "code",
      "source": [
        "scalerStandard = StandardScaler().fit(train_data_x) \n",
        "standard_x = scalerStandard.transform(train_data_x) \n",
        "standard_x"
      ],
      "execution_count": 10,
      "outputs": [
        {
          "output_type": "execute_result",
          "data": {
            "text/plain": [
              "array([[-0.57710174, -1.27373702,  0.45170728, ..., -0.37396811,\n",
              "        -1.02639785,  0.21413482],\n",
              "       [ 0.26995857, -0.62213756,  1.19036045, ..., -0.12939961,\n",
              "         0.82541712,  0.50568523],\n",
              "       [-0.68111341, -0.2760664 ,  0.51698836, ..., -0.69514059,\n",
              "        -0.38144932,  0.35668144],\n",
              "       ...,\n",
              "       [ 0.17870987, -0.84546901, -0.07667568, ..., -0.20904171,\n",
              "        -0.67680579,  0.72102365],\n",
              "       [-0.31746727, -1.72398014,  1.09630117, ...,  1.22180338,\n",
              "        -0.11352617, -1.01298853],\n",
              "       [ 0.06456676, -1.00810962,  0.53130173, ..., -0.78389704,\n",
              "        -1.24290845,  0.33196403]])"
            ]
          },
          "metadata": {
            "tags": []
          },
          "execution_count": 10
        }
      ]
    },
    {
      "metadata": {
        "id": "Nb20GSGvNkfx",
        "colab_type": "text"
      },
      "cell_type": "markdown",
      "source": [
        "# Plotting"
      ]
    },
    {
      "metadata": {
        "id": "xYQG45CDNm6n",
        "colab_type": "code",
        "outputId": "5716072d-2969-4c8a-b62f-cd4f5afbfd89",
        "colab": {
          "base_uri": "https://localhost:8080/",
          "height": 1108
        }
      },
      "cell_type": "code",
      "source": [
        "for i in range(0, 1):\n",
        "  sns.distplot(train_data_x[i])\n",
        "  plt.title(\"original data \" + str(i))\n",
        "  plt.figure()\n",
        "  sns.distplot(scaled_x[i])\n",
        "  plt.title(\"scaled data \" + str(i))\n",
        "  plt.figure()\n",
        "  sns.distplot(standard_x[i])\n",
        "  plt.title(\"standardized data \" + str(i))"
      ],
      "execution_count": 11,
      "outputs": [
        {
          "output_type": "stream",
          "text": [
            "/usr/local/lib/python3.6/dist-packages/matplotlib/axes/_axes.py:6521: MatplotlibDeprecationWarning: \n",
            "The 'normed' kwarg was deprecated in Matplotlib 2.1 and will be removed in 3.1. Use 'density' instead.\n",
            "  alternative=\"'density'\", removal=\"3.1\")\n"
          ],
          "name": "stderr"
        },
        {
          "output_type": "display_data",
          "data": {
            "image/png": "[encoded data removed]",
            "text/plain": [
              "<Figure size 576x396 with 1 Axes>"
            ]
          },
          "metadata": {
            "tags": []
          }
        },
        {
          "output_type": "display_data",
          "data": {
            "image/png": "[encoded data removed]",
            "text/plain": [
              "<Figure size 576x396 with 1 Axes>"
            ]
          },
          "metadata": {
            "tags": []
          }
        },
        {
          "output_type": "display_data",
          "data": {
            "image/png": "[encoded data removed]",
            "text/plain": [
              "<Figure size 576x396 with 1 Axes>"
            ]
          },
          "metadata": {
            "tags": []
          }
        }
      ]
    },
    {
      "metadata": {
        "id": "w6d3_tDgQdNs",
        "colab_type": "code",
        "outputId": "937e6a50-4582-4fc8-c114-36ad5a4f574c",
        "colab": {
          "base_uri": "https://localhost:8080/",
          "height": 403
        }
      },
      "cell_type": "code",
      "source": [
        "for i in range(0, 1):\n",
        "  sns.distplot(train_data_x[i], label=\"original data\")\n",
        "  sns.distplot(scaled_x[i], label=\"scaled data\")\n",
        "  sns.distplot(standard_x[i], label=\"standardized data\")\n",
        "  plt.legend()"
      ],
      "execution_count": 12,
      "outputs": [
        {
          "output_type": "stream",
          "text": [
            "/usr/local/lib/python3.6/dist-packages/matplotlib/axes/_axes.py:6521: MatplotlibDeprecationWarning: \n",
            "The 'normed' kwarg was deprecated in Matplotlib 2.1 and will be removed in 3.1. Use 'density' instead.\n",
            "  alternative=\"'density'\", removal=\"3.1\")\n"
          ],
          "name": "stderr"
        },
        {
          "output_type": "display_data",
          "data": {
            "image/png": "[encoded data removed]",
            "text/plain": [
              "<Figure size 576x396 with 1 Axes>"
            ]
          },
          "metadata": {
            "tags": []
          }
        }
      ]
    },
    {
      "metadata": {
        "id": "1zLWoZBsM5bo",
        "colab_type": "text"
      },
      "cell_type": "markdown",
      "source": [
        "# Fit the data"
      ]
    },
    {
      "metadata": {
        "id": "5YN2itQY6Tid",
        "colab_type": "code",
        "outputId": "e025e75f-c7a2-4581-e19f-1c4965f9a8eb",
        "colab": {
          "base_uri": "https://localhost:8080/",
          "height": 54
        }
      },
      "cell_type": "code",
      "source": [
        "# clf = svm.SVC(gamma='scale')\n",
        "# print(\"Fitting data\")\n",
        "# clf.fit(train_data_x[:length], train_data_y[:length])\n",
        "# print(\"Predicting data\")\n",
        "# valid_pred = clf.predict(valid_data_x[:length])"
      ],
      "execution_count": 0,
      "outputs": [
        {
          "output_type": "stream",
          "text": [
            "Fitting data\n",
            "Predicting data\n"
          ],
          "name": "stdout"
        }
      ]
    },
    {
      "metadata": {
        "id": "IVQ_gUiL4tjQ",
        "colab_type": "text"
      },
      "cell_type": "markdown",
      "source": [
        "SVM"
      ]
    },
    {
      "metadata": {
        "id": "9X_AFbdd6wEq",
        "colab_type": "code",
        "colab": {}
      },
      "cell_type": "code",
      "source": [
        "output_df = pd.DataFrame()\n",
        "output_df[\"ID_code\"] = valid_data_df[\"ID_code\"]\n",
        "output_df[\"target\"] = valid_pred\n",
        "output_df.to_csv(pred_fn, index=False)"
      ],
      "execution_count": 0,
      "outputs": []
    },
    {
      "metadata": {
        "id": "CiyOtmoZ8mwm",
        "colab_type": "code",
        "outputId": "55a001f0-8e78-4ac1-ace5-c3bb45dd13f6",
        "colab": {
          "base_uri": "https://localhost:8080/",
          "height": 36
        }
      },
      "cell_type": "code",
      "source": [
        "# Started around 10:30, finished 8pm"
      ],
      "execution_count": 0,
      "outputs": [
        {
          "output_type": "stream",
          "text": [
            "2019-02-23 05:48:31.692752\n"
          ],
          "name": "stdout"
        }
      ]
    },
    {
      "metadata": {
        "id": "WVBHVzzH75RH",
        "colab_type": "code",
        "outputId": "a8b8699f-1aec-4d2d-adad-d7c10d396776",
        "colab": {
          "base_uri": "https://localhost:8080/",
          "height": 36
        }
      },
      "cell_type": "code",
      "source": [
        "from joblib import dump, load\n",
        "model_fn = '/content/gdrive/My Drive/santander_data/model.joblib'\n",
        "dump(clf, model_fn)"
      ],
      "execution_count": 0,
      "outputs": [
        {
          "output_type": "execute_result",
          "data": {
            "text/plain": [
              "['/content/gdrive/My Drive/santander_data/model.joblib']"
            ]
          },
          "metadata": {
            "tags": []
          },
          "execution_count": 14
        }
      ]
    },
    {
      "metadata": {
        "id": "IiO6GMHC8S8h",
        "colab_type": "code",
        "colab": {}
      },
      "cell_type": "code",
      "source": [
        "clf2 = load(model_fn)"
      ],
      "execution_count": 0,
      "outputs": []
    },
    {
      "metadata": {
        "id": "QxWTTApG9u07",
        "colab_type": "text"
      },
      "cell_type": "markdown",
      "source": [
        "# XGBoost"
      ]
    },
    {
      "metadata": {
        "id": "8yL0o7YnNBQq",
        "colab_type": "code",
        "colab": {}
      },
      "cell_type": "code",
      "source": [
        "length = len(train_data_x)\n",
        "dtrain = xgb.DMatrix(train_data_x[:length], label=train_data_y[:length])"
      ],
      "execution_count": 0,
      "outputs": []
    },
    {
      "metadata": {
        "id": "UAoD0yB8EFeq",
        "colab_type": "code",
        "colab": {}
      },
      "cell_type": "code",
      "source": [
        "# specify parameters via map\n",
        "param = {'max_depth':2, 'eta':1, 'silent':1, 'objective':'binary:logistic' }\n",
        "param['nthread'] = 4\n",
        "param['eval_metric'] = 'auc'\n",
        "num_round = 10"
      ],
      "execution_count": 0,
      "outputs": []
    },
    {
      "metadata": {
        "id": "8W99LNFTEIbS",
        "colab_type": "code",
        "colab": {
          "base_uri": "https://localhost:8080/",
          "height": 36
        },
        "outputId": "bc6688aa-7f35-48d6-baf8-63ffca4b310d"
      },
      "cell_type": "code",
      "source": [
        "import time\n",
        "start = time.time()\n",
        "bst = xgb.train(param, dtrain, num_round)\n",
        "bst.save_model('/content/gdrive/My Drive/santander_data/naive_xg.model')\n",
        "end = time.time()\n",
        "print(end - start)"
      ],
      "execution_count": 41,
      "outputs": [
        {
          "output_type": "stream",
          "text": [
            "16.268314599990845\n"
          ],
          "name": "stdout"
        }
      ]
    },
    {
      "metadata": {
        "id": "ZkAOnVKZEi_F",
        "colab_type": "code",
        "colab": {
          "base_uri": "https://localhost:8080/",
          "height": 54
        },
        "outputId": "279e4865-74c4-4d3a-d8f9-201924822d5a"
      },
      "cell_type": "code",
      "source": [
        "# make prediction\n",
        "start = time.time()\n",
        "dtest = xgb.DMatrix(valid_data_x[:length])\n",
        "preds = bst.predict(dtest)\n",
        "output_df = pd.DataFrame()\n",
        "output_df[\"ID_code\"] = valid_data_df[\"ID_code\"]\n",
        "output_df[\"target\"] = preds\n",
        "output_df.to_csv(pred_fn, index=False)\n",
        "end = time.time()\n",
        "print(end - start)\n",
        "len(preds)"
      ],
      "execution_count": 42,
      "outputs": [
        {
          "output_type": "stream",
          "text": [
            "1.2572906017303467\n"
          ],
          "name": "stdout"
        },
        {
          "output_type": "execute_result",
          "data": {
            "text/plain": [
              "200000"
            ]
          },
          "metadata": {
            "tags": []
          },
          "execution_count": 42
        }
      ]
    },
    {
      "metadata": {
        "id": "ZG27QG7ZE_8r",
        "colab_type": "code",
        "colab": {}
      },
      "cell_type": "code",
      "source": [
        "#bst = xgb.Booster({'nthread': 4})  # init model\n",
        "#bst.load_model('model.bin')  # load data"
      ],
      "execution_count": 0,
      "outputs": []
    },
    {
      "metadata": {
        "id": "c1oZs4tXIyFB",
        "colab_type": "text"
      },
      "cell_type": "markdown",
      "source": [
        "Tune XGBoost"
      ]
    },
    {
      "metadata": {
        "id": "zZ3ZinY2Iz8E",
        "colab_type": "code",
        "colab": {}
      },
      "cell_type": "code",
      "source": [
        ""
      ],
      "execution_count": 0,
      "outputs": []
    }
  ]
}