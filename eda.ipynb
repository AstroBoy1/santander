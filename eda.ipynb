{
  "nbformat": 4,
  "nbformat_minor": 0,
  "metadata": {
    "colab": {
      "name": "eda.ipynb",
      "version": "0.3.2",
      "provenance": [],
      "collapsed_sections": [
        "tdbaWH9aMyt-",
        "ryhAssnaGxyE",
        "1zLWoZBsM5bo",
        "QxWTTApG9u07",
        "uHxAVwx3WNnf",
        "u1ZKE1zINfLc",
        "cCdXBP1dliiU",
        "Ud1UND3tSg-m",
        "8UA9GIFKfPP9",
        "YazQtkBof562",
        "99-94klNj6Qh"
      ],
      "include_colab_link": true
    },
    "kernelspec": {
      "name": "python3",
      "display_name": "Python 3"
    },
    "accelerator": "GPU"
  },
  "cells": [
    {
      "cell_type": "markdown",
      "metadata": {
        "id": "view-in-github",
        "colab_type": "text"
      },
      "source": [
        "<a href=\"https://colab.research.google.com/github/AstroBoy1/santander/blob/master/eda.ipynb\" target=\"_parent\"><img src=\"https://colab.research.google.com/assets/colab-badge.svg\" alt=\"Open In Colab\"/></a>"
      ]
    },
    {
      "metadata": {
        "id": "tdbaWH9aMyt-",
        "colab_type": "text"
      },
      "cell_type": "markdown",
      "source": [
        "# Import, setup drive, read the data, reintall packages"
      ]
    },
    {
      "metadata": {
        "id": "ec7VskNOgnnq",
        "colab_type": "code",
        "outputId": "ba503362-4a14-4b87-c327-317abff1ff1d",
        "colab": {
          "base_uri": "https://localhost:8080/",
          "height": 724
        }
      },
      "cell_type": "code",
      "source": [
        "!pip3 uninstall xgboost\n",
        "!pip3 install xgboost\n",
        "!pip uninstall sklearn\n",
        "!pip install sklearn\n",
        "!pip install scikit-optimize"
      ],
      "execution_count": 0,
      "outputs": [
        {
          "output_type": "stream",
          "text": [
            "Uninstalling xgboost-0.7.post4:\n",
            "  Would remove:\n",
            "    /usr/local/lib/python3.6/dist-packages/xgboost-0.7.post4-py3.6.egg-info\n",
            "    /usr/local/lib/python3.6/dist-packages/xgboost/*\n",
            "Proceed (y/n)? y\n",
            "  Successfully uninstalled xgboost-0.7.post4\n",
            "Collecting xgboost\n",
            "\u001b[?25l  Downloading https://files.pythonhosted.org/packages/6a/49/7e10686647f741bd9c8918b0decdb94135b542fe372ca1100739b8529503/xgboost-0.82-py2.py3-none-manylinux1_x86_64.whl (114.0MB)\n",
            "\u001b[K    100% |████████████████████████████████| 114.0MB 318kB/s \n",
            "\u001b[?25hRequirement already satisfied: numpy in /usr/local/lib/python3.6/dist-packages (from xgboost) (1.14.6)\n",
            "Requirement already satisfied: scipy in /usr/local/lib/python3.6/dist-packages (from xgboost) (1.1.0)\n",
            "Installing collected packages: xgboost\n",
            "Successfully installed xgboost-0.82\n",
            "Uninstalling sklearn-0.0:\n",
            "  Would remove:\n",
            "    /usr/local/lib/python3.6/dist-packages/sklearn-0.0-py3.6.egg-info\n",
            "Proceed (y/n)? y\n",
            "  Successfully uninstalled sklearn-0.0\n",
            "Collecting sklearn\n",
            "  Downloading https://files.pythonhosted.org/packages/1e/7a/dbb3be0ce9bd5c8b7e3d87328e79063f8b263b2b1bfa4774cb1147bfcd3f/sklearn-0.0.tar.gz\n",
            "Requirement already satisfied: scikit-learn in /usr/local/lib/python3.6/dist-packages (from sklearn) (0.20.3)\n",
            "Requirement already satisfied: numpy>=1.8.2 in /usr/local/lib/python3.6/dist-packages (from scikit-learn->sklearn) (1.14.6)\n",
            "Requirement already satisfied: scipy>=0.13.3 in /usr/local/lib/python3.6/dist-packages (from scikit-learn->sklearn) (1.1.0)\n",
            "Building wheels for collected packages: sklearn\n",
            "  Building wheel for sklearn (setup.py) ... \u001b[?25ldone\n",
            "\u001b[?25h  Stored in directory: /root/.cache/pip/wheels/76/03/bb/589d421d27431bcd2c6da284d5f2286c8e3b2ea3cf1594c074\n",
            "Successfully built sklearn\n",
            "Installing collected packages: sklearn\n",
            "Successfully installed sklearn-0.0\n",
            "Collecting scikit-optimize\n",
            "\u001b[?25l  Downloading https://files.pythonhosted.org/packages/f4/44/60f82c97d1caa98752c7da2c1681cab5c7a390a0fdd3a55fac672b321cac/scikit_optimize-0.5.2-py2.py3-none-any.whl (74kB)\n",
            "\u001b[K    100% |████████████████████████████████| 81kB 3.2MB/s \n",
            "\u001b[?25hRequirement already satisfied: scikit-learn>=0.19.1 in /usr/local/lib/python3.6/dist-packages (from scikit-optimize) (0.20.3)\n",
            "Requirement already satisfied: scipy>=0.14.0 in /usr/local/lib/python3.6/dist-packages (from scikit-optimize) (1.1.0)\n",
            "Requirement already satisfied: numpy in /usr/local/lib/python3.6/dist-packages (from scikit-optimize) (1.14.6)\n",
            "Installing collected packages: scikit-optimize\n",
            "Successfully installed scikit-optimize-0.5.2\n"
          ],
          "name": "stdout"
        }
      ]
    },
    {
      "metadata": {
        "id": "7MWTbIxO4z7b",
        "colab_type": "code",
        "outputId": "544e8701-5934-45a5-d993-9a1174fd3489",
        "colab": {
          "base_uri": "https://localhost:8080/",
          "height": 36
        }
      },
      "cell_type": "code",
      "source": [
        "from google.colab import drive\n",
        "from keras.models import Sequential\n",
        "from keras.layers import Dense\n",
        "from sklearn.metrics import roc_auc_score\n",
        "import numpy as np\n",
        "from sklearn import svm\n",
        "from collections import Counter\n",
        "import pandas as pd\n",
        "from sklearn.preprocessing import MinMaxScaler\n",
        "from sklearn.preprocessing import StandardScaler\n",
        "import matplotlib.pyplot as plt\n",
        "import seaborn as sns\n",
        "import xgboost as xgb\n",
        "from sklearn.model_selection import train_test_split\n",
        "from sklearn.model_selection import StratifiedKFold\n",
        "from sklearn.model_selection import cross_val_score\n",
        "import time\n",
        "import statistics\n",
        "from sklearn.model_selection import GridSearchCV\n",
        "from xgboost.sklearn import XGBClassifier\n",
        "#from skopt import BayesSearchCV"
      ],
      "execution_count": 1,
      "outputs": [
        {
          "output_type": "stream",
          "text": [
            "Using TensorFlow backend.\n"
          ],
          "name": "stderr"
        }
      ]
    },
    {
      "metadata": {
        "id": "C3t9tcHK5nXL",
        "colab_type": "code",
        "outputId": "4b606cb8-3c5b-451e-cdae-23139551ffb5",
        "colab": {
          "base_uri": "https://localhost:8080/",
          "height": 130
        }
      },
      "cell_type": "code",
      "source": [
        "drive.mount('/content/gdrive')"
      ],
      "execution_count": 2,
      "outputs": [
        {
          "output_type": "stream",
          "text": [
            "Go to this URL in a browser: https://accounts.google.com/o/oauth2/auth?client_id=947318989803-6bn6qk8qdgf4n4g3pfee6491hc0brc4i.apps.googleusercontent.com&redirect_uri=urn%3Aietf%3Awg%3Aoauth%3A2.0%3Aoob&scope=email%20https%3A%2F%2Fwww.googleapis.com%2Fauth%2Fdocs.test%20https%3A%2F%2Fwww.googleapis.com%2Fauth%2Fdrive%20https%3A%2F%2Fwww.googleapis.com%2Fauth%2Fdrive.photos.readonly%20https%3A%2F%2Fwww.googleapis.com%2Fauth%2Fpeopleapi.readonly&response_type=code\n",
            "\n",
            "Enter your authorization code:\n",
            "··········\n",
            "Mounted at /content/gdrive\n"
          ],
          "name": "stdout"
        }
      ]
    },
    {
      "metadata": {
        "id": "bSWl-HfC67O4",
        "colab_type": "code",
        "colab": {}
      },
      "cell_type": "code",
      "source": [
        "import pandas as pd\n",
        "train_fn = '/content/gdrive/My Drive/santander_data/train.csv'\n",
        "valid_fn = '/content/gdrive/My Drive/santander_data/test.csv'\n",
        "pred_fn = '/content/gdrive/My Drive/santander_data/submission12.csv'\n",
        "train_data_df = pd.read_csv(train_fn)\n",
        "test_data_df = pd.read_csv(valid_fn)\n",
        "train_data_x = train_data_df.drop(columns=[\"ID_code\", \"target\"]).values\n",
        "train_data_y = train_data_df[\"target\"].values\n",
        "test_data_x = test_data_df.drop(columns=[\"ID_code\"]).values"
      ],
      "execution_count": 0,
      "outputs": []
    },
    {
      "metadata": {
        "id": "ryhAssnaGxyE",
        "colab_type": "text"
      },
      "cell_type": "markdown",
      "source": [
        "#Data preprocessing"
      ]
    },
    {
      "metadata": {
        "id": "bLGPHBrgG3cg",
        "colab_type": "text"
      },
      "cell_type": "markdown",
      "source": [
        "Check for missing values, which there are none"
      ]
    },
    {
      "metadata": {
        "id": "ZIxXOMKnG211",
        "colab_type": "code",
        "outputId": "0631b86d-004f-46ea-b5db-228a1e0f2710",
        "colab": {
          "base_uri": "https://localhost:8080/",
          "height": 36
        }
      },
      "cell_type": "code",
      "source": [
        "null_values = train_data_df.isnull().sum()\n",
        "sum(null_values > 0)"
      ],
      "execution_count": 0,
      "outputs": [
        {
          "output_type": "execute_result",
          "data": {
            "text/plain": [
              "0"
            ]
          },
          "metadata": {
            "tags": []
          },
          "execution_count": 5
        }
      ]
    },
    {
      "metadata": {
        "id": "Q4_fs61wH0-w",
        "colab_type": "text"
      },
      "cell_type": "markdown",
      "source": [
        "Check the datatypes of the features, there are 200, all are float64"
      ]
    },
    {
      "metadata": {
        "id": "BaGxG5TWH3ff",
        "colab_type": "code",
        "outputId": "c3542c56-5dd2-4fae-d247-12998c4e53ce",
        "colab": {
          "base_uri": "https://localhost:8080/",
          "height": 36
        }
      },
      "cell_type": "code",
      "source": [
        "types = train_data_df.dtypes\n",
        "sum(types == 'float64')"
      ],
      "execution_count": 0,
      "outputs": [
        {
          "output_type": "execute_result",
          "data": {
            "text/plain": [
              "200"
            ]
          },
          "metadata": {
            "tags": []
          },
          "execution_count": 6
        }
      ]
    },
    {
      "metadata": {
        "id": "znKS_cBVK1Yn",
        "colab_type": "text"
      },
      "cell_type": "markdown",
      "source": [
        "Scale the data between 0 and 1"
      ]
    },
    {
      "metadata": {
        "id": "GtZ0MptZK39F",
        "colab_type": "code",
        "outputId": "33ab6a1d-c9c7-4ec1-bc2a-575cbff5de0e",
        "colab": {
          "base_uri": "https://localhost:8080/",
          "height": 258
        }
      },
      "cell_type": "code",
      "source": [
        "scalerScaled = MinMaxScaler(feature_range=(0, 1))\n",
        "scaled_x = scalerScaled.fit_transform(train_data_x)\n",
        "scaled_x"
      ],
      "execution_count": 0,
      "outputs": [
        {
          "output_type": "execute_result",
          "data": {
            "text/plain": [
              "array([[0.42785307, 0.32482435, 0.56805853, ..., 0.43095798, 0.32765751,\n",
              "        0.56064496],\n",
              "       [0.55721218, 0.42863943, 0.6812351 , ..., 0.4682771 , 0.6095461 ,\n",
              "        0.60582746],\n",
              "       [0.41196889, 0.48377668, 0.57806091, ..., 0.38194973, 0.42583343,\n",
              "        0.58273586],\n",
              "       ...,\n",
              "       [0.5432771 , 0.39305749, 0.4870996 , ..., 0.45612437, 0.38087342,\n",
              "        0.63919915],\n",
              "       [0.46750324, 0.25309006, 0.66682332, ..., 0.67445942, 0.46661746,\n",
              "        0.37047369],\n",
              "       [0.5258457 , 0.36714503, 0.580254  , ..., 0.36840624, 0.29469964,\n",
              "        0.57890533]])"
            ]
          },
          "metadata": {
            "tags": []
          },
          "execution_count": 7
        }
      ]
    },
    {
      "metadata": {
        "id": "yZKMvVm8MJcY",
        "colab_type": "text"
      },
      "cell_type": "markdown",
      "source": [
        "Standardize the data to a standard normal gaussian distribution, assuming originally normal data"
      ]
    },
    {
      "metadata": {
        "id": "eFzBylIbMWal",
        "colab_type": "code",
        "outputId": "1942bb09-0eae-40df-e63c-889e08ea3519",
        "colab": {
          "base_uri": "https://localhost:8080/",
          "height": 258
        }
      },
      "cell_type": "code",
      "source": [
        "scalerStandard = StandardScaler().fit(train_data_x) \n",
        "standard_x = scalerStandard.transform(train_data_x) \n",
        "standard_x"
      ],
      "execution_count": 0,
      "outputs": [
        {
          "output_type": "execute_result",
          "data": {
            "text/plain": [
              "array([[-0.57710174, -1.27373702,  0.45170728, ..., -0.37396811,\n",
              "        -1.02639785,  0.21413482],\n",
              "       [ 0.26995857, -0.62213756,  1.19036045, ..., -0.12939961,\n",
              "         0.82541712,  0.50568523],\n",
              "       [-0.68111341, -0.2760664 ,  0.51698836, ..., -0.69514059,\n",
              "        -0.38144932,  0.35668144],\n",
              "       ...,\n",
              "       [ 0.17870987, -0.84546901, -0.07667568, ..., -0.20904171,\n",
              "        -0.67680579,  0.72102365],\n",
              "       [-0.31746727, -1.72398014,  1.09630117, ...,  1.22180338,\n",
              "        -0.11352617, -1.01298853],\n",
              "       [ 0.06456676, -1.00810962,  0.53130173, ..., -0.78389704,\n",
              "        -1.24290845,  0.33196403]])"
            ]
          },
          "metadata": {
            "tags": []
          },
          "execution_count": 8
        }
      ]
    },
    {
      "metadata": {
        "id": "Nb20GSGvNkfx",
        "colab_type": "text"
      },
      "cell_type": "markdown",
      "source": [
        "# Plotting"
      ]
    },
    {
      "metadata": {
        "id": "tkH7_WoroAL5",
        "colab_type": "code",
        "outputId": "7b5caad4-2086-4653-caeb-7e127e758026",
        "colab": {
          "base_uri": "https://localhost:8080/",
          "height": 36
        }
      },
      "cell_type": "code",
      "source": [
        "num_zeros = sum(train_data_y == 0)\n",
        "num_ones = 200000 - num_zeros\n",
        "num_zeros / 200000, num_ones / 200000"
      ],
      "execution_count": 0,
      "outputs": [
        {
          "output_type": "execute_result",
          "data": {
            "text/plain": [
              "(0.89951, 0.10049)"
            ]
          },
          "metadata": {
            "tags": []
          },
          "execution_count": 6
        }
      ]
    },
    {
      "metadata": {
        "id": "xYQG45CDNm6n",
        "colab_type": "code",
        "outputId": "70383b62-f2bc-4104-b2b6-288ad0dc3048",
        "colab": {
          "base_uri": "https://localhost:8080/",
          "height": 1108
        }
      },
      "cell_type": "code",
      "source": [
        "for i in range(0, 1):\n",
        "  sns.distplot(train_data_x[i])\n",
        "  plt.title(\"original data \" + str(i))\n",
        "  plt.figure()\n",
        "  sns.distplot(scaled_x[i])\n",
        "  plt.title(\"scaled data \" + str(i))\n",
        "  plt.figure()\n",
        "  sns.distplot(standard_x[i])\n",
        "  plt.title(\"standardized data \" + str(i))"
      ],
      "execution_count": 0,
      "outputs": [
        {
          "output_type": "stream",
          "text": [
            "/usr/local/lib/python3.6/dist-packages/matplotlib/axes/_axes.py:6521: MatplotlibDeprecationWarning: \n",
            "The 'normed' kwarg was deprecated in Matplotlib 2.1 and will be removed in 3.1. Use 'density' instead.\n",
            "  alternative=\"'density'\", removal=\"3.1\")\n"
          ],
          "name": "stderr"
        },
        {
          "output_type": "display_data",
          "data": {
            "image/png": "[encoded data removed]",
            "text/plain": [
              "<Figure size 576x396 with 1 Axes>"
            ]
          },
          "metadata": {
            "tags": []
          }
        },
        {
          "output_type": "display_data",
          "data": {
            "image/png": "[encoded data removed]",
            "text/plain": [
              "<Figure size 576x396 with 1 Axes>"
            ]
          },
          "metadata": {
            "tags": []
          }
        },
        {
          "output_type": "display_data",
          "data": {
            "image/png": "[encoded data removed]",
            "text/plain": [
              "<Figure size 576x396 with 1 Axes>"
            ]
          },
          "metadata": {
            "tags": []
          }
        }
      ]
    },
    {
      "metadata": {
        "id": "w6d3_tDgQdNs",
        "colab_type": "code",
        "outputId": "ca54ebc4-4260-4689-bd14-5e89f0011096",
        "colab": {
          "base_uri": "https://localhost:8080/",
          "height": 403
        }
      },
      "cell_type": "code",
      "source": [
        "for i in range(0, 1):\n",
        "  sns.distplot(train_data_x[i], label=\"original data\")\n",
        "  sns.distplot(scaled_x[i], label=\"scaled data\")\n",
        "  sns.distplot(standard_x[i], label=\"standardized data\")\n",
        "  plt.legend()"
      ],
      "execution_count": 0,
      "outputs": [
        {
          "output_type": "stream",
          "text": [
            "/usr/local/lib/python3.6/dist-packages/matplotlib/axes/_axes.py:6521: MatplotlibDeprecationWarning: \n",
            "The 'normed' kwarg was deprecated in Matplotlib 2.1 and will be removed in 3.1. Use 'density' instead.\n",
            "  alternative=\"'density'\", removal=\"3.1\")\n"
          ],
          "name": "stderr"
        },
        {
          "output_type": "display_data",
          "data": {
            "image/png": "[encoded data removed]",
            "text/plain": [
              "<Figure size 576x396 with 1 Axes>"
            ]
          },
          "metadata": {
            "tags": []
          }
        }
      ]
    },
    {
      "metadata": {
        "id": "PbnaaYiEMxdR",
        "colab_type": "code",
        "outputId": "e3298626-769b-4bb5-8bfa-eb6123ccb226",
        "colab": {
          "base_uri": "https://localhost:8080/",
          "height": 2012
        }
      },
      "cell_type": "code",
      "source": [
        "columns = train_data_df.columns.values\n",
        "col = columns[1]\n",
        "train_data_df[:100]"
      ],
      "execution_count": 0,
      "outputs": [
        {
          "output_type": "execute_result",
          "data": {
            "text/html": [
              "<div>\n",
              "<style scoped>\n",
              "    .dataframe tbody tr th:only-of-type {\n",
              "        vertical-align: middle;\n",
              "    }\n",
              "\n",
              "    .dataframe tbody tr th {\n",
              "        vertical-align: top;\n",
              "    }\n",
              "\n",
              "    .dataframe thead th {\n",
              "        text-align: right;\n",
              "    }\n",
              "</style>\n",
              "<table border=\"1\" class=\"dataframe\">\n",
              "  <thead>\n",
              "    <tr style=\"text-align: right;\">\n",
              "      <th></th>\n",
              "      <th>ID_code</th>\n",
              "      <th>target</th>\n",
              "      <th>var_0</th>\n",
              "      <th>var_1</th>\n",
              "      <th>var_2</th>\n",
              "      <th>var_3</th>\n",
              "      <th>var_4</th>\n",
              "      <th>var_5</th>\n",
              "      <th>var_6</th>\n",
              "      <th>var_7</th>\n",
              "      <th>...</th>\n",
              "      <th>var_190</th>\n",
              "      <th>var_191</th>\n",
              "      <th>var_192</th>\n",
              "      <th>var_193</th>\n",
              "      <th>var_194</th>\n",
              "      <th>var_195</th>\n",
              "      <th>var_196</th>\n",
              "      <th>var_197</th>\n",
              "      <th>var_198</th>\n",
              "      <th>var_199</th>\n",
              "    </tr>\n",
              "  </thead>\n",
              "  <tbody>\n",
              "    <tr>\n",
              "      <th>0</th>\n",
              "      <td>train_0</td>\n",
              "      <td>0</td>\n",
              "      <td>8.9255</td>\n",
              "      <td>-6.7863</td>\n",
              "      <td>11.9081</td>\n",
              "      <td>5.0930</td>\n",
              "      <td>11.4607</td>\n",
              "      <td>-9.2834</td>\n",
              "      <td>5.1187</td>\n",
              "      <td>18.6266</td>\n",
              "      <td>...</td>\n",
              "      <td>4.4354</td>\n",
              "      <td>3.9642</td>\n",
              "      <td>3.1364</td>\n",
              "      <td>1.6910</td>\n",
              "      <td>18.5227</td>\n",
              "      <td>-2.3978</td>\n",
              "      <td>7.8784</td>\n",
              "      <td>8.5635</td>\n",
              "      <td>12.7803</td>\n",
              "      <td>-1.0914</td>\n",
              "    </tr>\n",
              "    <tr>\n",
              "      <th>1</th>\n",
              "      <td>train_1</td>\n",
              "      <td>0</td>\n",
              "      <td>11.5006</td>\n",
              "      <td>-4.1473</td>\n",
              "      <td>13.8588</td>\n",
              "      <td>5.3890</td>\n",
              "      <td>12.3622</td>\n",
              "      <td>7.0433</td>\n",
              "      <td>5.6208</td>\n",
              "      <td>16.5338</td>\n",
              "      <td>...</td>\n",
              "      <td>7.6421</td>\n",
              "      <td>7.7214</td>\n",
              "      <td>2.5837</td>\n",
              "      <td>10.9516</td>\n",
              "      <td>15.4305</td>\n",
              "      <td>2.0339</td>\n",
              "      <td>8.1267</td>\n",
              "      <td>8.7889</td>\n",
              "      <td>18.3560</td>\n",
              "      <td>1.9518</td>\n",
              "    </tr>\n",
              "    <tr>\n",
              "      <th>2</th>\n",
              "      <td>train_2</td>\n",
              "      <td>0</td>\n",
              "      <td>8.6093</td>\n",
              "      <td>-2.7457</td>\n",
              "      <td>12.0805</td>\n",
              "      <td>7.8928</td>\n",
              "      <td>10.5825</td>\n",
              "      <td>-9.0837</td>\n",
              "      <td>6.9427</td>\n",
              "      <td>14.6155</td>\n",
              "      <td>...</td>\n",
              "      <td>2.9057</td>\n",
              "      <td>9.7905</td>\n",
              "      <td>1.6704</td>\n",
              "      <td>1.6858</td>\n",
              "      <td>21.6042</td>\n",
              "      <td>3.1417</td>\n",
              "      <td>-6.5213</td>\n",
              "      <td>8.2675</td>\n",
              "      <td>14.7222</td>\n",
              "      <td>0.3965</td>\n",
              "    </tr>\n",
              "    <tr>\n",
              "      <th>3</th>\n",
              "      <td>train_3</td>\n",
              "      <td>0</td>\n",
              "      <td>11.0604</td>\n",
              "      <td>-2.1518</td>\n",
              "      <td>8.9522</td>\n",
              "      <td>7.1957</td>\n",
              "      <td>12.5846</td>\n",
              "      <td>-1.8361</td>\n",
              "      <td>5.8428</td>\n",
              "      <td>14.9250</td>\n",
              "      <td>...</td>\n",
              "      <td>4.4666</td>\n",
              "      <td>4.7433</td>\n",
              "      <td>0.7178</td>\n",
              "      <td>1.4214</td>\n",
              "      <td>23.0347</td>\n",
              "      <td>-1.2706</td>\n",
              "      <td>-2.9275</td>\n",
              "      <td>10.2922</td>\n",
              "      <td>17.9697</td>\n",
              "      <td>-8.9996</td>\n",
              "    </tr>\n",
              "    <tr>\n",
              "      <th>4</th>\n",
              "      <td>train_4</td>\n",
              "      <td>0</td>\n",
              "      <td>9.8369</td>\n",
              "      <td>-1.4834</td>\n",
              "      <td>12.8746</td>\n",
              "      <td>6.6375</td>\n",
              "      <td>12.2772</td>\n",
              "      <td>2.4486</td>\n",
              "      <td>5.9405</td>\n",
              "      <td>19.2514</td>\n",
              "      <td>...</td>\n",
              "      <td>-1.4905</td>\n",
              "      <td>9.5214</td>\n",
              "      <td>-0.1508</td>\n",
              "      <td>9.1942</td>\n",
              "      <td>13.2876</td>\n",
              "      <td>-1.5121</td>\n",
              "      <td>3.9267</td>\n",
              "      <td>9.5031</td>\n",
              "      <td>17.9974</td>\n",
              "      <td>-8.8104</td>\n",
              "    </tr>\n",
              "    <tr>\n",
              "      <th>5</th>\n",
              "      <td>train_5</td>\n",
              "      <td>0</td>\n",
              "      <td>11.4763</td>\n",
              "      <td>-2.3182</td>\n",
              "      <td>12.6080</td>\n",
              "      <td>8.6264</td>\n",
              "      <td>10.9621</td>\n",
              "      <td>3.5609</td>\n",
              "      <td>4.5322</td>\n",
              "      <td>15.2255</td>\n",
              "      <td>...</td>\n",
              "      <td>-6.3068</td>\n",
              "      <td>6.6025</td>\n",
              "      <td>5.2912</td>\n",
              "      <td>0.4403</td>\n",
              "      <td>14.9452</td>\n",
              "      <td>1.0314</td>\n",
              "      <td>-3.6241</td>\n",
              "      <td>9.7670</td>\n",
              "      <td>12.5809</td>\n",
              "      <td>-4.7602</td>\n",
              "    </tr>\n",
              "    <tr>\n",
              "      <th>6</th>\n",
              "      <td>train_6</td>\n",
              "      <td>0</td>\n",
              "      <td>11.8091</td>\n",
              "      <td>-0.0832</td>\n",
              "      <td>9.3494</td>\n",
              "      <td>4.2916</td>\n",
              "      <td>11.1355</td>\n",
              "      <td>-8.0198</td>\n",
              "      <td>6.1961</td>\n",
              "      <td>12.0771</td>\n",
              "      <td>...</td>\n",
              "      <td>8.7830</td>\n",
              "      <td>6.4521</td>\n",
              "      <td>3.5325</td>\n",
              "      <td>0.1777</td>\n",
              "      <td>18.3314</td>\n",
              "      <td>0.5845</td>\n",
              "      <td>9.1104</td>\n",
              "      <td>9.1143</td>\n",
              "      <td>10.8869</td>\n",
              "      <td>-3.2097</td>\n",
              "    </tr>\n",
              "    <tr>\n",
              "      <th>7</th>\n",
              "      <td>train_7</td>\n",
              "      <td>0</td>\n",
              "      <td>13.5580</td>\n",
              "      <td>-7.9881</td>\n",
              "      <td>13.8776</td>\n",
              "      <td>7.5985</td>\n",
              "      <td>8.6543</td>\n",
              "      <td>0.8310</td>\n",
              "      <td>5.6890</td>\n",
              "      <td>22.3262</td>\n",
              "      <td>...</td>\n",
              "      <td>13.1700</td>\n",
              "      <td>6.5491</td>\n",
              "      <td>3.9906</td>\n",
              "      <td>5.8061</td>\n",
              "      <td>23.1407</td>\n",
              "      <td>-0.3776</td>\n",
              "      <td>4.2178</td>\n",
              "      <td>9.4237</td>\n",
              "      <td>8.6624</td>\n",
              "      <td>3.4806</td>\n",
              "    </tr>\n",
              "    <tr>\n",
              "      <th>8</th>\n",
              "      <td>train_8</td>\n",
              "      <td>0</td>\n",
              "      <td>16.1071</td>\n",
              "      <td>2.4426</td>\n",
              "      <td>13.9307</td>\n",
              "      <td>5.6327</td>\n",
              "      <td>8.8014</td>\n",
              "      <td>6.1630</td>\n",
              "      <td>4.4514</td>\n",
              "      <td>10.1854</td>\n",
              "      <td>...</td>\n",
              "      <td>1.4298</td>\n",
              "      <td>14.7510</td>\n",
              "      <td>1.6395</td>\n",
              "      <td>1.4181</td>\n",
              "      <td>14.8370</td>\n",
              "      <td>-1.9940</td>\n",
              "      <td>-1.0733</td>\n",
              "      <td>8.1975</td>\n",
              "      <td>19.5114</td>\n",
              "      <td>4.8453</td>\n",
              "    </tr>\n",
              "    <tr>\n",
              "      <th>9</th>\n",
              "      <td>train_9</td>\n",
              "      <td>0</td>\n",
              "      <td>12.5088</td>\n",
              "      <td>1.9743</td>\n",
              "      <td>8.8960</td>\n",
              "      <td>5.4508</td>\n",
              "      <td>13.6043</td>\n",
              "      <td>-16.2859</td>\n",
              "      <td>6.0637</td>\n",
              "      <td>16.8410</td>\n",
              "      <td>...</td>\n",
              "      <td>0.5543</td>\n",
              "      <td>6.3160</td>\n",
              "      <td>1.0371</td>\n",
              "      <td>3.6885</td>\n",
              "      <td>14.8344</td>\n",
              "      <td>0.4467</td>\n",
              "      <td>14.1287</td>\n",
              "      <td>7.9133</td>\n",
              "      <td>16.2375</td>\n",
              "      <td>14.2514</td>\n",
              "    </tr>\n",
              "    <tr>\n",
              "      <th>10</th>\n",
              "      <td>train_10</td>\n",
              "      <td>0</td>\n",
              "      <td>5.0702</td>\n",
              "      <td>-0.5447</td>\n",
              "      <td>9.5900</td>\n",
              "      <td>4.2987</td>\n",
              "      <td>12.3910</td>\n",
              "      <td>-18.8687</td>\n",
              "      <td>6.0382</td>\n",
              "      <td>14.3797</td>\n",
              "      <td>...</td>\n",
              "      <td>7.2780</td>\n",
              "      <td>8.0819</td>\n",
              "      <td>0.2139</td>\n",
              "      <td>-0.0761</td>\n",
              "      <td>14.9585</td>\n",
              "      <td>-1.2160</td>\n",
              "      <td>6.6576</td>\n",
              "      <td>9.2553</td>\n",
              "      <td>14.2914</td>\n",
              "      <td>-7.6652</td>\n",
              "    </tr>\n",
              "    <tr>\n",
              "      <th>11</th>\n",
              "      <td>train_11</td>\n",
              "      <td>0</td>\n",
              "      <td>12.7188</td>\n",
              "      <td>-7.9750</td>\n",
              "      <td>10.3757</td>\n",
              "      <td>9.0101</td>\n",
              "      <td>12.8570</td>\n",
              "      <td>-12.0852</td>\n",
              "      <td>5.6464</td>\n",
              "      <td>11.8370</td>\n",
              "      <td>...</td>\n",
              "      <td>-0.8901</td>\n",
              "      <td>2.6559</td>\n",
              "      <td>-0.0503</td>\n",
              "      <td>5.5946</td>\n",
              "      <td>13.6152</td>\n",
              "      <td>2.4058</td>\n",
              "      <td>-1.7183</td>\n",
              "      <td>9.6745</td>\n",
              "      <td>16.7498</td>\n",
              "      <td>-3.9728</td>\n",
              "    </tr>\n",
              "    <tr>\n",
              "      <th>12</th>\n",
              "      <td>train_12</td>\n",
              "      <td>0</td>\n",
              "      <td>8.7671</td>\n",
              "      <td>-4.6154</td>\n",
              "      <td>9.7242</td>\n",
              "      <td>7.4242</td>\n",
              "      <td>9.0254</td>\n",
              "      <td>1.4247</td>\n",
              "      <td>6.2815</td>\n",
              "      <td>12.3143</td>\n",
              "      <td>...</td>\n",
              "      <td>0.3782</td>\n",
              "      <td>7.4382</td>\n",
              "      <td>0.0854</td>\n",
              "      <td>1.3444</td>\n",
              "      <td>17.2439</td>\n",
              "      <td>-0.0798</td>\n",
              "      <td>5.7389</td>\n",
              "      <td>8.4897</td>\n",
              "      <td>17.0938</td>\n",
              "      <td>4.6106</td>\n",
              "    </tr>\n",
              "    <tr>\n",
              "      <th>13</th>\n",
              "      <td>train_13</td>\n",
              "      <td>1</td>\n",
              "      <td>16.3699</td>\n",
              "      <td>1.5934</td>\n",
              "      <td>16.7395</td>\n",
              "      <td>7.3330</td>\n",
              "      <td>12.1450</td>\n",
              "      <td>5.9004</td>\n",
              "      <td>4.8222</td>\n",
              "      <td>20.9729</td>\n",
              "      <td>...</td>\n",
              "      <td>7.4002</td>\n",
              "      <td>7.4031</td>\n",
              "      <td>4.3989</td>\n",
              "      <td>4.0978</td>\n",
              "      <td>17.3638</td>\n",
              "      <td>-1.3022</td>\n",
              "      <td>9.6846</td>\n",
              "      <td>9.0419</td>\n",
              "      <td>15.6064</td>\n",
              "      <td>-10.8529</td>\n",
              "    </tr>\n",
              "    <tr>\n",
              "      <th>14</th>\n",
              "      <td>train_14</td>\n",
              "      <td>0</td>\n",
              "      <td>13.8080</td>\n",
              "      <td>5.0514</td>\n",
              "      <td>17.2611</td>\n",
              "      <td>8.5120</td>\n",
              "      <td>12.8517</td>\n",
              "      <td>-9.1622</td>\n",
              "      <td>5.7327</td>\n",
              "      <td>21.0517</td>\n",
              "      <td>...</td>\n",
              "      <td>1.0740</td>\n",
              "      <td>8.3220</td>\n",
              "      <td>3.2619</td>\n",
              "      <td>1.6738</td>\n",
              "      <td>17.4797</td>\n",
              "      <td>-0.0257</td>\n",
              "      <td>-3.5323</td>\n",
              "      <td>9.3439</td>\n",
              "      <td>24.4479</td>\n",
              "      <td>-5.1110</td>\n",
              "    </tr>\n",
              "    <tr>\n",
              "      <th>15</th>\n",
              "      <td>train_15</td>\n",
              "      <td>0</td>\n",
              "      <td>3.9416</td>\n",
              "      <td>2.6562</td>\n",
              "      <td>13.3633</td>\n",
              "      <td>6.8895</td>\n",
              "      <td>12.2806</td>\n",
              "      <td>-16.1620</td>\n",
              "      <td>5.6979</td>\n",
              "      <td>14.4573</td>\n",
              "      <td>...</td>\n",
              "      <td>-3.4195</td>\n",
              "      <td>0.8829</td>\n",
              "      <td>-1.9859</td>\n",
              "      <td>3.9905</td>\n",
              "      <td>22.4647</td>\n",
              "      <td>0.5129</td>\n",
              "      <td>6.5273</td>\n",
              "      <td>8.2899</td>\n",
              "      <td>12.9116</td>\n",
              "      <td>-4.9182</td>\n",
              "    </tr>\n",
              "    <tr>\n",
              "      <th>16</th>\n",
              "      <td>train_16</td>\n",
              "      <td>0</td>\n",
              "      <td>5.0615</td>\n",
              "      <td>0.2689</td>\n",
              "      <td>15.1325</td>\n",
              "      <td>3.6587</td>\n",
              "      <td>13.5276</td>\n",
              "      <td>-6.5477</td>\n",
              "      <td>5.2757</td>\n",
              "      <td>9.8710</td>\n",
              "      <td>...</td>\n",
              "      <td>0.2717</td>\n",
              "      <td>7.2854</td>\n",
              "      <td>0.5670</td>\n",
              "      <td>8.1822</td>\n",
              "      <td>19.5616</td>\n",
              "      <td>0.4365</td>\n",
              "      <td>-3.4975</td>\n",
              "      <td>8.6367</td>\n",
              "      <td>20.2548</td>\n",
              "      <td>11.1524</td>\n",
              "    </tr>\n",
              "    <tr>\n",
              "      <th>17</th>\n",
              "      <td>train_17</td>\n",
              "      <td>0</td>\n",
              "      <td>8.4199</td>\n",
              "      <td>-1.8128</td>\n",
              "      <td>8.1202</td>\n",
              "      <td>5.3955</td>\n",
              "      <td>9.7184</td>\n",
              "      <td>-17.8390</td>\n",
              "      <td>4.0959</td>\n",
              "      <td>15.2860</td>\n",
              "      <td>...</td>\n",
              "      <td>7.4363</td>\n",
              "      <td>11.3072</td>\n",
              "      <td>3.7903</td>\n",
              "      <td>0.0290</td>\n",
              "      <td>16.2954</td>\n",
              "      <td>0.1470</td>\n",
              "      <td>8.9603</td>\n",
              "      <td>9.4560</td>\n",
              "      <td>19.4505</td>\n",
              "      <td>-5.2407</td>\n",
              "    </tr>\n",
              "    <tr>\n",
              "      <th>18</th>\n",
              "      <td>train_18</td>\n",
              "      <td>0</td>\n",
              "      <td>4.8750</td>\n",
              "      <td>1.2646</td>\n",
              "      <td>11.9190</td>\n",
              "      <td>8.4650</td>\n",
              "      <td>10.7203</td>\n",
              "      <td>-0.6707</td>\n",
              "      <td>5.6103</td>\n",
              "      <td>16.4661</td>\n",
              "      <td>...</td>\n",
              "      <td>9.1843</td>\n",
              "      <td>2.6812</td>\n",
              "      <td>1.8587</td>\n",
              "      <td>4.6929</td>\n",
              "      <td>16.0916</td>\n",
              "      <td>-1.5336</td>\n",
              "      <td>-4.0958</td>\n",
              "      <td>8.5873</td>\n",
              "      <td>17.1516</td>\n",
              "      <td>-22.1940</td>\n",
              "    </tr>\n",
              "    <tr>\n",
              "      <th>19</th>\n",
              "      <td>train_19</td>\n",
              "      <td>0</td>\n",
              "      <td>4.4090</td>\n",
              "      <td>-0.7863</td>\n",
              "      <td>15.1828</td>\n",
              "      <td>8.0631</td>\n",
              "      <td>11.2831</td>\n",
              "      <td>-0.7356</td>\n",
              "      <td>6.3801</td>\n",
              "      <td>16.0218</td>\n",
              "      <td>...</td>\n",
              "      <td>5.9745</td>\n",
              "      <td>6.3267</td>\n",
              "      <td>2.5156</td>\n",
              "      <td>8.9878</td>\n",
              "      <td>16.0550</td>\n",
              "      <td>-2.1962</td>\n",
              "      <td>8.3985</td>\n",
              "      <td>9.1711</td>\n",
              "      <td>14.7352</td>\n",
              "      <td>3.9133</td>\n",
              "    </tr>\n",
              "    <tr>\n",
              "      <th>20</th>\n",
              "      <td>train_20</td>\n",
              "      <td>0</td>\n",
              "      <td>12.6700</td>\n",
              "      <td>-2.0221</td>\n",
              "      <td>6.8930</td>\n",
              "      <td>6.9152</td>\n",
              "      <td>9.5677</td>\n",
              "      <td>-11.2672</td>\n",
              "      <td>5.6061</td>\n",
              "      <td>16.2354</td>\n",
              "      <td>...</td>\n",
              "      <td>0.9841</td>\n",
              "      <td>5.7383</td>\n",
              "      <td>-0.1349</td>\n",
              "      <td>2.7194</td>\n",
              "      <td>13.8326</td>\n",
              "      <td>0.5365</td>\n",
              "      <td>9.1935</td>\n",
              "      <td>8.2176</td>\n",
              "      <td>22.4754</td>\n",
              "      <td>-19.9444</td>\n",
              "    </tr>\n",
              "    <tr>\n",
              "      <th>21</th>\n",
              "      <td>train_21</td>\n",
              "      <td>0</td>\n",
              "      <td>8.3918</td>\n",
              "      <td>1.4806</td>\n",
              "      <td>12.9804</td>\n",
              "      <td>7.5538</td>\n",
              "      <td>11.1531</td>\n",
              "      <td>-14.7776</td>\n",
              "      <td>5.9987</td>\n",
              "      <td>15.5148</td>\n",
              "      <td>...</td>\n",
              "      <td>-0.0412</td>\n",
              "      <td>5.5717</td>\n",
              "      <td>0.7519</td>\n",
              "      <td>5.7839</td>\n",
              "      <td>23.1155</td>\n",
              "      <td>-1.2740</td>\n",
              "      <td>2.0738</td>\n",
              "      <td>7.7761</td>\n",
              "      <td>17.4662</td>\n",
              "      <td>11.3979</td>\n",
              "    </tr>\n",
              "    <tr>\n",
              "      <th>22</th>\n",
              "      <td>train_22</td>\n",
              "      <td>0</td>\n",
              "      <td>10.2031</td>\n",
              "      <td>0.1925</td>\n",
              "      <td>14.0238</td>\n",
              "      <td>7.0345</td>\n",
              "      <td>11.8514</td>\n",
              "      <td>13.8830</td>\n",
              "      <td>6.4040</td>\n",
              "      <td>18.0058</td>\n",
              "      <td>...</td>\n",
              "      <td>1.7022</td>\n",
              "      <td>5.4938</td>\n",
              "      <td>-0.3317</td>\n",
              "      <td>3.3474</td>\n",
              "      <td>11.2204</td>\n",
              "      <td>0.9371</td>\n",
              "      <td>-7.5486</td>\n",
              "      <td>9.5064</td>\n",
              "      <td>8.7281</td>\n",
              "      <td>-25.6523</td>\n",
              "    </tr>\n",
              "    <tr>\n",
              "      <th>23</th>\n",
              "      <td>train_23</td>\n",
              "      <td>0</td>\n",
              "      <td>15.0029</td>\n",
              "      <td>-9.3439</td>\n",
              "      <td>10.3790</td>\n",
              "      <td>8.3226</td>\n",
              "      <td>13.0204</td>\n",
              "      <td>-5.0744</td>\n",
              "      <td>5.2489</td>\n",
              "      <td>11.6845</td>\n",
              "      <td>...</td>\n",
              "      <td>2.9210</td>\n",
              "      <td>4.3916</td>\n",
              "      <td>5.2208</td>\n",
              "      <td>1.3458</td>\n",
              "      <td>18.2940</td>\n",
              "      <td>2.3865</td>\n",
              "      <td>-3.7144</td>\n",
              "      <td>9.4714</td>\n",
              "      <td>12.8480</td>\n",
              "      <td>-10.0357</td>\n",
              "    </tr>\n",
              "    <tr>\n",
              "      <th>24</th>\n",
              "      <td>train_24</td>\n",
              "      <td>0</td>\n",
              "      <td>5.9240</td>\n",
              "      <td>-3.7285</td>\n",
              "      <td>11.0995</td>\n",
              "      <td>4.6969</td>\n",
              "      <td>11.7363</td>\n",
              "      <td>-20.4102</td>\n",
              "      <td>5.8125</td>\n",
              "      <td>15.9027</td>\n",
              "      <td>...</td>\n",
              "      <td>-1.3390</td>\n",
              "      <td>8.4943</td>\n",
              "      <td>0.7899</td>\n",
              "      <td>4.3212</td>\n",
              "      <td>17.2716</td>\n",
              "      <td>-0.9999</td>\n",
              "      <td>10.0978</td>\n",
              "      <td>10.2561</td>\n",
              "      <td>14.3032</td>\n",
              "      <td>2.0897</td>\n",
              "    </tr>\n",
              "    <tr>\n",
              "      <th>25</th>\n",
              "      <td>train_25</td>\n",
              "      <td>0</td>\n",
              "      <td>8.2703</td>\n",
              "      <td>-5.6854</td>\n",
              "      <td>12.6862</td>\n",
              "      <td>7.2755</td>\n",
              "      <td>12.3713</td>\n",
              "      <td>-7.7521</td>\n",
              "      <td>6.7252</td>\n",
              "      <td>18.4270</td>\n",
              "      <td>...</td>\n",
              "      <td>11.3979</td>\n",
              "      <td>5.9191</td>\n",
              "      <td>0.6406</td>\n",
              "      <td>5.0184</td>\n",
              "      <td>21.3216</td>\n",
              "      <td>-2.9616</td>\n",
              "      <td>5.7994</td>\n",
              "      <td>9.5360</td>\n",
              "      <td>17.8582</td>\n",
              "      <td>-3.3911</td>\n",
              "    </tr>\n",
              "    <tr>\n",
              "      <th>26</th>\n",
              "      <td>train_26</td>\n",
              "      <td>0</td>\n",
              "      <td>15.6567</td>\n",
              "      <td>-4.4950</td>\n",
              "      <td>10.4867</td>\n",
              "      <td>3.8187</td>\n",
              "      <td>8.8813</td>\n",
              "      <td>-6.0295</td>\n",
              "      <td>5.5224</td>\n",
              "      <td>17.6964</td>\n",
              "      <td>...</td>\n",
              "      <td>5.3764</td>\n",
              "      <td>11.9099</td>\n",
              "      <td>0.7651</td>\n",
              "      <td>6.9705</td>\n",
              "      <td>24.1729</td>\n",
              "      <td>-1.8420</td>\n",
              "      <td>3.4319</td>\n",
              "      <td>7.8821</td>\n",
              "      <td>19.3055</td>\n",
              "      <td>-7.5090</td>\n",
              "    </tr>\n",
              "    <tr>\n",
              "      <th>27</th>\n",
              "      <td>train_27</td>\n",
              "      <td>0</td>\n",
              "      <td>10.7166</td>\n",
              "      <td>-9.9800</td>\n",
              "      <td>10.9569</td>\n",
              "      <td>6.7660</td>\n",
              "      <td>10.6803</td>\n",
              "      <td>-12.9329</td>\n",
              "      <td>4.5012</td>\n",
              "      <td>17.3841</td>\n",
              "      <td>...</td>\n",
              "      <td>3.4066</td>\n",
              "      <td>8.8651</td>\n",
              "      <td>1.5951</td>\n",
              "      <td>3.0979</td>\n",
              "      <td>15.7978</td>\n",
              "      <td>2.6332</td>\n",
              "      <td>9.0833</td>\n",
              "      <td>7.9933</td>\n",
              "      <td>20.2128</td>\n",
              "      <td>-1.7144</td>\n",
              "    </tr>\n",
              "    <tr>\n",
              "      <th>28</th>\n",
              "      <td>train_28</td>\n",
              "      <td>0</td>\n",
              "      <td>7.8010</td>\n",
              "      <td>4.5262</td>\n",
              "      <td>8.9291</td>\n",
              "      <td>8.4884</td>\n",
              "      <td>12.8435</td>\n",
              "      <td>-1.2632</td>\n",
              "      <td>5.0383</td>\n",
              "      <td>13.6339</td>\n",
              "      <td>...</td>\n",
              "      <td>6.7745</td>\n",
              "      <td>3.0204</td>\n",
              "      <td>0.5552</td>\n",
              "      <td>9.3177</td>\n",
              "      <td>21.0586</td>\n",
              "      <td>0.7162</td>\n",
              "      <td>-3.3638</td>\n",
              "      <td>9.8715</td>\n",
              "      <td>14.0120</td>\n",
              "      <td>-4.5997</td>\n",
              "    </tr>\n",
              "    <tr>\n",
              "      <th>29</th>\n",
              "      <td>train_29</td>\n",
              "      <td>1</td>\n",
              "      <td>5.3301</td>\n",
              "      <td>-2.6064</td>\n",
              "      <td>13.1913</td>\n",
              "      <td>3.1193</td>\n",
              "      <td>6.6483</td>\n",
              "      <td>-6.5659</td>\n",
              "      <td>5.9064</td>\n",
              "      <td>15.2341</td>\n",
              "      <td>...</td>\n",
              "      <td>5.9215</td>\n",
              "      <td>7.9676</td>\n",
              "      <td>2.3405</td>\n",
              "      <td>1.1482</td>\n",
              "      <td>23.2168</td>\n",
              "      <td>-2.0105</td>\n",
              "      <td>3.7600</td>\n",
              "      <td>9.4513</td>\n",
              "      <td>17.4105</td>\n",
              "      <td>-14.6897</td>\n",
              "    </tr>\n",
              "    <tr>\n",
              "      <th>...</th>\n",
              "      <td>...</td>\n",
              "      <td>...</td>\n",
              "      <td>...</td>\n",
              "      <td>...</td>\n",
              "      <td>...</td>\n",
              "      <td>...</td>\n",
              "      <td>...</td>\n",
              "      <td>...</td>\n",
              "      <td>...</td>\n",
              "      <td>...</td>\n",
              "      <td>...</td>\n",
              "      <td>...</td>\n",
              "      <td>...</td>\n",
              "      <td>...</td>\n",
              "      <td>...</td>\n",
              "      <td>...</td>\n",
              "      <td>...</td>\n",
              "      <td>...</td>\n",
              "      <td>...</td>\n",
              "      <td>...</td>\n",
              "      <td>...</td>\n",
              "    </tr>\n",
              "    <tr>\n",
              "      <th>70</th>\n",
              "      <td>train_70</td>\n",
              "      <td>0</td>\n",
              "      <td>11.0572</td>\n",
              "      <td>4.9317</td>\n",
              "      <td>16.1071</td>\n",
              "      <td>5.2469</td>\n",
              "      <td>12.5122</td>\n",
              "      <td>-8.8035</td>\n",
              "      <td>6.3291</td>\n",
              "      <td>23.0985</td>\n",
              "      <td>...</td>\n",
              "      <td>-1.6759</td>\n",
              "      <td>6.7079</td>\n",
              "      <td>0.1553</td>\n",
              "      <td>8.4072</td>\n",
              "      <td>14.8823</td>\n",
              "      <td>0.1872</td>\n",
              "      <td>7.7205</td>\n",
              "      <td>9.3708</td>\n",
              "      <td>16.5743</td>\n",
              "      <td>15.4439</td>\n",
              "    </tr>\n",
              "    <tr>\n",
              "      <th>71</th>\n",
              "      <td>train_71</td>\n",
              "      <td>1</td>\n",
              "      <td>6.7547</td>\n",
              "      <td>2.5973</td>\n",
              "      <td>14.2141</td>\n",
              "      <td>8.3514</td>\n",
              "      <td>7.4942</td>\n",
              "      <td>-1.3055</td>\n",
              "      <td>4.2336</td>\n",
              "      <td>15.0243</td>\n",
              "      <td>...</td>\n",
              "      <td>1.4677</td>\n",
              "      <td>3.5935</td>\n",
              "      <td>2.0013</td>\n",
              "      <td>1.5777</td>\n",
              "      <td>18.2820</td>\n",
              "      <td>-4.3408</td>\n",
              "      <td>6.8869</td>\n",
              "      <td>9.3567</td>\n",
              "      <td>18.9013</td>\n",
              "      <td>13.3447</td>\n",
              "    </tr>\n",
              "    <tr>\n",
              "      <th>72</th>\n",
              "      <td>train_72</td>\n",
              "      <td>1</td>\n",
              "      <td>8.6470</td>\n",
              "      <td>0.4462</td>\n",
              "      <td>10.9808</td>\n",
              "      <td>10.1859</td>\n",
              "      <td>13.9121</td>\n",
              "      <td>-16.4645</td>\n",
              "      <td>5.2837</td>\n",
              "      <td>13.8396</td>\n",
              "      <td>...</td>\n",
              "      <td>6.6004</td>\n",
              "      <td>13.0969</td>\n",
              "      <td>2.2437</td>\n",
              "      <td>0.6260</td>\n",
              "      <td>23.4572</td>\n",
              "      <td>0.3117</td>\n",
              "      <td>8.1634</td>\n",
              "      <td>7.9248</td>\n",
              "      <td>10.5462</td>\n",
              "      <td>-17.8708</td>\n",
              "    </tr>\n",
              "    <tr>\n",
              "      <th>73</th>\n",
              "      <td>train_73</td>\n",
              "      <td>0</td>\n",
              "      <td>4.3854</td>\n",
              "      <td>-3.0492</td>\n",
              "      <td>7.9060</td>\n",
              "      <td>7.1738</td>\n",
              "      <td>12.9287</td>\n",
              "      <td>2.5846</td>\n",
              "      <td>4.7129</td>\n",
              "      <td>10.0367</td>\n",
              "      <td>...</td>\n",
              "      <td>-0.6457</td>\n",
              "      <td>8.7259</td>\n",
              "      <td>4.2191</td>\n",
              "      <td>6.0633</td>\n",
              "      <td>14.1530</td>\n",
              "      <td>-0.9792</td>\n",
              "      <td>8.8101</td>\n",
              "      <td>8.7719</td>\n",
              "      <td>13.8564</td>\n",
              "      <td>-6.2063</td>\n",
              "    </tr>\n",
              "    <tr>\n",
              "      <th>74</th>\n",
              "      <td>train_74</td>\n",
              "      <td>0</td>\n",
              "      <td>5.4386</td>\n",
              "      <td>2.4679</td>\n",
              "      <td>10.0766</td>\n",
              "      <td>4.4916</td>\n",
              "      <td>10.8987</td>\n",
              "      <td>-0.5161</td>\n",
              "      <td>5.9401</td>\n",
              "      <td>14.1194</td>\n",
              "      <td>...</td>\n",
              "      <td>-3.8850</td>\n",
              "      <td>4.7890</td>\n",
              "      <td>-0.5674</td>\n",
              "      <td>6.3509</td>\n",
              "      <td>15.3483</td>\n",
              "      <td>-0.0128</td>\n",
              "      <td>4.6483</td>\n",
              "      <td>9.4707</td>\n",
              "      <td>19.8155</td>\n",
              "      <td>10.3066</td>\n",
              "    </tr>\n",
              "    <tr>\n",
              "      <th>75</th>\n",
              "      <td>train_75</td>\n",
              "      <td>0</td>\n",
              "      <td>16.7218</td>\n",
              "      <td>-3.1693</td>\n",
              "      <td>12.8215</td>\n",
              "      <td>7.9725</td>\n",
              "      <td>12.0685</td>\n",
              "      <td>-1.1816</td>\n",
              "      <td>4.7701</td>\n",
              "      <td>25.5929</td>\n",
              "      <td>...</td>\n",
              "      <td>-5.4970</td>\n",
              "      <td>5.6385</td>\n",
              "      <td>5.3761</td>\n",
              "      <td>3.5912</td>\n",
              "      <td>15.1097</td>\n",
              "      <td>-1.0483</td>\n",
              "      <td>13.7565</td>\n",
              "      <td>9.0890</td>\n",
              "      <td>16.7629</td>\n",
              "      <td>-4.7062</td>\n",
              "    </tr>\n",
              "    <tr>\n",
              "      <th>76</th>\n",
              "      <td>train_76</td>\n",
              "      <td>0</td>\n",
              "      <td>11.6292</td>\n",
              "      <td>2.7266</td>\n",
              "      <td>15.3545</td>\n",
              "      <td>4.6228</td>\n",
              "      <td>9.9694</td>\n",
              "      <td>-6.7278</td>\n",
              "      <td>4.8686</td>\n",
              "      <td>17.0387</td>\n",
              "      <td>...</td>\n",
              "      <td>3.9306</td>\n",
              "      <td>8.8879</td>\n",
              "      <td>3.9738</td>\n",
              "      <td>-2.1806</td>\n",
              "      <td>14.5523</td>\n",
              "      <td>-0.3450</td>\n",
              "      <td>1.1057</td>\n",
              "      <td>7.7753</td>\n",
              "      <td>15.6351</td>\n",
              "      <td>11.2658</td>\n",
              "    </tr>\n",
              "    <tr>\n",
              "      <th>77</th>\n",
              "      <td>train_77</td>\n",
              "      <td>0</td>\n",
              "      <td>6.2490</td>\n",
              "      <td>-7.0444</td>\n",
              "      <td>9.1275</td>\n",
              "      <td>4.8729</td>\n",
              "      <td>14.3284</td>\n",
              "      <td>11.6113</td>\n",
              "      <td>6.2982</td>\n",
              "      <td>17.6546</td>\n",
              "      <td>...</td>\n",
              "      <td>11.6254</td>\n",
              "      <td>6.0345</td>\n",
              "      <td>1.4598</td>\n",
              "      <td>-0.5816</td>\n",
              "      <td>19.6094</td>\n",
              "      <td>1.2655</td>\n",
              "      <td>3.3123</td>\n",
              "      <td>8.3121</td>\n",
              "      <td>14.1674</td>\n",
              "      <td>-3.1680</td>\n",
              "    </tr>\n",
              "    <tr>\n",
              "      <th>78</th>\n",
              "      <td>train_78</td>\n",
              "      <td>0</td>\n",
              "      <td>10.5728</td>\n",
              "      <td>-8.6717</td>\n",
              "      <td>9.6252</td>\n",
              "      <td>11.5860</td>\n",
              "      <td>12.0335</td>\n",
              "      <td>4.1500</td>\n",
              "      <td>6.1518</td>\n",
              "      <td>14.8799</td>\n",
              "      <td>...</td>\n",
              "      <td>10.3115</td>\n",
              "      <td>3.0401</td>\n",
              "      <td>4.1865</td>\n",
              "      <td>3.8891</td>\n",
              "      <td>18.7741</td>\n",
              "      <td>-0.0962</td>\n",
              "      <td>1.5313</td>\n",
              "      <td>9.7998</td>\n",
              "      <td>17.0162</td>\n",
              "      <td>-3.8005</td>\n",
              "    </tr>\n",
              "    <tr>\n",
              "      <th>79</th>\n",
              "      <td>train_79</td>\n",
              "      <td>0</td>\n",
              "      <td>6.1618</td>\n",
              "      <td>0.4555</td>\n",
              "      <td>9.5015</td>\n",
              "      <td>11.4378</td>\n",
              "      <td>11.0376</td>\n",
              "      <td>0.9258</td>\n",
              "      <td>5.8153</td>\n",
              "      <td>19.8228</td>\n",
              "      <td>...</td>\n",
              "      <td>4.6229</td>\n",
              "      <td>5.7358</td>\n",
              "      <td>1.1213</td>\n",
              "      <td>3.8119</td>\n",
              "      <td>21.3034</td>\n",
              "      <td>-0.7575</td>\n",
              "      <td>7.7652</td>\n",
              "      <td>8.5641</td>\n",
              "      <td>18.4864</td>\n",
              "      <td>-0.1298</td>\n",
              "    </tr>\n",
              "    <tr>\n",
              "      <th>80</th>\n",
              "      <td>train_80</td>\n",
              "      <td>0</td>\n",
              "      <td>8.7099</td>\n",
              "      <td>-5.1212</td>\n",
              "      <td>10.8110</td>\n",
              "      <td>6.6057</td>\n",
              "      <td>10.4421</td>\n",
              "      <td>6.2781</td>\n",
              "      <td>5.5290</td>\n",
              "      <td>17.6003</td>\n",
              "      <td>...</td>\n",
              "      <td>1.9419</td>\n",
              "      <td>4.1740</td>\n",
              "      <td>2.8890</td>\n",
              "      <td>-1.1348</td>\n",
              "      <td>18.9417</td>\n",
              "      <td>-0.2624</td>\n",
              "      <td>3.5638</td>\n",
              "      <td>7.9271</td>\n",
              "      <td>16.3169</td>\n",
              "      <td>-21.7549</td>\n",
              "    </tr>\n",
              "    <tr>\n",
              "      <th>81</th>\n",
              "      <td>train_81</td>\n",
              "      <td>0</td>\n",
              "      <td>10.9530</td>\n",
              "      <td>-2.8298</td>\n",
              "      <td>9.5196</td>\n",
              "      <td>8.4771</td>\n",
              "      <td>9.0253</td>\n",
              "      <td>-3.1710</td>\n",
              "      <td>6.2410</td>\n",
              "      <td>13.1930</td>\n",
              "      <td>...</td>\n",
              "      <td>10.0141</td>\n",
              "      <td>15.4225</td>\n",
              "      <td>2.4587</td>\n",
              "      <td>1.9899</td>\n",
              "      <td>14.7831</td>\n",
              "      <td>-0.2363</td>\n",
              "      <td>3.0443</td>\n",
              "      <td>8.9417</td>\n",
              "      <td>15.8582</td>\n",
              "      <td>8.4617</td>\n",
              "    </tr>\n",
              "    <tr>\n",
              "      <th>82</th>\n",
              "      <td>train_82</td>\n",
              "      <td>0</td>\n",
              "      <td>3.7917</td>\n",
              "      <td>-1.0115</td>\n",
              "      <td>8.3093</td>\n",
              "      <td>5.7147</td>\n",
              "      <td>12.0607</td>\n",
              "      <td>-7.2139</td>\n",
              "      <td>6.1208</td>\n",
              "      <td>17.8366</td>\n",
              "      <td>...</td>\n",
              "      <td>8.8979</td>\n",
              "      <td>10.4541</td>\n",
              "      <td>3.6751</td>\n",
              "      <td>5.0095</td>\n",
              "      <td>17.3201</td>\n",
              "      <td>1.2043</td>\n",
              "      <td>3.9500</td>\n",
              "      <td>10.3013</td>\n",
              "      <td>12.7614</td>\n",
              "      <td>-16.0561</td>\n",
              "    </tr>\n",
              "    <tr>\n",
              "      <th>83</th>\n",
              "      <td>train_83</td>\n",
              "      <td>0</td>\n",
              "      <td>9.7494</td>\n",
              "      <td>-3.4409</td>\n",
              "      <td>7.6953</td>\n",
              "      <td>9.5225</td>\n",
              "      <td>9.6764</td>\n",
              "      <td>5.5166</td>\n",
              "      <td>5.9551</td>\n",
              "      <td>13.5672</td>\n",
              "      <td>...</td>\n",
              "      <td>-1.5791</td>\n",
              "      <td>10.3288</td>\n",
              "      <td>3.9362</td>\n",
              "      <td>5.5038</td>\n",
              "      <td>17.0069</td>\n",
              "      <td>0.7215</td>\n",
              "      <td>5.8483</td>\n",
              "      <td>9.2558</td>\n",
              "      <td>15.5343</td>\n",
              "      <td>-1.0614</td>\n",
              "    </tr>\n",
              "    <tr>\n",
              "      <th>84</th>\n",
              "      <td>train_84</td>\n",
              "      <td>1</td>\n",
              "      <td>14.6825</td>\n",
              "      <td>6.7583</td>\n",
              "      <td>9.7766</td>\n",
              "      <td>9.9461</td>\n",
              "      <td>7.9207</td>\n",
              "      <td>-2.7174</td>\n",
              "      <td>5.4594</td>\n",
              "      <td>20.1579</td>\n",
              "      <td>...</td>\n",
              "      <td>4.3388</td>\n",
              "      <td>10.4738</td>\n",
              "      <td>2.3715</td>\n",
              "      <td>1.5612</td>\n",
              "      <td>18.8488</td>\n",
              "      <td>-1.2723</td>\n",
              "      <td>8.7246</td>\n",
              "      <td>7.7010</td>\n",
              "      <td>15.2861</td>\n",
              "      <td>9.8048</td>\n",
              "    </tr>\n",
              "    <tr>\n",
              "      <th>85</th>\n",
              "      <td>train_85</td>\n",
              "      <td>0</td>\n",
              "      <td>5.5511</td>\n",
              "      <td>-6.0495</td>\n",
              "      <td>6.8957</td>\n",
              "      <td>9.3373</td>\n",
              "      <td>10.5137</td>\n",
              "      <td>-12.5247</td>\n",
              "      <td>5.6396</td>\n",
              "      <td>18.7871</td>\n",
              "      <td>...</td>\n",
              "      <td>0.6762</td>\n",
              "      <td>6.1461</td>\n",
              "      <td>2.1268</td>\n",
              "      <td>-1.1607</td>\n",
              "      <td>21.7043</td>\n",
              "      <td>3.0905</td>\n",
              "      <td>13.8302</td>\n",
              "      <td>9.7335</td>\n",
              "      <td>11.1988</td>\n",
              "      <td>-0.7338</td>\n",
              "    </tr>\n",
              "    <tr>\n",
              "      <th>86</th>\n",
              "      <td>train_86</td>\n",
              "      <td>0</td>\n",
              "      <td>12.2806</td>\n",
              "      <td>3.7298</td>\n",
              "      <td>12.1950</td>\n",
              "      <td>10.9491</td>\n",
              "      <td>8.9890</td>\n",
              "      <td>0.1052</td>\n",
              "      <td>5.6667</td>\n",
              "      <td>13.3914</td>\n",
              "      <td>...</td>\n",
              "      <td>0.2651</td>\n",
              "      <td>8.9073</td>\n",
              "      <td>0.0881</td>\n",
              "      <td>-3.3172</td>\n",
              "      <td>16.9330</td>\n",
              "      <td>1.5733</td>\n",
              "      <td>9.7584</td>\n",
              "      <td>10.4887</td>\n",
              "      <td>15.7765</td>\n",
              "      <td>-14.3163</td>\n",
              "    </tr>\n",
              "    <tr>\n",
              "      <th>87</th>\n",
              "      <td>train_87</td>\n",
              "      <td>0</td>\n",
              "      <td>15.6635</td>\n",
              "      <td>-3.2341</td>\n",
              "      <td>6.9618</td>\n",
              "      <td>4.1249</td>\n",
              "      <td>9.1985</td>\n",
              "      <td>-1.7501</td>\n",
              "      <td>6.4133</td>\n",
              "      <td>17.7809</td>\n",
              "      <td>...</td>\n",
              "      <td>2.8020</td>\n",
              "      <td>0.9025</td>\n",
              "      <td>3.9296</td>\n",
              "      <td>0.5776</td>\n",
              "      <td>14.7985</td>\n",
              "      <td>-2.3269</td>\n",
              "      <td>5.4678</td>\n",
              "      <td>10.1895</td>\n",
              "      <td>17.3357</td>\n",
              "      <td>-16.3072</td>\n",
              "    </tr>\n",
              "    <tr>\n",
              "      <th>88</th>\n",
              "      <td>train_88</td>\n",
              "      <td>0</td>\n",
              "      <td>12.9982</td>\n",
              "      <td>3.4437</td>\n",
              "      <td>8.1502</td>\n",
              "      <td>5.4169</td>\n",
              "      <td>11.1099</td>\n",
              "      <td>-2.5678</td>\n",
              "      <td>4.6312</td>\n",
              "      <td>14.0579</td>\n",
              "      <td>...</td>\n",
              "      <td>1.2576</td>\n",
              "      <td>3.5511</td>\n",
              "      <td>2.5148</td>\n",
              "      <td>3.3734</td>\n",
              "      <td>20.7017</td>\n",
              "      <td>1.1764</td>\n",
              "      <td>2.2161</td>\n",
              "      <td>9.2190</td>\n",
              "      <td>12.8878</td>\n",
              "      <td>5.8368</td>\n",
              "    </tr>\n",
              "    <tr>\n",
              "      <th>89</th>\n",
              "      <td>train_89</td>\n",
              "      <td>0</td>\n",
              "      <td>12.7037</td>\n",
              "      <td>-5.1759</td>\n",
              "      <td>8.8387</td>\n",
              "      <td>7.3076</td>\n",
              "      <td>12.0861</td>\n",
              "      <td>-0.5276</td>\n",
              "      <td>4.6927</td>\n",
              "      <td>23.4634</td>\n",
              "      <td>...</td>\n",
              "      <td>7.0677</td>\n",
              "      <td>5.0041</td>\n",
              "      <td>1.0990</td>\n",
              "      <td>1.3367</td>\n",
              "      <td>14.5331</td>\n",
              "      <td>2.3666</td>\n",
              "      <td>8.8113</td>\n",
              "      <td>9.8657</td>\n",
              "      <td>10.1357</td>\n",
              "      <td>-1.8481</td>\n",
              "    </tr>\n",
              "    <tr>\n",
              "      <th>90</th>\n",
              "      <td>train_90</td>\n",
              "      <td>0</td>\n",
              "      <td>12.8017</td>\n",
              "      <td>-3.6662</td>\n",
              "      <td>13.0387</td>\n",
              "      <td>6.8645</td>\n",
              "      <td>8.3948</td>\n",
              "      <td>-15.8151</td>\n",
              "      <td>4.3626</td>\n",
              "      <td>19.8170</td>\n",
              "      <td>...</td>\n",
              "      <td>-5.6919</td>\n",
              "      <td>13.1388</td>\n",
              "      <td>2.6576</td>\n",
              "      <td>0.7184</td>\n",
              "      <td>18.7579</td>\n",
              "      <td>-2.0419</td>\n",
              "      <td>5.8209</td>\n",
              "      <td>7.5819</td>\n",
              "      <td>18.3076</td>\n",
              "      <td>-15.8528</td>\n",
              "    </tr>\n",
              "    <tr>\n",
              "      <th>91</th>\n",
              "      <td>train_91</td>\n",
              "      <td>0</td>\n",
              "      <td>8.6063</td>\n",
              "      <td>-1.6602</td>\n",
              "      <td>12.3422</td>\n",
              "      <td>8.1315</td>\n",
              "      <td>9.2578</td>\n",
              "      <td>-16.7435</td>\n",
              "      <td>6.3198</td>\n",
              "      <td>21.4880</td>\n",
              "      <td>...</td>\n",
              "      <td>6.1028</td>\n",
              "      <td>6.9915</td>\n",
              "      <td>4.2723</td>\n",
              "      <td>7.5680</td>\n",
              "      <td>22.8133</td>\n",
              "      <td>1.2554</td>\n",
              "      <td>8.9347</td>\n",
              "      <td>9.6891</td>\n",
              "      <td>17.0316</td>\n",
              "      <td>-3.6623</td>\n",
              "    </tr>\n",
              "    <tr>\n",
              "      <th>92</th>\n",
              "      <td>train_92</td>\n",
              "      <td>0</td>\n",
              "      <td>12.5460</td>\n",
              "      <td>1.9028</td>\n",
              "      <td>12.0297</td>\n",
              "      <td>4.0826</td>\n",
              "      <td>11.7255</td>\n",
              "      <td>1.4451</td>\n",
              "      <td>4.9281</td>\n",
              "      <td>15.3118</td>\n",
              "      <td>...</td>\n",
              "      <td>7.8658</td>\n",
              "      <td>5.5623</td>\n",
              "      <td>2.4920</td>\n",
              "      <td>7.7427</td>\n",
              "      <td>15.1689</td>\n",
              "      <td>1.0372</td>\n",
              "      <td>9.6535</td>\n",
              "      <td>7.9647</td>\n",
              "      <td>16.8580</td>\n",
              "      <td>-2.9038</td>\n",
              "    </tr>\n",
              "    <tr>\n",
              "      <th>93</th>\n",
              "      <td>train_93</td>\n",
              "      <td>0</td>\n",
              "      <td>11.2767</td>\n",
              "      <td>-1.7129</td>\n",
              "      <td>7.1732</td>\n",
              "      <td>9.8117</td>\n",
              "      <td>12.9984</td>\n",
              "      <td>-13.4232</td>\n",
              "      <td>5.5353</td>\n",
              "      <td>14.5552</td>\n",
              "      <td>...</td>\n",
              "      <td>4.8218</td>\n",
              "      <td>9.6703</td>\n",
              "      <td>3.2253</td>\n",
              "      <td>2.7758</td>\n",
              "      <td>20.7678</td>\n",
              "      <td>-1.9497</td>\n",
              "      <td>10.2303</td>\n",
              "      <td>7.6996</td>\n",
              "      <td>15.6639</td>\n",
              "      <td>8.9372</td>\n",
              "    </tr>\n",
              "    <tr>\n",
              "      <th>94</th>\n",
              "      <td>train_94</td>\n",
              "      <td>0</td>\n",
              "      <td>7.3467</td>\n",
              "      <td>-2.3878</td>\n",
              "      <td>10.9387</td>\n",
              "      <td>6.1422</td>\n",
              "      <td>12.1369</td>\n",
              "      <td>-1.5525</td>\n",
              "      <td>5.8929</td>\n",
              "      <td>17.8152</td>\n",
              "      <td>...</td>\n",
              "      <td>1.3647</td>\n",
              "      <td>6.1153</td>\n",
              "      <td>2.2602</td>\n",
              "      <td>6.1797</td>\n",
              "      <td>16.7355</td>\n",
              "      <td>0.7458</td>\n",
              "      <td>8.6304</td>\n",
              "      <td>9.1398</td>\n",
              "      <td>11.2992</td>\n",
              "      <td>-10.5113</td>\n",
              "    </tr>\n",
              "    <tr>\n",
              "      <th>95</th>\n",
              "      <td>train_95</td>\n",
              "      <td>0</td>\n",
              "      <td>10.1190</td>\n",
              "      <td>1.5103</td>\n",
              "      <td>11.9595</td>\n",
              "      <td>3.6211</td>\n",
              "      <td>9.7903</td>\n",
              "      <td>3.0861</td>\n",
              "      <td>3.8571</td>\n",
              "      <td>20.6294</td>\n",
              "      <td>...</td>\n",
              "      <td>9.7536</td>\n",
              "      <td>10.9786</td>\n",
              "      <td>6.1300</td>\n",
              "      <td>11.4031</td>\n",
              "      <td>23.4901</td>\n",
              "      <td>0.5223</td>\n",
              "      <td>-0.8544</td>\n",
              "      <td>10.1827</td>\n",
              "      <td>12.3814</td>\n",
              "      <td>7.4064</td>\n",
              "    </tr>\n",
              "    <tr>\n",
              "      <th>96</th>\n",
              "      <td>train_96</td>\n",
              "      <td>0</td>\n",
              "      <td>10.3364</td>\n",
              "      <td>-7.0347</td>\n",
              "      <td>11.2938</td>\n",
              "      <td>7.2868</td>\n",
              "      <td>9.3097</td>\n",
              "      <td>-14.4390</td>\n",
              "      <td>4.1751</td>\n",
              "      <td>15.9672</td>\n",
              "      <td>...</td>\n",
              "      <td>5.6752</td>\n",
              "      <td>11.0254</td>\n",
              "      <td>2.4895</td>\n",
              "      <td>2.5134</td>\n",
              "      <td>22.0939</td>\n",
              "      <td>-0.3879</td>\n",
              "      <td>8.1822</td>\n",
              "      <td>8.5550</td>\n",
              "      <td>17.4339</td>\n",
              "      <td>-7.4842</td>\n",
              "    </tr>\n",
              "    <tr>\n",
              "      <th>97</th>\n",
              "      <td>train_97</td>\n",
              "      <td>0</td>\n",
              "      <td>11.6380</td>\n",
              "      <td>-9.3969</td>\n",
              "      <td>9.5631</td>\n",
              "      <td>8.7468</td>\n",
              "      <td>12.2793</td>\n",
              "      <td>-5.1074</td>\n",
              "      <td>5.1629</td>\n",
              "      <td>15.9664</td>\n",
              "      <td>...</td>\n",
              "      <td>-0.4407</td>\n",
              "      <td>9.1862</td>\n",
              "      <td>1.6585</td>\n",
              "      <td>2.1142</td>\n",
              "      <td>22.3240</td>\n",
              "      <td>0.5936</td>\n",
              "      <td>4.4749</td>\n",
              "      <td>9.5376</td>\n",
              "      <td>13.8197</td>\n",
              "      <td>-9.1008</td>\n",
              "    </tr>\n",
              "    <tr>\n",
              "      <th>98</th>\n",
              "      <td>train_98</td>\n",
              "      <td>0</td>\n",
              "      <td>10.9061</td>\n",
              "      <td>2.0333</td>\n",
              "      <td>7.3464</td>\n",
              "      <td>6.6506</td>\n",
              "      <td>9.9799</td>\n",
              "      <td>-3.5393</td>\n",
              "      <td>4.6797</td>\n",
              "      <td>17.3532</td>\n",
              "      <td>...</td>\n",
              "      <td>9.8582</td>\n",
              "      <td>3.3695</td>\n",
              "      <td>4.8096</td>\n",
              "      <td>6.5446</td>\n",
              "      <td>25.5752</td>\n",
              "      <td>0.3293</td>\n",
              "      <td>-3.6080</td>\n",
              "      <td>8.0217</td>\n",
              "      <td>18.4490</td>\n",
              "      <td>-6.4448</td>\n",
              "    </tr>\n",
              "    <tr>\n",
              "      <th>99</th>\n",
              "      <td>train_99</td>\n",
              "      <td>1</td>\n",
              "      <td>9.4554</td>\n",
              "      <td>-3.5377</td>\n",
              "      <td>8.1026</td>\n",
              "      <td>7.4557</td>\n",
              "      <td>12.8716</td>\n",
              "      <td>4.4526</td>\n",
              "      <td>4.1798</td>\n",
              "      <td>19.0480</td>\n",
              "      <td>...</td>\n",
              "      <td>11.4642</td>\n",
              "      <td>9.4043</td>\n",
              "      <td>2.4608</td>\n",
              "      <td>5.1603</td>\n",
              "      <td>21.9483</td>\n",
              "      <td>-0.9451</td>\n",
              "      <td>-5.9209</td>\n",
              "      <td>9.7453</td>\n",
              "      <td>16.3138</td>\n",
              "      <td>-14.8816</td>\n",
              "    </tr>\n",
              "  </tbody>\n",
              "</table>\n",
              "<p>100 rows × 202 columns</p>\n",
              "</div>"
            ],
            "text/plain": [
              "     ID_code  target    var_0   var_1    var_2    var_3    var_4    var_5  \\\n",
              "0    train_0       0   8.9255 -6.7863  11.9081   5.0930  11.4607  -9.2834   \n",
              "1    train_1       0  11.5006 -4.1473  13.8588   5.3890  12.3622   7.0433   \n",
              "2    train_2       0   8.6093 -2.7457  12.0805   7.8928  10.5825  -9.0837   \n",
              "3    train_3       0  11.0604 -2.1518   8.9522   7.1957  12.5846  -1.8361   \n",
              "4    train_4       0   9.8369 -1.4834  12.8746   6.6375  12.2772   2.4486   \n",
              "5    train_5       0  11.4763 -2.3182  12.6080   8.6264  10.9621   3.5609   \n",
              "6    train_6       0  11.8091 -0.0832   9.3494   4.2916  11.1355  -8.0198   \n",
              "7    train_7       0  13.5580 -7.9881  13.8776   7.5985   8.6543   0.8310   \n",
              "8    train_8       0  16.1071  2.4426  13.9307   5.6327   8.8014   6.1630   \n",
              "9    train_9       0  12.5088  1.9743   8.8960   5.4508  13.6043 -16.2859   \n",
              "10  train_10       0   5.0702 -0.5447   9.5900   4.2987  12.3910 -18.8687   \n",
              "11  train_11       0  12.7188 -7.9750  10.3757   9.0101  12.8570 -12.0852   \n",
              "12  train_12       0   8.7671 -4.6154   9.7242   7.4242   9.0254   1.4247   \n",
              "13  train_13       1  16.3699  1.5934  16.7395   7.3330  12.1450   5.9004   \n",
              "14  train_14       0  13.8080  5.0514  17.2611   8.5120  12.8517  -9.1622   \n",
              "15  train_15       0   3.9416  2.6562  13.3633   6.8895  12.2806 -16.1620   \n",
              "16  train_16       0   5.0615  0.2689  15.1325   3.6587  13.5276  -6.5477   \n",
              "17  train_17       0   8.4199 -1.8128   8.1202   5.3955   9.7184 -17.8390   \n",
              "18  train_18       0   4.8750  1.2646  11.9190   8.4650  10.7203  -0.6707   \n",
              "19  train_19       0   4.4090 -0.7863  15.1828   8.0631  11.2831  -0.7356   \n",
              "20  train_20       0  12.6700 -2.0221   6.8930   6.9152   9.5677 -11.2672   \n",
              "21  train_21       0   8.3918  1.4806  12.9804   7.5538  11.1531 -14.7776   \n",
              "22  train_22       0  10.2031  0.1925  14.0238   7.0345  11.8514  13.8830   \n",
              "23  train_23       0  15.0029 -9.3439  10.3790   8.3226  13.0204  -5.0744   \n",
              "24  train_24       0   5.9240 -3.7285  11.0995   4.6969  11.7363 -20.4102   \n",
              "25  train_25       0   8.2703 -5.6854  12.6862   7.2755  12.3713  -7.7521   \n",
              "26  train_26       0  15.6567 -4.4950  10.4867   3.8187   8.8813  -6.0295   \n",
              "27  train_27       0  10.7166 -9.9800  10.9569   6.7660  10.6803 -12.9329   \n",
              "28  train_28       0   7.8010  4.5262   8.9291   8.4884  12.8435  -1.2632   \n",
              "29  train_29       1   5.3301 -2.6064  13.1913   3.1193   6.6483  -6.5659   \n",
              "..       ...     ...      ...     ...      ...      ...      ...      ...   \n",
              "70  train_70       0  11.0572  4.9317  16.1071   5.2469  12.5122  -8.8035   \n",
              "71  train_71       1   6.7547  2.5973  14.2141   8.3514   7.4942  -1.3055   \n",
              "72  train_72       1   8.6470  0.4462  10.9808  10.1859  13.9121 -16.4645   \n",
              "73  train_73       0   4.3854 -3.0492   7.9060   7.1738  12.9287   2.5846   \n",
              "74  train_74       0   5.4386  2.4679  10.0766   4.4916  10.8987  -0.5161   \n",
              "75  train_75       0  16.7218 -3.1693  12.8215   7.9725  12.0685  -1.1816   \n",
              "76  train_76       0  11.6292  2.7266  15.3545   4.6228   9.9694  -6.7278   \n",
              "77  train_77       0   6.2490 -7.0444   9.1275   4.8729  14.3284  11.6113   \n",
              "78  train_78       0  10.5728 -8.6717   9.6252  11.5860  12.0335   4.1500   \n",
              "79  train_79       0   6.1618  0.4555   9.5015  11.4378  11.0376   0.9258   \n",
              "80  train_80       0   8.7099 -5.1212  10.8110   6.6057  10.4421   6.2781   \n",
              "81  train_81       0  10.9530 -2.8298   9.5196   8.4771   9.0253  -3.1710   \n",
              "82  train_82       0   3.7917 -1.0115   8.3093   5.7147  12.0607  -7.2139   \n",
              "83  train_83       0   9.7494 -3.4409   7.6953   9.5225   9.6764   5.5166   \n",
              "84  train_84       1  14.6825  6.7583   9.7766   9.9461   7.9207  -2.7174   \n",
              "85  train_85       0   5.5511 -6.0495   6.8957   9.3373  10.5137 -12.5247   \n",
              "86  train_86       0  12.2806  3.7298  12.1950  10.9491   8.9890   0.1052   \n",
              "87  train_87       0  15.6635 -3.2341   6.9618   4.1249   9.1985  -1.7501   \n",
              "88  train_88       0  12.9982  3.4437   8.1502   5.4169  11.1099  -2.5678   \n",
              "89  train_89       0  12.7037 -5.1759   8.8387   7.3076  12.0861  -0.5276   \n",
              "90  train_90       0  12.8017 -3.6662  13.0387   6.8645   8.3948 -15.8151   \n",
              "91  train_91       0   8.6063 -1.6602  12.3422   8.1315   9.2578 -16.7435   \n",
              "92  train_92       0  12.5460  1.9028  12.0297   4.0826  11.7255   1.4451   \n",
              "93  train_93       0  11.2767 -1.7129   7.1732   9.8117  12.9984 -13.4232   \n",
              "94  train_94       0   7.3467 -2.3878  10.9387   6.1422  12.1369  -1.5525   \n",
              "95  train_95       0  10.1190  1.5103  11.9595   3.6211   9.7903   3.0861   \n",
              "96  train_96       0  10.3364 -7.0347  11.2938   7.2868   9.3097 -14.4390   \n",
              "97  train_97       0  11.6380 -9.3969   9.5631   8.7468  12.2793  -5.1074   \n",
              "98  train_98       0  10.9061  2.0333   7.3464   6.6506   9.9799  -3.5393   \n",
              "99  train_99       1   9.4554 -3.5377   8.1026   7.4557  12.8716   4.4526   \n",
              "\n",
              "     var_6    var_7   ...     var_190  var_191  var_192  var_193  var_194  \\\n",
              "0   5.1187  18.6266   ...      4.4354   3.9642   3.1364   1.6910  18.5227   \n",
              "1   5.6208  16.5338   ...      7.6421   7.7214   2.5837  10.9516  15.4305   \n",
              "2   6.9427  14.6155   ...      2.9057   9.7905   1.6704   1.6858  21.6042   \n",
              "3   5.8428  14.9250   ...      4.4666   4.7433   0.7178   1.4214  23.0347   \n",
              "4   5.9405  19.2514   ...     -1.4905   9.5214  -0.1508   9.1942  13.2876   \n",
              "5   4.5322  15.2255   ...     -6.3068   6.6025   5.2912   0.4403  14.9452   \n",
              "6   6.1961  12.0771   ...      8.7830   6.4521   3.5325   0.1777  18.3314   \n",
              "7   5.6890  22.3262   ...     13.1700   6.5491   3.9906   5.8061  23.1407   \n",
              "8   4.4514  10.1854   ...      1.4298  14.7510   1.6395   1.4181  14.8370   \n",
              "9   6.0637  16.8410   ...      0.5543   6.3160   1.0371   3.6885  14.8344   \n",
              "10  6.0382  14.3797   ...      7.2780   8.0819   0.2139  -0.0761  14.9585   \n",
              "11  5.6464  11.8370   ...     -0.8901   2.6559  -0.0503   5.5946  13.6152   \n",
              "12  6.2815  12.3143   ...      0.3782   7.4382   0.0854   1.3444  17.2439   \n",
              "13  4.8222  20.9729   ...      7.4002   7.4031   4.3989   4.0978  17.3638   \n",
              "14  5.7327  21.0517   ...      1.0740   8.3220   3.2619   1.6738  17.4797   \n",
              "15  5.6979  14.4573   ...     -3.4195   0.8829  -1.9859   3.9905  22.4647   \n",
              "16  5.2757   9.8710   ...      0.2717   7.2854   0.5670   8.1822  19.5616   \n",
              "17  4.0959  15.2860   ...      7.4363  11.3072   3.7903   0.0290  16.2954   \n",
              "18  5.6103  16.4661   ...      9.1843   2.6812   1.8587   4.6929  16.0916   \n",
              "19  6.3801  16.0218   ...      5.9745   6.3267   2.5156   8.9878  16.0550   \n",
              "20  5.6061  16.2354   ...      0.9841   5.7383  -0.1349   2.7194  13.8326   \n",
              "21  5.9987  15.5148   ...     -0.0412   5.5717   0.7519   5.7839  23.1155   \n",
              "22  6.4040  18.0058   ...      1.7022   5.4938  -0.3317   3.3474  11.2204   \n",
              "23  5.2489  11.6845   ...      2.9210   4.3916   5.2208   1.3458  18.2940   \n",
              "24  5.8125  15.9027   ...     -1.3390   8.4943   0.7899   4.3212  17.2716   \n",
              "25  6.7252  18.4270   ...     11.3979   5.9191   0.6406   5.0184  21.3216   \n",
              "26  5.5224  17.6964   ...      5.3764  11.9099   0.7651   6.9705  24.1729   \n",
              "27  4.5012  17.3841   ...      3.4066   8.8651   1.5951   3.0979  15.7978   \n",
              "28  5.0383  13.6339   ...      6.7745   3.0204   0.5552   9.3177  21.0586   \n",
              "29  5.9064  15.2341   ...      5.9215   7.9676   2.3405   1.1482  23.2168   \n",
              "..     ...      ...   ...         ...      ...      ...      ...      ...   \n",
              "70  6.3291  23.0985   ...     -1.6759   6.7079   0.1553   8.4072  14.8823   \n",
              "71  4.2336  15.0243   ...      1.4677   3.5935   2.0013   1.5777  18.2820   \n",
              "72  5.2837  13.8396   ...      6.6004  13.0969   2.2437   0.6260  23.4572   \n",
              "73  4.7129  10.0367   ...     -0.6457   8.7259   4.2191   6.0633  14.1530   \n",
              "74  5.9401  14.1194   ...     -3.8850   4.7890  -0.5674   6.3509  15.3483   \n",
              "75  4.7701  25.5929   ...     -5.4970   5.6385   5.3761   3.5912  15.1097   \n",
              "76  4.8686  17.0387   ...      3.9306   8.8879   3.9738  -2.1806  14.5523   \n",
              "77  6.2982  17.6546   ...     11.6254   6.0345   1.4598  -0.5816  19.6094   \n",
              "78  6.1518  14.8799   ...     10.3115   3.0401   4.1865   3.8891  18.7741   \n",
              "79  5.8153  19.8228   ...      4.6229   5.7358   1.1213   3.8119  21.3034   \n",
              "80  5.5290  17.6003   ...      1.9419   4.1740   2.8890  -1.1348  18.9417   \n",
              "81  6.2410  13.1930   ...     10.0141  15.4225   2.4587   1.9899  14.7831   \n",
              "82  6.1208  17.8366   ...      8.8979  10.4541   3.6751   5.0095  17.3201   \n",
              "83  5.9551  13.5672   ...     -1.5791  10.3288   3.9362   5.5038  17.0069   \n",
              "84  5.4594  20.1579   ...      4.3388  10.4738   2.3715   1.5612  18.8488   \n",
              "85  5.6396  18.7871   ...      0.6762   6.1461   2.1268  -1.1607  21.7043   \n",
              "86  5.6667  13.3914   ...      0.2651   8.9073   0.0881  -3.3172  16.9330   \n",
              "87  6.4133  17.7809   ...      2.8020   0.9025   3.9296   0.5776  14.7985   \n",
              "88  4.6312  14.0579   ...      1.2576   3.5511   2.5148   3.3734  20.7017   \n",
              "89  4.6927  23.4634   ...      7.0677   5.0041   1.0990   1.3367  14.5331   \n",
              "90  4.3626  19.8170   ...     -5.6919  13.1388   2.6576   0.7184  18.7579   \n",
              "91  6.3198  21.4880   ...      6.1028   6.9915   4.2723   7.5680  22.8133   \n",
              "92  4.9281  15.3118   ...      7.8658   5.5623   2.4920   7.7427  15.1689   \n",
              "93  5.5353  14.5552   ...      4.8218   9.6703   3.2253   2.7758  20.7678   \n",
              "94  5.8929  17.8152   ...      1.3647   6.1153   2.2602   6.1797  16.7355   \n",
              "95  3.8571  20.6294   ...      9.7536  10.9786   6.1300  11.4031  23.4901   \n",
              "96  4.1751  15.9672   ...      5.6752  11.0254   2.4895   2.5134  22.0939   \n",
              "97  5.1629  15.9664   ...     -0.4407   9.1862   1.6585   2.1142  22.3240   \n",
              "98  4.6797  17.3532   ...      9.8582   3.3695   4.8096   6.5446  25.5752   \n",
              "99  4.1798  19.0480   ...     11.4642   9.4043   2.4608   5.1603  21.9483   \n",
              "\n",
              "    var_195  var_196  var_197  var_198  var_199  \n",
              "0   -2.3978   7.8784   8.5635  12.7803  -1.0914  \n",
              "1    2.0339   8.1267   8.7889  18.3560   1.9518  \n",
              "2    3.1417  -6.5213   8.2675  14.7222   0.3965  \n",
              "3   -1.2706  -2.9275  10.2922  17.9697  -8.9996  \n",
              "4   -1.5121   3.9267   9.5031  17.9974  -8.8104  \n",
              "5    1.0314  -3.6241   9.7670  12.5809  -4.7602  \n",
              "6    0.5845   9.1104   9.1143  10.8869  -3.2097  \n",
              "7   -0.3776   4.2178   9.4237   8.6624   3.4806  \n",
              "8   -1.9940  -1.0733   8.1975  19.5114   4.8453  \n",
              "9    0.4467  14.1287   7.9133  16.2375  14.2514  \n",
              "10  -1.2160   6.6576   9.2553  14.2914  -7.6652  \n",
              "11   2.4058  -1.7183   9.6745  16.7498  -3.9728  \n",
              "12  -0.0798   5.7389   8.4897  17.0938   4.6106  \n",
              "13  -1.3022   9.6846   9.0419  15.6064 -10.8529  \n",
              "14  -0.0257  -3.5323   9.3439  24.4479  -5.1110  \n",
              "15   0.5129   6.5273   8.2899  12.9116  -4.9182  \n",
              "16   0.4365  -3.4975   8.6367  20.2548  11.1524  \n",
              "17   0.1470   8.9603   9.4560  19.4505  -5.2407  \n",
              "18  -1.5336  -4.0958   8.5873  17.1516 -22.1940  \n",
              "19  -2.1962   8.3985   9.1711  14.7352   3.9133  \n",
              "20   0.5365   9.1935   8.2176  22.4754 -19.9444  \n",
              "21  -1.2740   2.0738   7.7761  17.4662  11.3979  \n",
              "22   0.9371  -7.5486   9.5064   8.7281 -25.6523  \n",
              "23   2.3865  -3.7144   9.4714  12.8480 -10.0357  \n",
              "24  -0.9999  10.0978  10.2561  14.3032   2.0897  \n",
              "25  -2.9616   5.7994   9.5360  17.8582  -3.3911  \n",
              "26  -1.8420   3.4319   7.8821  19.3055  -7.5090  \n",
              "27   2.6332   9.0833   7.9933  20.2128  -1.7144  \n",
              "28   0.7162  -3.3638   9.8715  14.0120  -4.5997  \n",
              "29  -2.0105   3.7600   9.4513  17.4105 -14.6897  \n",
              "..      ...      ...      ...      ...      ...  \n",
              "70   0.1872   7.7205   9.3708  16.5743  15.4439  \n",
              "71  -4.3408   6.8869   9.3567  18.9013  13.3447  \n",
              "72   0.3117   8.1634   7.9248  10.5462 -17.8708  \n",
              "73  -0.9792   8.8101   8.7719  13.8564  -6.2063  \n",
              "74  -0.0128   4.6483   9.4707  19.8155  10.3066  \n",
              "75  -1.0483  13.7565   9.0890  16.7629  -4.7062  \n",
              "76  -0.3450   1.1057   7.7753  15.6351  11.2658  \n",
              "77   1.2655   3.3123   8.3121  14.1674  -3.1680  \n",
              "78  -0.0962   1.5313   9.7998  17.0162  -3.8005  \n",
              "79  -0.7575   7.7652   8.5641  18.4864  -0.1298  \n",
              "80  -0.2624   3.5638   7.9271  16.3169 -21.7549  \n",
              "81  -0.2363   3.0443   8.9417  15.8582   8.4617  \n",
              "82   1.2043   3.9500  10.3013  12.7614 -16.0561  \n",
              "83   0.7215   5.8483   9.2558  15.5343  -1.0614  \n",
              "84  -1.2723   8.7246   7.7010  15.2861   9.8048  \n",
              "85   3.0905  13.8302   9.7335  11.1988  -0.7338  \n",
              "86   1.5733   9.7584  10.4887  15.7765 -14.3163  \n",
              "87  -2.3269   5.4678  10.1895  17.3357 -16.3072  \n",
              "88   1.1764   2.2161   9.2190  12.8878   5.8368  \n",
              "89   2.3666   8.8113   9.8657  10.1357  -1.8481  \n",
              "90  -2.0419   5.8209   7.5819  18.3076 -15.8528  \n",
              "91   1.2554   8.9347   9.6891  17.0316  -3.6623  \n",
              "92   1.0372   9.6535   7.9647  16.8580  -2.9038  \n",
              "93  -1.9497  10.2303   7.6996  15.6639   8.9372  \n",
              "94   0.7458   8.6304   9.1398  11.2992 -10.5113  \n",
              "95   0.5223  -0.8544  10.1827  12.3814   7.4064  \n",
              "96  -0.3879   8.1822   8.5550  17.4339  -7.4842  \n",
              "97   0.5936   4.4749   9.5376  13.8197  -9.1008  \n",
              "98   0.3293  -3.6080   8.0217  18.4490  -6.4448  \n",
              "99  -0.9451  -5.9209   9.7453  16.3138 -14.8816  \n",
              "\n",
              "[100 rows x 202 columns]"
            ]
          },
          "metadata": {
            "tags": []
          },
          "execution_count": 7
        }
      ]
    },
    {
      "metadata": {
        "id": "K4tmpfgGOtmv",
        "colab_type": "code",
        "outputId": "00719e30-2849-40f9-8a67-691c8755e1fd",
        "colab": {
          "base_uri": "https://localhost:8080/",
          "height": 612
        }
      },
      "cell_type": "code",
      "source": [
        "# plt.hist(train_data_df['var_0'][:10000].values)\n",
        "# # plt.hist(train_data_df['var_1'][:10000].values)\n",
        "# plt.hist(train_data_df['var_2'][:10000].values)\n",
        "# # plt.hist(train_data_df['var_3'][:10000].values)\n",
        "# plt.hist(train_data_df['var_4'][:10000].values)\n",
        "# # plt.hist(train_data_df['var_5'][:10000].values)\n",
        "# plt.hist(train_data_df['var_6'][:10000].values)\n",
        "\n",
        "plt.figure(figsize=(25,10))\n",
        "for i in range(200):\n",
        "    plt.hist(train_data_df['var_' + str(i)].values)"
      ],
      "execution_count": 0,
      "outputs": [
        {
          "output_type": "display_data",
          "data": {
            "image/png": "[encoded data removed]",
            "text/plain": [
              "<Figure size 1800x720 with 1 Axes>"
            ]
          },
          "metadata": {
            "tags": []
          }
        }
      ]
    },
    {
      "metadata": {
        "id": "Q-WAHlQappWQ",
        "colab_type": "code",
        "outputId": "ba8f72ed-c187-40ad-8ea3-1b88cf32e7ee",
        "colab": {
          "base_uri": "https://localhost:8080/",
          "height": 3197
        }
      },
      "cell_type": "code",
      "source": [
        "#sig_dif = [\"var_0\", \"var_1\", \"var_2\", \"var_5\", \"var_9\", \"var_13\", \"var_106\", \"var_109\", \"var_139\"]\n",
        "# var_2, var_13, var_26, var_55, var_175, var_184, var_196\n",
        "# for val in sig_dif:\n",
        "#     plt.figure(figsize=(10, 5))\n",
        "#     plt.hist(zero_df[val].values, density=True)\n",
        "#     plt.hist(one_df[val].values, density=True)\n",
        "for i in range(10):\n",
        "    plt.figure(figsize=(10, 5))\n",
        "    plt.hist(zero_df['var_' + str(i)].values, density=True, label=\"zero\")\n",
        "    plt.hist(one_df['var_' + str(i)].values, density=True, label=\"one\")\n",
        "    plt.title(\"pdfs for variable\" + str(i))\n",
        "    plt.legend()"
      ],
      "execution_count": 0,
      "outputs": [
        {
          "output_type": "display_data",
          "data": {
            "image/png": "[encoded data removed]",
            "text/plain": [
              "<Figure size 720x360 with 1 Axes>"
            ]
          },
          "metadata": {
            "tags": []
          }
        },
        {
          "output_type": "display_data",
          "data": {
            "image/png": "[encoded data removed]",
            "text/plain": [
              "<Figure size 720x360 with 1 Axes>"
            ]
          },
          "metadata": {
            "tags": []
          }
        },
        {
          "output_type": "display_data",
          "data": {
            "image/png": "[encoded data removed]",
            "text/plain": [
              "<Figure size 720x360 with 1 Axes>"
            ]
          },
          "metadata": {
            "tags": []
          }
        },
        {
          "output_type": "display_data",
          "data": {
            "image/png": "[encoded data removed]",
            "text/plain": [
              "<Figure size 720x360 with 1 Axes>"
            ]
          },
          "metadata": {
            "tags": []
          }
        },
        {
          "output_type": "display_data",
          "data": {
            "image/png": "[encoded data removed]",
            "text/plain": [
              "<Figure size 720x360 with 1 Axes>"
            ]
          },
          "metadata": {
            "tags": []
          }
        },
        {
          "output_type": "display_data",
          "data": {
            "image/png": "[encoded data removed]",
            "text/plain": [
              "<Figure size 720x360 with 1 Axes>"
            ]
          },
          "metadata": {
            "tags": []
          }
        },
        {
          "output_type": "display_data",
          "data": {
            "image/png": "[encoded data removed]",
            "text/plain": [
              "<Figure size 720x360 with 1 Axes>"
            ]
          },
          "metadata": {
            "tags": []
          }
        },
        {
          "output_type": "display_data",
          "data": {
            "image/png": "[encoded data removed]",
            "text/plain": [
              "<Figure size 720x360 with 1 Axes>"
            ]
          },
          "metadata": {
            "tags": []
          }
        },
        {
          "output_type": "display_data",
          "data": {
            "image/png": "[encoded data removed]",
            "text/plain": [
              "<Figure size 720x360 with 1 Axes>"
            ]
          },
          "metadata": {
            "tags": []
          }
        },
        {
          "output_type": "display_data",
          "data": {
            "image/png": "[encoded data removed]",
            "text/plain": [
              "<Figure size 720x360 with 1 Axes>"
            ]
          },
          "metadata": {
            "tags": []
          }
        }
      ]
    },
    {
      "metadata": {
        "id": "QoydX4_vxNLf",
        "colab_type": "code",
        "outputId": "21276230-cc4f-4ddc-c67e-ef437fa2300b",
        "colab": {
          "base_uri": "https://localhost:8080/",
          "height": 3197
        }
      },
      "cell_type": "code",
      "source": [
        "for i in range(10):\n",
        "    plt.figure(figsize=(10, 5))\n",
        "    plt.hist(train_data_df['var_' + str(i)].values, density=True, label=\"train\")\n",
        "    plt.hist(test_data_df['var_' + str(i)].values, density=True, label=\"test\")\n",
        "    plt.title(\"pdfs for variable\" + str(i))\n",
        "    plt.legend()"
      ],
      "execution_count": 0,
      "outputs": [
        {
          "output_type": "display_data",
          "data": {
            "image/png": "[encoded data removed]",
            "text/plain": [
              "<Figure size 720x360 with 1 Axes>"
            ]
          },
          "metadata": {
            "tags": []
          }
        },
        {
          "output_type": "display_data",
          "data": {
            "image/png": "[encoded data removed]",
            "text/plain": [
              "<Figure size 720x360 with 1 Axes>"
            ]
          },
          "metadata": {
            "tags": []
          }
        },
        {
          "output_type": "display_data",
          "data": {
            "image/png": "[encoded data removed]",
            "text/plain": [
              "<Figure size 720x360 with 1 Axes>"
            ]
          },
          "metadata": {
            "tags": []
          }
        },
        {
          "output_type": "display_data",
          "data": {
            "image/png": "[encoded data removed]",
            "text/plain": [
              "<Figure size 720x360 with 1 Axes>"
            ]
          },
          "metadata": {
            "tags": []
          }
        },
        {
          "output_type": "display_data",
          "data": {
            "image/png": "[encoded data removed]",
            "text/plain": [
              "<Figure size 720x360 with 1 Axes>"
            ]
          },
          "metadata": {
            "tags": []
          }
        },
        {
          "output_type": "display_data",
          "data": {
            "image/png": "[encoded data removed]",
            "text/plain": [
              "<Figure size 720x360 with 1 Axes>"
            ]
          },
          "metadata": {
            "tags": []
          }
        },
        {
          "output_type": "display_data",
          "data": {
            "image/png": "[encoded data removed]",
            "text/plain": [
              "<Figure size 720x360 with 1 Axes>"
            ]
          },
          "metadata": {
            "tags": []
          }
        },
        {
          "output_type": "display_data",
          "data": {
            "image/png": "[encoded data removed]",
            "text/plain": [
              "<Figure size 720x360 with 1 Axes>"
            ]
          },
          "metadata": {
            "tags": []
          }
        },
        {
          "output_type": "display_data",
          "data": {
            "image/png": "[encoded data removed]",
            "text/plain": [
              "<Figure size 720x360 with 1 Axes>"
            ]
          },
          "metadata": {
            "tags": []
          }
        },
        {
          "output_type": "display_data",
          "data": {
            "image/png": "[encoded data removed]",
            "text/plain": [
              "<Figure size 720x360 with 1 Axes>"
            ]
          },
          "metadata": {
            "tags": []
          }
        }
      ]
    },
    {
      "metadata": {
        "id": "o92LP1xyQegP",
        "colab_type": "code",
        "outputId": "14c07e97-c1dd-4975-8449-794cdf284d92",
        "colab": {
          "base_uri": "https://localhost:8080/",
          "height": 1055
        }
      },
      "cell_type": "code",
      "source": [
        "plt.scatter(list(range(200)), train_data_x[0])\n",
        "plt.xlabel(\"features\")\n",
        "plt.ylabel(\"values\")\n",
        "plt.title(\"Values vs features\")\n",
        "plt.figure()\n",
        "plt.scatter(list(range(200)), train_data_x[1])\n",
        "plt.figure()\n",
        "plt.scatter(list(range(200)), train_data_x[2])"
      ],
      "execution_count": 5,
      "outputs": [
        {
          "output_type": "execute_result",
          "data": {
            "text/plain": [
              "<matplotlib.collections.PathCollection at 0x7fbf5c2471d0>"
            ]
          },
          "metadata": {
            "tags": []
          },
          "execution_count": 5
        },
        {
          "output_type": "display_data",
          "data": {
            "image/png": "[encoded data removed]",
            "text/plain": [
              "<Figure size 576x396 with 1 Axes>"
            ]
          },
          "metadata": {
            "tags": []
          }
        },
        {
          "output_type": "display_data",
          "data": {
            "image/png": "[encoded data removed]",
            "text/plain": [
              "<Figure size 576x396 with 1 Axes>"
            ]
          },
          "metadata": {
            "tags": []
          }
        },
        {
          "output_type": "display_data",
          "data": {
            "image/png": "[encoded data removed]",
            "text/plain": [
              "<Figure size 576x396 with 1 Axes>"
            ]
          },
          "metadata": {
            "tags": []
          }
        }
      ]
    },
    {
      "metadata": {
        "id": "5F3o9_yTntEy",
        "colab_type": "code",
        "colab": {
          "base_uri": "https://localhost:8080/",
          "height": 707
        },
        "outputId": "6e29b081-6cca-493b-c072-e1e8d090ac62"
      },
      "cell_type": "code",
      "source": [
        "from statsmodels.graphics.tsaplots import plot_acf\n",
        "plot_acf(train_data_x[0])"
      ],
      "execution_count": 10,
      "outputs": [
        {
          "output_type": "execute_result",
          "data": {
            "image/png": "[encoded data removed]",
            "text/plain": [
              "<Figure size 576x396 with 1 Axes>"
            ]
          },
          "metadata": {
            "tags": []
          },
          "execution_count": 10
        },
        {
          "output_type": "display_data",
          "data": {
            "image/png": "[encoded data removed]",
            "text/plain": [
              "<Figure size 576x396 with 1 Axes>"
            ]
          },
          "metadata": {
            "tags": []
          }
        }
      ]
    },
    {
      "metadata": {
        "id": "aZjsUdOsVSRN",
        "colab_type": "code",
        "outputId": "05528b96-fa81-4244-c8e8-4d97d6c97dcd",
        "colab": {
          "base_uri": "https://localhost:8080/",
          "height": 421
        }
      },
      "cell_type": "code",
      "source": [
        "plt.hist(train_data_x[0])"
      ],
      "execution_count": 0,
      "outputs": [
        {
          "output_type": "execute_result",
          "data": {
            "text/plain": [
              "(array([ 3.,  5., 17., 49., 57., 47., 14.,  5.,  2.,  1.]),\n",
              " array([-21.4494 , -14.99319,  -8.53698,  -2.08077,   4.37544,  10.83165,\n",
              "         17.28786,  23.74407,  30.20028,  36.65649,  43.1127 ]),\n",
              " <a list of 10 Patch objects>)"
            ]
          },
          "metadata": {
            "tags": []
          },
          "execution_count": 6
        },
        {
          "output_type": "display_data",
          "data": {
            "image/png": "[encoded data removed]",
            "text/plain": [
              "<Figure size 576x396 with 1 Axes>"
            ]
          },
          "metadata": {
            "tags": []
          }
        }
      ]
    },
    {
      "metadata": {
        "id": "XolWsXR3N5OA",
        "colab_type": "text"
      },
      "cell_type": "markdown",
      "source": [
        "Correlation"
      ]
    },
    {
      "metadata": {
        "id": "l5i0Y3E1R17h",
        "colab_type": "code",
        "outputId": "d040b466-bfb1-422c-a6ad-4c3c8a613f45",
        "colab": {
          "base_uri": "https://localhost:8080/",
          "height": 206
        }
      },
      "cell_type": "code",
      "source": [
        "features = [\"var_\" + str(i) for i in range(200)]\n",
        "correlations = train_data_df[features].corr().abs().unstack().sort_values(kind=\"quicksort\").reset_index()\n",
        "correlations = correlations[correlations['level_0'] != correlations['level_1']]\n",
        "correlations.head(5)"
      ],
      "execution_count": 0,
      "outputs": [
        {
          "output_type": "execute_result",
          "data": {
            "text/html": [
              "<div>\n",
              "<style scoped>\n",
              "    .dataframe tbody tr th:only-of-type {\n",
              "        vertical-align: middle;\n",
              "    }\n",
              "\n",
              "    .dataframe tbody tr th {\n",
              "        vertical-align: top;\n",
              "    }\n",
              "\n",
              "    .dataframe thead th {\n",
              "        text-align: right;\n",
              "    }\n",
              "</style>\n",
              "<table border=\"1\" class=\"dataframe\">\n",
              "  <thead>\n",
              "    <tr style=\"text-align: right;\">\n",
              "      <th></th>\n",
              "      <th>level_0</th>\n",
              "      <th>level_1</th>\n",
              "      <th>0</th>\n",
              "    </tr>\n",
              "  </thead>\n",
              "  <tbody>\n",
              "    <tr>\n",
              "      <th>0</th>\n",
              "      <td>var_75</td>\n",
              "      <td>var_191</td>\n",
              "      <td>2.703975e-08</td>\n",
              "    </tr>\n",
              "    <tr>\n",
              "      <th>1</th>\n",
              "      <td>var_191</td>\n",
              "      <td>var_75</td>\n",
              "      <td>2.703975e-08</td>\n",
              "    </tr>\n",
              "    <tr>\n",
              "      <th>2</th>\n",
              "      <td>var_173</td>\n",
              "      <td>var_6</td>\n",
              "      <td>5.942735e-08</td>\n",
              "    </tr>\n",
              "    <tr>\n",
              "      <th>3</th>\n",
              "      <td>var_6</td>\n",
              "      <td>var_173</td>\n",
              "      <td>5.942735e-08</td>\n",
              "    </tr>\n",
              "    <tr>\n",
              "      <th>4</th>\n",
              "      <td>var_126</td>\n",
              "      <td>var_109</td>\n",
              "      <td>1.313947e-07</td>\n",
              "    </tr>\n",
              "  </tbody>\n",
              "</table>\n",
              "</div>"
            ],
            "text/plain": [
              "   level_0  level_1             0\n",
              "0   var_75  var_191  2.703975e-08\n",
              "1  var_191   var_75  2.703975e-08\n",
              "2  var_173    var_6  5.942735e-08\n",
              "3    var_6  var_173  5.942735e-08\n",
              "4  var_126  var_109  1.313947e-07"
            ]
          },
          "metadata": {
            "tags": []
          },
          "execution_count": 32
        }
      ]
    },
    {
      "metadata": {
        "id": "5YR_A_0HSAxn",
        "colab_type": "code",
        "outputId": "33cfb6cd-680c-4f63-c4ca-69c294c49bf9",
        "colab": {
          "base_uri": "https://localhost:8080/",
          "height": 206
        }
      },
      "cell_type": "code",
      "source": [
        "correlations.tail(5)"
      ],
      "execution_count": 0,
      "outputs": [
        {
          "output_type": "execute_result",
          "data": {
            "text/html": [
              "<div>\n",
              "<style scoped>\n",
              "    .dataframe tbody tr th:only-of-type {\n",
              "        vertical-align: middle;\n",
              "    }\n",
              "\n",
              "    .dataframe tbody tr th {\n",
              "        vertical-align: top;\n",
              "    }\n",
              "\n",
              "    .dataframe thead th {\n",
              "        text-align: right;\n",
              "    }\n",
              "</style>\n",
              "<table border=\"1\" class=\"dataframe\">\n",
              "  <thead>\n",
              "    <tr style=\"text-align: right;\">\n",
              "      <th></th>\n",
              "      <th>level_0</th>\n",
              "      <th>level_1</th>\n",
              "      <th>0</th>\n",
              "    </tr>\n",
              "  </thead>\n",
              "  <tbody>\n",
              "    <tr>\n",
              "      <th>39795</th>\n",
              "      <td>var_165</td>\n",
              "      <td>var_81</td>\n",
              "      <td>0.009714</td>\n",
              "    </tr>\n",
              "    <tr>\n",
              "      <th>39796</th>\n",
              "      <td>var_53</td>\n",
              "      <td>var_148</td>\n",
              "      <td>0.009788</td>\n",
              "    </tr>\n",
              "    <tr>\n",
              "      <th>39797</th>\n",
              "      <td>var_148</td>\n",
              "      <td>var_53</td>\n",
              "      <td>0.009788</td>\n",
              "    </tr>\n",
              "    <tr>\n",
              "      <th>39798</th>\n",
              "      <td>var_26</td>\n",
              "      <td>var_139</td>\n",
              "      <td>0.009844</td>\n",
              "    </tr>\n",
              "    <tr>\n",
              "      <th>39799</th>\n",
              "      <td>var_139</td>\n",
              "      <td>var_26</td>\n",
              "      <td>0.009844</td>\n",
              "    </tr>\n",
              "  </tbody>\n",
              "</table>\n",
              "</div>"
            ],
            "text/plain": [
              "       level_0  level_1         0\n",
              "39795  var_165   var_81  0.009714\n",
              "39796   var_53  var_148  0.009788\n",
              "39797  var_148   var_53  0.009788\n",
              "39798   var_26  var_139  0.009844\n",
              "39799  var_139   var_26  0.009844"
            ]
          },
          "metadata": {
            "tags": []
          },
          "execution_count": 34
        }
      ]
    },
    {
      "metadata": {
        "id": "u9apRnOqObfz",
        "colab_type": "code",
        "outputId": "5fb6f1c6-8d46-4e6c-f796-df3c01ed55f7",
        "colab": {
          "base_uri": "https://localhost:8080/",
          "height": 36
        }
      },
      "cell_type": "code",
      "source": [
        "for var in range(200):\n",
        "    corr_var = corr['var_0'].sort_values()\n",
        "    corr_var[0], corr_var[-2]"
      ],
      "execution_count": 0,
      "outputs": [
        {
          "output_type": "execute_result",
          "data": {
            "text/plain": [
              "(-0.007401510615909191, 0.052389591771379765)"
            ]
          },
          "metadata": {
            "tags": []
          },
          "execution_count": 25
        }
      ]
    },
    {
      "metadata": {
        "id": "1zLWoZBsM5bo",
        "colab_type": "text"
      },
      "cell_type": "markdown",
      "source": [
        "# Fit the data with SVM"
      ]
    },
    {
      "metadata": {
        "id": "5YN2itQY6Tid",
        "colab_type": "code",
        "colab": {}
      },
      "cell_type": "code",
      "source": [
        "# clf = svm.SVC(gamma='scale')\n",
        "# print(\"Fitting data\")\n",
        "# clf.fit(train_data_x[:length], train_data_y[:length])\n",
        "# print(\"Predicting data\")\n",
        "# valid_pred = clf.predict(valid_data_x[:length])"
      ],
      "execution_count": 0,
      "outputs": []
    },
    {
      "metadata": {
        "id": "IVQ_gUiL4tjQ",
        "colab_type": "text"
      },
      "cell_type": "markdown",
      "source": [
        "SVM"
      ]
    },
    {
      "metadata": {
        "id": "9X_AFbdd6wEq",
        "colab_type": "code",
        "colab": {}
      },
      "cell_type": "code",
      "source": [
        "output_df = pd.DataFrame()\n",
        "output_df[\"ID_code\"] = valid_data_df[\"ID_code\"]\n",
        "output_df[\"target\"] = valid_pred\n",
        "output_df.to_csv(pred_fn, index=False)"
      ],
      "execution_count": 0,
      "outputs": []
    },
    {
      "metadata": {
        "id": "CiyOtmoZ8mwm",
        "colab_type": "code",
        "outputId": "55a001f0-8e78-4ac1-ace5-c3bb45dd13f6",
        "colab": {
          "base_uri": "https://localhost:8080/",
          "height": 36
        }
      },
      "cell_type": "code",
      "source": [
        "# Started around 10:30, finished 8pm"
      ],
      "execution_count": 0,
      "outputs": [
        {
          "output_type": "stream",
          "text": [
            "2019-02-23 05:48:31.692752\n"
          ],
          "name": "stdout"
        }
      ]
    },
    {
      "metadata": {
        "id": "WVBHVzzH75RH",
        "colab_type": "code",
        "outputId": "a8b8699f-1aec-4d2d-adad-d7c10d396776",
        "colab": {
          "base_uri": "https://localhost:8080/",
          "height": 36
        }
      },
      "cell_type": "code",
      "source": [
        "from joblib import dump, load\n",
        "model_fn = '/content/gdrive/My Drive/santander_data/model.joblib'\n",
        "dump(clf, model_fn)"
      ],
      "execution_count": 0,
      "outputs": [
        {
          "output_type": "execute_result",
          "data": {
            "text/plain": [
              "['/content/gdrive/My Drive/santander_data/model.joblib']"
            ]
          },
          "metadata": {
            "tags": []
          },
          "execution_count": 14
        }
      ]
    },
    {
      "metadata": {
        "id": "IiO6GMHC8S8h",
        "colab_type": "code",
        "colab": {}
      },
      "cell_type": "code",
      "source": [
        "clf2 = load(model_fn)"
      ],
      "execution_count": 0,
      "outputs": []
    },
    {
      "metadata": {
        "id": "QxWTTApG9u07",
        "colab_type": "text"
      },
      "cell_type": "markdown",
      "source": [
        "# XGBoost"
      ]
    },
    {
      "metadata": {
        "id": "Aqeya6Qm7odq",
        "colab_type": "text"
      },
      "cell_type": "markdown",
      "source": [
        "Nested cross-validation"
      ]
    },
    {
      "metadata": {
        "id": "8W99LNFTEIbS",
        "colab_type": "code",
        "outputId": "2d18ca6e-1e95-4452-b28b-388cddaa50ca",
        "colab": {
          "base_uri": "https://localhost:8080/",
          "height": 1344
        }
      },
      "cell_type": "code",
      "source": [
        "param['nthread'] = 4\n",
        "param['eval_metric'] = 'auc'\n",
        "param = {'max_depth':5, 'eta':0.3, 'silent':1, 'objective':'binary:logistic', 'subsample':0.8 }\n",
        "num_rounds = 700\n",
        "parameters = {'objective':'binary:logistic', 'max_depth':[3, 8], 'eta': 0.3, 'silent':1, 'subsample':0.8, 'eval_metric': 'auc', 'nthred': 4}\n",
        "skf_outer = StratifiedKFold(n_splits=10, random_state=6)\n",
        "skf_outer.get_n_splits(train_data_x, train_data_y)\n",
        "for outer_train_index, outer_test_index in skf.split(train_data_x, train_data_y):\n",
        "  skf = StratifiedKFold(n_splits=10, random_state=7)\n",
        "  skf.get_n_splits(train_data_x[outer_train_index], train_data_y[outer_train_index])\n",
        "  start = time.time()\n",
        "  scores = []\n",
        "  for train_index, test_index in skf.split(train_data_x[outer_train_index], train_data_y[outer_train_index]):\n",
        "    X_train, X_test = train_data_x[train_index], train_data_x[test_index]\n",
        "    y_train, y_test = train_data_y[train_index], train_data_y[test_index]\n",
        "    param['scale_pos_weight'] = sum(y_train == 0) / sum(y_train == 1)\n",
        "    dtrain = xgb.DMatrix(X_train, label=y_train)\n",
        "    dvalid = xgb.DMatrix(X_test, label=y_test)\n",
        "    # early stopping uses the last one in evallist\n",
        "    evallist  = [(dtrain,'train'), (dvalid,'eval')]\n",
        "    # Go through all possible parameters\n",
        "      bst = xgb.train(param, dtrain, num_rounds, early_stopping_rounds = 70, evals=evallist)\n",
        "      print(\"Best score: \", bst.best_score)\n",
        "      print(\"Best iteration: \", bst.best_iteration)\n",
        "      print(\"Best ntree limit: \", bst.best_ntree_limit)\n",
        "      scores.append(bst.best_score)\n",
        "  end = time.time()\n",
        "  print(end - start)\n",
        "\n",
        "  print(\"Average score\", statistics.mean(scores))\n",
        "  print(\"Standard deviation: \", statistics.stdev(scores))"
      ],
      "execution_count": 0,
      "outputs": [
        {
          "output_type": "stream",
          "text": [
            "[0]\ttrain-auc:0.646566\teval-auc:0.628803\n",
            "Multiple eval metrics have been passed: 'eval-auc' will be used for early stopping.\n",
            "\n",
            "Will train until eval-auc hasn't improved in 70 rounds.\n",
            "[1]\ttrain-auc:0.686252\teval-auc:0.664215\n",
            "[2]\ttrain-auc:0.715803\teval-auc:0.685956\n",
            "[3]\ttrain-auc:0.736632\teval-auc:0.707514\n",
            "[4]\ttrain-auc:0.753894\teval-auc:0.718675\n",
            "[5]\ttrain-auc:0.768757\teval-auc:0.7322\n",
            "[6]\ttrain-auc:0.778968\teval-auc:0.741405\n",
            "[7]\ttrain-auc:0.791397\teval-auc:0.753428\n",
            "[8]\ttrain-auc:0.800995\teval-auc:0.76239\n",
            "[9]\ttrain-auc:0.808353\teval-auc:0.770906\n",
            "[10]\ttrain-auc:0.812649\teval-auc:0.772197\n",
            "[11]\ttrain-auc:0.819093\teval-auc:0.777129\n",
            "[12]\ttrain-auc:0.82575\teval-auc:0.782993\n",
            "[13]\ttrain-auc:0.831016\teval-auc:0.786439\n",
            "[14]\ttrain-auc:0.835669\teval-auc:0.788893\n",
            "[15]\ttrain-auc:0.840327\teval-auc:0.791865\n",
            "[16]\ttrain-auc:0.84336\teval-auc:0.793588\n",
            "[17]\ttrain-auc:0.846686\teval-auc:0.797412\n",
            "[18]\ttrain-auc:0.850931\teval-auc:0.799835\n",
            "[19]\ttrain-auc:0.855692\teval-auc:0.804384\n",
            "[20]\ttrain-auc:0.858808\teval-auc:0.806937\n",
            "[21]\ttrain-auc:0.861812\teval-auc:0.808324\n",
            "[22]\ttrain-auc:0.864555\teval-auc:0.812401\n",
            "[23]\ttrain-auc:0.867398\teval-auc:0.812703\n",
            "[24]\ttrain-auc:0.870604\teval-auc:0.814794\n",
            "[25]\ttrain-auc:0.873107\teval-auc:0.816465\n",
            "[26]\ttrain-auc:0.875582\teval-auc:0.817479\n",
            "[27]\ttrain-auc:0.877626\teval-auc:0.818401\n",
            "[28]\ttrain-auc:0.880592\teval-auc:0.820569\n",
            "[29]\ttrain-auc:0.883156\teval-auc:0.823299\n",
            "[30]\ttrain-auc:0.885379\teval-auc:0.824594\n",
            "[31]\ttrain-auc:0.887228\teval-auc:0.825713\n",
            "[32]\ttrain-auc:0.889219\teval-auc:0.827034\n",
            "[33]\ttrain-auc:0.890821\teval-auc:0.828428\n"
          ],
          "name": "stdout"
        },
        {
          "output_type": "error",
          "ename": "KeyboardInterrupt",
          "evalue": "ignored",
          "traceback": [
            "\u001b[0;31m---------------------------------------------------------------------------\u001b[0m",
            "\u001b[0;31mKeyboardInterrupt\u001b[0m                         Traceback (most recent call last)",
            "\u001b[0;32m<ipython-input-7-88f5c4eec4ff>\u001b[0m in \u001b[0;36m<module>\u001b[0;34m()\u001b[0m\n\u001b[1;32m     12\u001b[0m   \u001b[0;31m# early stopping uses the last one in evallist\u001b[0m\u001b[0;34m\u001b[0m\u001b[0;34m\u001b[0m\u001b[0;34m\u001b[0m\u001b[0m\n\u001b[1;32m     13\u001b[0m   \u001b[0mevallist\u001b[0m  \u001b[0;34m=\u001b[0m \u001b[0;34m[\u001b[0m\u001b[0;34m(\u001b[0m\u001b[0mdtrain\u001b[0m\u001b[0;34m,\u001b[0m\u001b[0;34m'train'\u001b[0m\u001b[0;34m)\u001b[0m\u001b[0;34m,\u001b[0m \u001b[0;34m(\u001b[0m\u001b[0mdvalid\u001b[0m\u001b[0;34m,\u001b[0m\u001b[0;34m'eval'\u001b[0m\u001b[0;34m)\u001b[0m\u001b[0;34m]\u001b[0m\u001b[0;34m\u001b[0m\u001b[0;34m\u001b[0m\u001b[0m\n\u001b[0;32m---> 14\u001b[0;31m   \u001b[0mbst\u001b[0m \u001b[0;34m=\u001b[0m \u001b[0mxgb\u001b[0m\u001b[0;34m.\u001b[0m\u001b[0mtrain\u001b[0m\u001b[0;34m(\u001b[0m\u001b[0mparam\u001b[0m\u001b[0;34m,\u001b[0m \u001b[0mdtrain\u001b[0m\u001b[0;34m,\u001b[0m \u001b[0mnum_rounds\u001b[0m\u001b[0;34m,\u001b[0m \u001b[0mearly_stopping_rounds\u001b[0m \u001b[0;34m=\u001b[0m \u001b[0;36m70\u001b[0m\u001b[0;34m,\u001b[0m \u001b[0mevals\u001b[0m\u001b[0;34m=\u001b[0m\u001b[0mevallist\u001b[0m\u001b[0;34m)\u001b[0m\u001b[0;34m\u001b[0m\u001b[0;34m\u001b[0m\u001b[0m\n\u001b[0m\u001b[1;32m     15\u001b[0m   \u001b[0mprint\u001b[0m\u001b[0;34m(\u001b[0m\u001b[0;34m\"Best score: \"\u001b[0m\u001b[0;34m,\u001b[0m \u001b[0mbst\u001b[0m\u001b[0;34m.\u001b[0m\u001b[0mbest_score\u001b[0m\u001b[0;34m)\u001b[0m\u001b[0;34m\u001b[0m\u001b[0;34m\u001b[0m\u001b[0m\n\u001b[1;32m     16\u001b[0m   \u001b[0mprint\u001b[0m\u001b[0;34m(\u001b[0m\u001b[0;34m\"Best iteration: \"\u001b[0m\u001b[0;34m,\u001b[0m \u001b[0mbst\u001b[0m\u001b[0;34m.\u001b[0m\u001b[0mbest_iteration\u001b[0m\u001b[0;34m)\u001b[0m\u001b[0;34m\u001b[0m\u001b[0;34m\u001b[0m\u001b[0m\n",
            "\u001b[0;32m/usr/local/lib/python3.6/dist-packages/xgboost/training.py\u001b[0m in \u001b[0;36mtrain\u001b[0;34m(params, dtrain, num_boost_round, evals, obj, feval, maximize, early_stopping_rounds, evals_result, verbose_eval, xgb_model, callbacks, learning_rates)\u001b[0m\n\u001b[1;32m    202\u001b[0m                            \u001b[0mevals\u001b[0m\u001b[0;34m=\u001b[0m\u001b[0mevals\u001b[0m\u001b[0;34m,\u001b[0m\u001b[0;34m\u001b[0m\u001b[0;34m\u001b[0m\u001b[0m\n\u001b[1;32m    203\u001b[0m                            \u001b[0mobj\u001b[0m\u001b[0;34m=\u001b[0m\u001b[0mobj\u001b[0m\u001b[0;34m,\u001b[0m \u001b[0mfeval\u001b[0m\u001b[0;34m=\u001b[0m\u001b[0mfeval\u001b[0m\u001b[0;34m,\u001b[0m\u001b[0;34m\u001b[0m\u001b[0;34m\u001b[0m\u001b[0m\n\u001b[0;32m--> 204\u001b[0;31m                            xgb_model=xgb_model, callbacks=callbacks)\n\u001b[0m\u001b[1;32m    205\u001b[0m \u001b[0;34m\u001b[0m\u001b[0m\n\u001b[1;32m    206\u001b[0m \u001b[0;34m\u001b[0m\u001b[0m\n",
            "\u001b[0;32m/usr/local/lib/python3.6/dist-packages/xgboost/training.py\u001b[0m in \u001b[0;36m_train_internal\u001b[0;34m(params, dtrain, num_boost_round, evals, obj, feval, xgb_model, callbacks)\u001b[0m\n\u001b[1;32m     72\u001b[0m         \u001b[0;31m# Skip the first update if it is a recovery step.\u001b[0m\u001b[0;34m\u001b[0m\u001b[0;34m\u001b[0m\u001b[0;34m\u001b[0m\u001b[0m\n\u001b[1;32m     73\u001b[0m         \u001b[0;32mif\u001b[0m \u001b[0mversion\u001b[0m \u001b[0;34m%\u001b[0m \u001b[0;36m2\u001b[0m \u001b[0;34m==\u001b[0m \u001b[0;36m0\u001b[0m\u001b[0;34m:\u001b[0m\u001b[0;34m\u001b[0m\u001b[0;34m\u001b[0m\u001b[0m\n\u001b[0;32m---> 74\u001b[0;31m             \u001b[0mbst\u001b[0m\u001b[0;34m.\u001b[0m\u001b[0mupdate\u001b[0m\u001b[0;34m(\u001b[0m\u001b[0mdtrain\u001b[0m\u001b[0;34m,\u001b[0m \u001b[0mi\u001b[0m\u001b[0;34m,\u001b[0m \u001b[0mobj\u001b[0m\u001b[0;34m)\u001b[0m\u001b[0;34m\u001b[0m\u001b[0;34m\u001b[0m\u001b[0m\n\u001b[0m\u001b[1;32m     75\u001b[0m             \u001b[0mbst\u001b[0m\u001b[0;34m.\u001b[0m\u001b[0msave_rabit_checkpoint\u001b[0m\u001b[0;34m(\u001b[0m\u001b[0;34m)\u001b[0m\u001b[0;34m\u001b[0m\u001b[0;34m\u001b[0m\u001b[0m\n\u001b[1;32m     76\u001b[0m             \u001b[0mversion\u001b[0m \u001b[0;34m+=\u001b[0m \u001b[0;36m1\u001b[0m\u001b[0;34m\u001b[0m\u001b[0;34m\u001b[0m\u001b[0m\n",
            "\u001b[0;32m/usr/local/lib/python3.6/dist-packages/xgboost/core.py\u001b[0m in \u001b[0;36mupdate\u001b[0;34m(self, dtrain, iteration, fobj)\u001b[0m\n\u001b[1;32m    896\u001b[0m         \u001b[0;32mif\u001b[0m \u001b[0mfobj\u001b[0m \u001b[0;32mis\u001b[0m \u001b[0;32mNone\u001b[0m\u001b[0;34m:\u001b[0m\u001b[0;34m\u001b[0m\u001b[0;34m\u001b[0m\u001b[0m\n\u001b[1;32m    897\u001b[0m             _check_call(_LIB.XGBoosterUpdateOneIter(self.handle, ctypes.c_int(iteration),\n\u001b[0;32m--> 898\u001b[0;31m                                                     dtrain.handle))\n\u001b[0m\u001b[1;32m    899\u001b[0m         \u001b[0;32melse\u001b[0m\u001b[0;34m:\u001b[0m\u001b[0;34m\u001b[0m\u001b[0;34m\u001b[0m\u001b[0m\n\u001b[1;32m    900\u001b[0m             \u001b[0mpred\u001b[0m \u001b[0;34m=\u001b[0m \u001b[0mself\u001b[0m\u001b[0;34m.\u001b[0m\u001b[0mpredict\u001b[0m\u001b[0;34m(\u001b[0m\u001b[0mdtrain\u001b[0m\u001b[0;34m)\u001b[0m\u001b[0;34m\u001b[0m\u001b[0;34m\u001b[0m\u001b[0m\n",
            "\u001b[0;31mKeyboardInterrupt\u001b[0m: "
          ]
        }
      ]
    },
    {
      "metadata": {
        "id": "Ui3t7EQvlVno",
        "colab_type": "text"
      },
      "cell_type": "markdown",
      "source": [
        "Inner cv"
      ]
    },
    {
      "metadata": {
        "id": "vRU9o34WarMo",
        "colab_type": "code",
        "colab": {}
      },
      "cell_type": "code",
      "source": [
        "param_test1 = {\n",
        " 'max_depth':range(5, 7, 1),\n",
        " 'min_child_weight':range(1, 3, 1)\n",
        "}\n",
        "params = {'tree_method':'gpu_hist', 'predictor':'gpu_predictor', 'learning_rate':0.1, \n",
        "          'n_estimators':140, 'max_depth':5, 'min_child_weight':1, 'gamma':0, 'subsample':0.8, \n",
        "          'colsample_bytree':0.8, 'objective': 'binary:logistic', 'scale_pos_weight':1, 'seed':27, 'silent':False}\n",
        "params = {'learning_rate':0.1, \n",
        "          'n_estimators':140, 'max_depth':5, 'min_child_weight':1, 'gamma':0, 'subsample':0.8, \n",
        "          'colsample_bytree':0.8, 'objective': 'binary:logistic', 'scale_pos_weight':1, 'seed':27, 'silent':False}\n",
        "gsearch1 = GridSearchCV(estimator = XGBClassifier(params), param_grid = param_test1, scoring='roc_auc',n_jobs=4,iid=False, cv=5, verbose=50)"
      ],
      "execution_count": 0,
      "outputs": []
    },
    {
      "metadata": {
        "id": "p3kB5Jb7a3yi",
        "colab_type": "code",
        "outputId": "c28923d7-60f5-4a9e-c516-ddd3c153fadb",
        "colab": {
          "base_uri": "https://localhost:8080/",
          "height": 1529
        }
      },
      "cell_type": "code",
      "source": [
        "gsearch1.fit(train_data_x, train_data_y)"
      ],
      "execution_count": 0,
      "outputs": [
        {
          "output_type": "stream",
          "text": [
            "Fitting 5 folds for each of 4 candidates, totalling 20 fits\n",
            "[Parallel(n_jobs=4)]: Using backend LokyBackend with 4 concurrent workers.\n",
            "[Parallel(n_jobs=4)]: Done   1 tasks      | elapsed: 22.3min\n",
            "[Parallel(n_jobs=4)]: Done   2 tasks      | elapsed: 22.3min\n",
            "[Parallel(n_jobs=4)]: Done   3 tasks      | elapsed: 22.3min\n",
            "[Parallel(n_jobs=4)]: Done   4 tasks      | elapsed: 22.4min\n",
            "[Parallel(n_jobs=4)]: Done   5 tasks      | elapsed: 44.9min\n",
            "[Parallel(n_jobs=4)]: Done   6 tasks      | elapsed: 44.9min\n",
            "[Parallel(n_jobs=4)]: Done   7 tasks      | elapsed: 44.9min\n",
            "[Parallel(n_jobs=4)]: Done   8 tasks      | elapsed: 45.0min\n",
            "[Parallel(n_jobs=4)]: Done   9 tasks      | elapsed: 46.9min\n",
            "[Parallel(n_jobs=4)]: Done  10 tasks      | elapsed: 46.9min\n",
            "[Parallel(n_jobs=4)]: Done  11 tasks      | elapsed: 46.9min\n",
            "[Parallel(n_jobs=4)]: Done  12 tasks      | elapsed: 46.9min\n",
            "[Parallel(n_jobs=4)]: Done  13 tasks      | elapsed: 46.9min\n",
            "[Parallel(n_jobs=4)]: Done  14 out of  16 | elapsed: 46.9min remaining:  6.7min\n",
            "[Parallel(n_jobs=4)]: Done  16 out of  16 | elapsed: 46.9min remaining:    0.0s\n"
          ],
          "name": "stdout"
        },
        {
          "output_type": "error",
          "ename": "KeyboardInterrupt",
          "evalue": "ignored",
          "traceback": [
            "\u001b[0;31m---------------------------------------------------------------------------\u001b[0m",
            "\u001b[0;31mKeyboardInterrupt\u001b[0m                         Traceback (most recent call last)",
            "\u001b[0;32m<ipython-input-9-ead8e325921b>\u001b[0m in \u001b[0;36m<module>\u001b[0;34m()\u001b[0m\n\u001b[0;32m----> 1\u001b[0;31m \u001b[0mgsearch1\u001b[0m\u001b[0;34m.\u001b[0m\u001b[0mfit\u001b[0m\u001b[0;34m(\u001b[0m\u001b[0mtrain_data_x\u001b[0m\u001b[0;34m,\u001b[0m \u001b[0mtrain_data_y\u001b[0m\u001b[0;34m)\u001b[0m\u001b[0;34m\u001b[0m\u001b[0;34m\u001b[0m\u001b[0m\n\u001b[0m",
            "\u001b[0;32m/usr/local/lib/python3.6/dist-packages/sklearn/model_selection/_search.py\u001b[0m in \u001b[0;36mfit\u001b[0;34m(self, X, y, groups, **fit_params)\u001b[0m\n\u001b[1;32m    720\u001b[0m                 \u001b[0;32mreturn\u001b[0m \u001b[0mresults_container\u001b[0m\u001b[0;34m[\u001b[0m\u001b[0;36m0\u001b[0m\u001b[0;34m]\u001b[0m\u001b[0;34m\u001b[0m\u001b[0;34m\u001b[0m\u001b[0m\n\u001b[1;32m    721\u001b[0m \u001b[0;34m\u001b[0m\u001b[0m\n\u001b[0;32m--> 722\u001b[0;31m             \u001b[0mself\u001b[0m\u001b[0;34m.\u001b[0m\u001b[0m_run_search\u001b[0m\u001b[0;34m(\u001b[0m\u001b[0mevaluate_candidates\u001b[0m\u001b[0;34m)\u001b[0m\u001b[0;34m\u001b[0m\u001b[0;34m\u001b[0m\u001b[0m\n\u001b[0m\u001b[1;32m    723\u001b[0m \u001b[0;34m\u001b[0m\u001b[0m\n\u001b[1;32m    724\u001b[0m         \u001b[0mresults\u001b[0m \u001b[0;34m=\u001b[0m \u001b[0mresults_container\u001b[0m\u001b[0;34m[\u001b[0m\u001b[0;36m0\u001b[0m\u001b[0;34m]\u001b[0m\u001b[0;34m\u001b[0m\u001b[0;34m\u001b[0m\u001b[0m\n",
            "\u001b[0;32m/usr/local/lib/python3.6/dist-packages/sklearn/model_selection/_search.py\u001b[0m in \u001b[0;36m_run_search\u001b[0;34m(self, evaluate_candidates)\u001b[0m\n\u001b[1;32m   1189\u001b[0m     \u001b[0;32mdef\u001b[0m \u001b[0m_run_search\u001b[0m\u001b[0;34m(\u001b[0m\u001b[0mself\u001b[0m\u001b[0;34m,\u001b[0m \u001b[0mevaluate_candidates\u001b[0m\u001b[0;34m)\u001b[0m\u001b[0;34m:\u001b[0m\u001b[0;34m\u001b[0m\u001b[0;34m\u001b[0m\u001b[0m\n\u001b[1;32m   1190\u001b[0m         \u001b[0;34m\"\"\"Search all candidates in param_grid\"\"\"\u001b[0m\u001b[0;34m\u001b[0m\u001b[0;34m\u001b[0m\u001b[0m\n\u001b[0;32m-> 1191\u001b[0;31m         \u001b[0mevaluate_candidates\u001b[0m\u001b[0;34m(\u001b[0m\u001b[0mParameterGrid\u001b[0m\u001b[0;34m(\u001b[0m\u001b[0mself\u001b[0m\u001b[0;34m.\u001b[0m\u001b[0mparam_grid\u001b[0m\u001b[0;34m)\u001b[0m\u001b[0;34m)\u001b[0m\u001b[0;34m\u001b[0m\u001b[0;34m\u001b[0m\u001b[0m\n\u001b[0m\u001b[1;32m   1192\u001b[0m \u001b[0;34m\u001b[0m\u001b[0m\n\u001b[1;32m   1193\u001b[0m \u001b[0;34m\u001b[0m\u001b[0m\n",
            "\u001b[0;32m/usr/local/lib/python3.6/dist-packages/sklearn/model_selection/_search.py\u001b[0m in \u001b[0;36mevaluate_candidates\u001b[0;34m(candidate_params)\u001b[0m\n\u001b[1;32m    709\u001b[0m                                \u001b[0;32mfor\u001b[0m \u001b[0mparameters\u001b[0m\u001b[0;34m,\u001b[0m \u001b[0;34m(\u001b[0m\u001b[0mtrain\u001b[0m\u001b[0;34m,\u001b[0m \u001b[0mtest\u001b[0m\u001b[0;34m)\u001b[0m\u001b[0;34m\u001b[0m\u001b[0;34m\u001b[0m\u001b[0m\n\u001b[1;32m    710\u001b[0m                                in product(candidate_params,\n\u001b[0;32m--> 711\u001b[0;31m                                           cv.split(X, y, groups)))\n\u001b[0m\u001b[1;32m    712\u001b[0m \u001b[0;34m\u001b[0m\u001b[0m\n\u001b[1;32m    713\u001b[0m                 \u001b[0mall_candidate_params\u001b[0m\u001b[0;34m.\u001b[0m\u001b[0mextend\u001b[0m\u001b[0;34m(\u001b[0m\u001b[0mcandidate_params\u001b[0m\u001b[0;34m)\u001b[0m\u001b[0;34m\u001b[0m\u001b[0;34m\u001b[0m\u001b[0m\n",
            "\u001b[0;32m/usr/local/lib/python3.6/dist-packages/sklearn/externals/joblib/parallel.py\u001b[0m in \u001b[0;36m__call__\u001b[0;34m(self, iterable)\u001b[0m\n\u001b[1;32m    928\u001b[0m \u001b[0;34m\u001b[0m\u001b[0m\n\u001b[1;32m    929\u001b[0m             \u001b[0;32mwith\u001b[0m \u001b[0mself\u001b[0m\u001b[0;34m.\u001b[0m\u001b[0m_backend\u001b[0m\u001b[0;34m.\u001b[0m\u001b[0mretrieval_context\u001b[0m\u001b[0;34m(\u001b[0m\u001b[0;34m)\u001b[0m\u001b[0;34m:\u001b[0m\u001b[0;34m\u001b[0m\u001b[0;34m\u001b[0m\u001b[0m\n\u001b[0;32m--> 930\u001b[0;31m                 \u001b[0mself\u001b[0m\u001b[0;34m.\u001b[0m\u001b[0mretrieve\u001b[0m\u001b[0;34m(\u001b[0m\u001b[0;34m)\u001b[0m\u001b[0;34m\u001b[0m\u001b[0;34m\u001b[0m\u001b[0m\n\u001b[0m\u001b[1;32m    931\u001b[0m             \u001b[0;31m# Make sure that we get a last message telling us we are done\u001b[0m\u001b[0;34m\u001b[0m\u001b[0;34m\u001b[0m\u001b[0;34m\u001b[0m\u001b[0m\n\u001b[1;32m    932\u001b[0m             \u001b[0melapsed_time\u001b[0m \u001b[0;34m=\u001b[0m \u001b[0mtime\u001b[0m\u001b[0;34m.\u001b[0m\u001b[0mtime\u001b[0m\u001b[0;34m(\u001b[0m\u001b[0;34m)\u001b[0m \u001b[0;34m-\u001b[0m \u001b[0mself\u001b[0m\u001b[0;34m.\u001b[0m\u001b[0m_start_time\u001b[0m\u001b[0;34m\u001b[0m\u001b[0;34m\u001b[0m\u001b[0m\n",
            "\u001b[0;32m/usr/local/lib/python3.6/dist-packages/sklearn/externals/joblib/parallel.py\u001b[0m in \u001b[0;36mretrieve\u001b[0;34m(self)\u001b[0m\n\u001b[1;32m    831\u001b[0m             \u001b[0;32mtry\u001b[0m\u001b[0;34m:\u001b[0m\u001b[0;34m\u001b[0m\u001b[0;34m\u001b[0m\u001b[0m\n\u001b[1;32m    832\u001b[0m                 \u001b[0;32mif\u001b[0m \u001b[0mgetattr\u001b[0m\u001b[0;34m(\u001b[0m\u001b[0mself\u001b[0m\u001b[0;34m.\u001b[0m\u001b[0m_backend\u001b[0m\u001b[0;34m,\u001b[0m \u001b[0;34m'supports_timeout'\u001b[0m\u001b[0;34m,\u001b[0m \u001b[0;32mFalse\u001b[0m\u001b[0;34m)\u001b[0m\u001b[0;34m:\u001b[0m\u001b[0;34m\u001b[0m\u001b[0;34m\u001b[0m\u001b[0m\n\u001b[0;32m--> 833\u001b[0;31m                     \u001b[0mself\u001b[0m\u001b[0;34m.\u001b[0m\u001b[0m_output\u001b[0m\u001b[0;34m.\u001b[0m\u001b[0mextend\u001b[0m\u001b[0;34m(\u001b[0m\u001b[0mjob\u001b[0m\u001b[0;34m.\u001b[0m\u001b[0mget\u001b[0m\u001b[0;34m(\u001b[0m\u001b[0mtimeout\u001b[0m\u001b[0;34m=\u001b[0m\u001b[0mself\u001b[0m\u001b[0;34m.\u001b[0m\u001b[0mtimeout\u001b[0m\u001b[0;34m)\u001b[0m\u001b[0;34m)\u001b[0m\u001b[0;34m\u001b[0m\u001b[0;34m\u001b[0m\u001b[0m\n\u001b[0m\u001b[1;32m    834\u001b[0m                 \u001b[0;32melse\u001b[0m\u001b[0;34m:\u001b[0m\u001b[0;34m\u001b[0m\u001b[0;34m\u001b[0m\u001b[0m\n\u001b[1;32m    835\u001b[0m                     \u001b[0mself\u001b[0m\u001b[0;34m.\u001b[0m\u001b[0m_output\u001b[0m\u001b[0;34m.\u001b[0m\u001b[0mextend\u001b[0m\u001b[0;34m(\u001b[0m\u001b[0mjob\u001b[0m\u001b[0;34m.\u001b[0m\u001b[0mget\u001b[0m\u001b[0;34m(\u001b[0m\u001b[0;34m)\u001b[0m\u001b[0;34m)\u001b[0m\u001b[0;34m\u001b[0m\u001b[0;34m\u001b[0m\u001b[0m\n",
            "\u001b[0;32m/usr/local/lib/python3.6/dist-packages/sklearn/externals/joblib/_parallel_backends.py\u001b[0m in \u001b[0;36mwrap_future_result\u001b[0;34m(future, timeout)\u001b[0m\n\u001b[1;32m    519\u001b[0m         AsyncResults.get from multiprocessing.\"\"\"\n\u001b[1;32m    520\u001b[0m         \u001b[0;32mtry\u001b[0m\u001b[0;34m:\u001b[0m\u001b[0;34m\u001b[0m\u001b[0;34m\u001b[0m\u001b[0m\n\u001b[0;32m--> 521\u001b[0;31m             \u001b[0;32mreturn\u001b[0m \u001b[0mfuture\u001b[0m\u001b[0;34m.\u001b[0m\u001b[0mresult\u001b[0m\u001b[0;34m(\u001b[0m\u001b[0mtimeout\u001b[0m\u001b[0;34m=\u001b[0m\u001b[0mtimeout\u001b[0m\u001b[0;34m)\u001b[0m\u001b[0;34m\u001b[0m\u001b[0;34m\u001b[0m\u001b[0m\n\u001b[0m\u001b[1;32m    522\u001b[0m         \u001b[0;32mexcept\u001b[0m \u001b[0mLokyTimeoutError\u001b[0m\u001b[0;34m:\u001b[0m\u001b[0;34m\u001b[0m\u001b[0;34m\u001b[0m\u001b[0m\n\u001b[1;32m    523\u001b[0m             \u001b[0;32mraise\u001b[0m \u001b[0mTimeoutError\u001b[0m\u001b[0;34m(\u001b[0m\u001b[0;34m)\u001b[0m\u001b[0;34m\u001b[0m\u001b[0;34m\u001b[0m\u001b[0m\n",
            "\u001b[0;32m/usr/lib/python3.6/concurrent/futures/_base.py\u001b[0m in \u001b[0;36mresult\u001b[0;34m(self, timeout)\u001b[0m\n\u001b[1;32m    425\u001b[0m                 \u001b[0;32mreturn\u001b[0m \u001b[0mself\u001b[0m\u001b[0;34m.\u001b[0m\u001b[0m__get_result\u001b[0m\u001b[0;34m(\u001b[0m\u001b[0;34m)\u001b[0m\u001b[0;34m\u001b[0m\u001b[0;34m\u001b[0m\u001b[0m\n\u001b[1;32m    426\u001b[0m \u001b[0;34m\u001b[0m\u001b[0m\n\u001b[0;32m--> 427\u001b[0;31m             \u001b[0mself\u001b[0m\u001b[0;34m.\u001b[0m\u001b[0m_condition\u001b[0m\u001b[0;34m.\u001b[0m\u001b[0mwait\u001b[0m\u001b[0;34m(\u001b[0m\u001b[0mtimeout\u001b[0m\u001b[0;34m)\u001b[0m\u001b[0;34m\u001b[0m\u001b[0;34m\u001b[0m\u001b[0m\n\u001b[0m\u001b[1;32m    428\u001b[0m \u001b[0;34m\u001b[0m\u001b[0m\n\u001b[1;32m    429\u001b[0m             \u001b[0;32mif\u001b[0m \u001b[0mself\u001b[0m\u001b[0;34m.\u001b[0m\u001b[0m_state\u001b[0m \u001b[0;32min\u001b[0m \u001b[0;34m[\u001b[0m\u001b[0mCANCELLED\u001b[0m\u001b[0;34m,\u001b[0m \u001b[0mCANCELLED_AND_NOTIFIED\u001b[0m\u001b[0;34m]\u001b[0m\u001b[0;34m:\u001b[0m\u001b[0;34m\u001b[0m\u001b[0;34m\u001b[0m\u001b[0m\n",
            "\u001b[0;32m/usr/lib/python3.6/threading.py\u001b[0m in \u001b[0;36mwait\u001b[0;34m(self, timeout)\u001b[0m\n\u001b[1;32m    293\u001b[0m         \u001b[0;32mtry\u001b[0m\u001b[0;34m:\u001b[0m    \u001b[0;31m# restore state no matter what (e.g., KeyboardInterrupt)\u001b[0m\u001b[0;34m\u001b[0m\u001b[0;34m\u001b[0m\u001b[0m\n\u001b[1;32m    294\u001b[0m             \u001b[0;32mif\u001b[0m \u001b[0mtimeout\u001b[0m \u001b[0;32mis\u001b[0m \u001b[0;32mNone\u001b[0m\u001b[0;34m:\u001b[0m\u001b[0;34m\u001b[0m\u001b[0;34m\u001b[0m\u001b[0m\n\u001b[0;32m--> 295\u001b[0;31m                 \u001b[0mwaiter\u001b[0m\u001b[0;34m.\u001b[0m\u001b[0macquire\u001b[0m\u001b[0;34m(\u001b[0m\u001b[0;34m)\u001b[0m\u001b[0;34m\u001b[0m\u001b[0;34m\u001b[0m\u001b[0m\n\u001b[0m\u001b[1;32m    296\u001b[0m                 \u001b[0mgotit\u001b[0m \u001b[0;34m=\u001b[0m \u001b[0;32mTrue\u001b[0m\u001b[0;34m\u001b[0m\u001b[0;34m\u001b[0m\u001b[0m\n\u001b[1;32m    297\u001b[0m             \u001b[0;32melse\u001b[0m\u001b[0;34m:\u001b[0m\u001b[0;34m\u001b[0m\u001b[0;34m\u001b[0m\u001b[0m\n",
            "\u001b[0;31mKeyboardInterrupt\u001b[0m: "
          ]
        }
      ]
    },
    {
      "metadata": {
        "id": "pm7lIXyzQJ3r",
        "colab_type": "code",
        "outputId": "2485f396-7aa0-4bc8-f7a3-9d32f09fdc02",
        "colab": {
          "base_uri": "https://localhost:8080/",
          "height": 314
        }
      },
      "cell_type": "code",
      "source": [
        ""
      ],
      "execution_count": 0,
      "outputs": [
        {
          "output_type": "stream",
          "text": [
            "Uninstalling sklearn-0.0:\n",
            "  Would remove:\n",
            "    /usr/local/lib/python3.6/dist-packages/sklearn-0.0-py3.6.egg-info\n",
            "Proceed (y/n)? y\n",
            "  Successfully uninstalled sklearn-0.0\n",
            "Collecting sklearn\n",
            "  Downloading https://files.pythonhosted.org/packages/1e/7a/dbb3be0ce9bd5c8b7e3d87328e79063f8b263b2b1bfa4774cb1147bfcd3f/sklearn-0.0.tar.gz\n",
            "Requirement already satisfied: scikit-learn in /usr/local/lib/python3.6/dist-packages (from sklearn) (0.20.2)\n",
            "Requirement already satisfied: numpy>=1.8.2 in /usr/local/lib/python3.6/dist-packages (from scikit-learn->sklearn) (1.14.6)\n",
            "Requirement already satisfied: scipy>=0.13.3 in /usr/local/lib/python3.6/dist-packages (from scikit-learn->sklearn) (1.1.0)\n",
            "Building wheels for collected packages: sklearn\n",
            "  Building wheel for sklearn (setup.py) ... \u001b[?25ldone\n",
            "\u001b[?25h  Stored in directory: /root/.cache/pip/wheels/76/03/bb/589d421d27431bcd2c6da284d5f2286c8e3b2ea3cf1594c074\n",
            "Successfully built sklearn\n",
            "Installing collected packages: sklearn\n",
            "Successfully installed sklearn-0.0\n"
          ],
          "name": "stdout"
        }
      ]
    },
    {
      "metadata": {
        "id": "kKcQig5YQZqQ",
        "colab_type": "code",
        "outputId": "afadc1b4-12c5-4d1e-b14e-b9c64998c201",
        "colab": {
          "base_uri": "https://localhost:8080/",
          "height": 173
        }
      },
      "cell_type": "code",
      "source": [
        "gsearch1.cv_results_"
      ],
      "execution_count": 0,
      "outputs": [
        {
          "output_type": "error",
          "ename": "NameError",
          "evalue": "ignored",
          "traceback": [
            "\u001b[0;31m---------------------------------------------------------------------------\u001b[0m",
            "\u001b[0;31mNameError\u001b[0m                                 Traceback (most recent call last)",
            "\u001b[0;32m<ipython-input-1-b449ac824ac6>\u001b[0m in \u001b[0;36m<module>\u001b[0;34m()\u001b[0m\n\u001b[0;32m----> 1\u001b[0;31m \u001b[0mgsearch1\u001b[0m\u001b[0;34m.\u001b[0m\u001b[0mcv_results_\u001b[0m\u001b[0;34m\u001b[0m\u001b[0;34m\u001b[0m\u001b[0m\n\u001b[0m",
            "\u001b[0;31mNameError\u001b[0m: name 'gsearch1' is not defined"
          ]
        }
      ]
    },
    {
      "metadata": {
        "id": "l_JTG5LLQzSM",
        "colab_type": "code",
        "outputId": "eb60ef8a-5de6-4eea-b5bc-9937d14db605",
        "colab": {
          "base_uri": "https://localhost:8080/",
          "height": 36
        }
      },
      "cell_type": "code",
      "source": [
        "gsearch1.best_params_, gsearch1.best_score_"
      ],
      "execution_count": 0,
      "outputs": [
        {
          "output_type": "execute_result",
          "data": {
            "text/plain": [
              "({'max_depth': 6, 'min_child_weight': 2}, 0.8528578236824618)"
            ]
          },
          "metadata": {
            "tags": []
          },
          "execution_count": 28
        }
      ]
    },
    {
      "metadata": {
        "id": "i_33qip_DHwd",
        "colab_type": "text"
      },
      "cell_type": "markdown",
      "source": [
        "Train the best model on all of the data"
      ]
    },
    {
      "metadata": {
        "id": "ZkAOnVKZEi_F",
        "colab_type": "code",
        "outputId": "aba88d6c-429e-4d59-f799-8c2aeea40f62",
        "colab": {
          "base_uri": "https://localhost:8080/",
          "height": 54
        }
      },
      "cell_type": "code",
      "source": [
        "# make prediction\n",
        "#bst.save_model('/content/gdrive/My Drive/santander_data/xg_11.model')\n",
        "start = time.time()\n",
        "dtest = xgb.DMatrix(valid_data_x[:length])\n",
        "preds = bst.predict(dtest)\n",
        "output_df = pd.DataFrame()\n",
        "output_df[\"ID_code\"] = valid_data_df[\"ID_code\"]\n",
        "output_df[\"target\"] = preds\n",
        "output_df.to_csv(pred_fn, index=False)\n",
        "end = time.time()\n",
        "print(end - start)\n",
        "len(preds)"
      ],
      "execution_count": 0,
      "outputs": [
        {
          "output_type": "stream",
          "text": [
            "5.239246129989624\n"
          ],
          "name": "stdout"
        },
        {
          "output_type": "execute_result",
          "data": {
            "text/plain": [
              "200000"
            ]
          },
          "metadata": {
            "tags": []
          },
          "execution_count": 21
        }
      ]
    },
    {
      "metadata": {
        "id": "ZG27QG7ZE_8r",
        "colab_type": "code",
        "colab": {}
      },
      "cell_type": "code",
      "source": [
        "#bst = xgb.Booster({'nthread': 4})  # init model\n",
        "#bst.load_model('model.bin')  # load data"
      ],
      "execution_count": 0,
      "outputs": []
    },
    {
      "metadata": {
        "id": "c1oZs4tXIyFB",
        "colab_type": "text"
      },
      "cell_type": "markdown",
      "source": [
        "\n",
        "\n",
        "```\n",
        "# This is formatted as code\n",
        "```\n",
        "\n",
        "Tune XGBoost train until overfit, try dnn"
      ]
    },
    {
      "metadata": {
        "id": "zZ3ZinY2Iz8E",
        "colab_type": "code",
        "colab": {}
      },
      "cell_type": "code",
      "source": [
        ""
      ],
      "execution_count": 0,
      "outputs": []
    },
    {
      "metadata": {
        "id": "uHxAVwx3WNnf",
        "colab_type": "text"
      },
      "cell_type": "markdown",
      "source": [
        "# XGBoost Nested Cross Validation with Bayesian Hyperparameter Optimization"
      ]
    },
    {
      "metadata": {
        "id": "tluNjhPZXxxE",
        "colab_type": "code",
        "colab": {}
      },
      "cell_type": "code",
      "source": [
        "# SETTINGS - CHANGE THESE TO GET SOMETHING MEANINGFUL\n",
        "ITERATIONS = 50 # 1000"
      ],
      "execution_count": 0,
      "outputs": []
    },
    {
      "metadata": {
        "id": "imj6no5cX9g1",
        "colab_type": "code",
        "colab": {}
      },
      "cell_type": "code",
      "source": [
        "# Classifier\n",
        "bayes_cv_tuner = BayesSearchCV(\n",
        "    estimator = xgb.XGBClassifier(\n",
        "        objective = 'binary:logistic',\n",
        "        silent=0,\n",
        "        tree_method='gpu_hist'\n",
        "    ),\n",
        "    search_spaces = {\n",
        "        'learning_rate': (0.01, 1.0, 'log-uniform'),\n",
        "        'min_child_weight': (0, 10),\n",
        "        'max_depth': (0, 50),\n",
        "        'max_delta_step': (0, 20),\n",
        "        'subsample': (0.01, 1.0, 'uniform'),\n",
        "        'colsample_bytree': (0.01, 1.0, 'uniform'),\n",
        "        'colsample_bylevel': (0.01, 1.0, 'uniform'),\n",
        "        'reg_lambda': (1e-9, 1000, 'log-uniform'),\n",
        "        'reg_alpha': (1e-9, 1.0, 'log-uniform'),\n",
        "        'gamma': (1e-9, 0.5, 'log-uniform'),\n",
        "        'min_child_weight': (0, 5),\n",
        "        'n_estimators': (50, 100),\n",
        "        'scale_pos_weight': (1e-6, 500, 'log-uniform')\n",
        "    },    \n",
        "    scoring = 'roc_auc',\n",
        "    cv = StratifiedKFold(\n",
        "        n_splits=3,\n",
        "        shuffle=True,\n",
        "        random_state=42\n",
        "    ),\n",
        "    n_jobs = 1,\n",
        "    n_iter = ITERATIONS,   \n",
        "    verbose = 0,\n",
        "    refit = True,\n",
        "    random_state = 42\n",
        ")\n",
        "\n",
        "def status_print(optim_result):\n",
        "    \"\"\"Status callback durring bayesian hyperparameter search\"\"\"\n",
        "    \n",
        "    # Get all the models tested so far in DataFrame format\n",
        "    all_models = pd.DataFrame(bayes_cv_tuner.cv_results_)    \n",
        "    \n",
        "    # Get current parameters and the best parameters    \n",
        "    best_params = pd.Series(bayes_cv_tuner.best_params_)\n",
        "    print('Model #{}\\nBest ROC-AUC: {}\\nBest params: {}\\n'.format(\n",
        "        len(all_models),\n",
        "        np.round(bayes_cv_tuner.best_score_, 4),\n",
        "        bayes_cv_tuner.best_params_\n",
        "    ))\n",
        "    \n",
        "    # Save all model results\n",
        "    clf_name = bayes_cv_tuner.estimator.__class__.__name__\n",
        "    all_models.to_csv(\"/content/gdrive/My Drive/santander_data/\" + clf_name + \"_cv_results.csv\")"
      ],
      "execution_count": 0,
      "outputs": []
    },
    {
      "metadata": {
        "id": "42KF-O3nX-lC",
        "colab_type": "code",
        "outputId": "54b507b3-0615-49ff-995d-0ec61c04e2eb",
        "colab": {
          "base_uri": "https://localhost:8080/",
          "height": 334
        }
      },
      "cell_type": "code",
      "source": [
        "# Fit the model\n",
        "result = bayes_cv_tuner.fit(train_data_x, train_data_y, callback=status_print)"
      ],
      "execution_count": 0,
      "outputs": [
        {
          "output_type": "stream",
          "text": [
            "Model #1\n",
            "Best ROC-AUC: 0.8202\n",
            "Best params: {'colsample_bylevel': 0.4160029192647807, 'colsample_bytree': 0.7304484857455519, 'gamma': 0.13031389926541354, 'learning_rate': 0.042815319280763466, 'max_delta_step': 13, 'max_depth': 21, 'min_child_weight': 2, 'n_estimators': 87, 'reg_alpha': 5.497557739289786e-07, 'reg_lambda': 0.05936070635912049, 'scale_pos_weight': 0.060830282487222144, 'subsample': 0.13556548021189216}\n",
            "\n",
            "Model #2\n",
            "Best ROC-AUC: 0.8489\n",
            "Best params: {'colsample_bylevel': 0.8390144719977516, 'colsample_bytree': 0.8844821246070537, 'gamma': 4.358684608480795e-07, 'learning_rate': 0.7988179462781242, 'max_delta_step': 17, 'max_depth': 3, 'min_child_weight': 1, 'n_estimators': 68, 'reg_alpha': 0.0005266983003701547, 'reg_lambda': 276.5424475574225, 'scale_pos_weight': 0.3016410771843142, 'subsample': 0.9923710598637134}\n",
            "\n",
            "Model #3\n",
            "Best ROC-AUC: 0.8489\n",
            "Best params: {'colsample_bylevel': 0.8390144719977516, 'colsample_bytree': 0.8844821246070537, 'gamma': 4.358684608480795e-07, 'learning_rate': 0.7988179462781242, 'max_delta_step': 17, 'max_depth': 3, 'min_child_weight': 1, 'n_estimators': 68, 'reg_alpha': 0.0005266983003701547, 'reg_lambda': 276.5424475574225, 'scale_pos_weight': 0.3016410771843142, 'subsample': 0.9923710598637134}\n",
            "\n",
            "Model #4\n",
            "Best ROC-AUC: 0.8489\n",
            "Best params: {'colsample_bylevel': 0.8390144719977516, 'colsample_bytree': 0.8844821246070537, 'gamma': 4.358684608480795e-07, 'learning_rate': 0.7988179462781242, 'max_delta_step': 17, 'max_depth': 3, 'min_child_weight': 1, 'n_estimators': 68, 'reg_alpha': 0.0005266983003701547, 'reg_lambda': 276.5424475574225, 'scale_pos_weight': 0.3016410771843142, 'subsample': 0.9923710598637134}\n",
            "\n"
          ],
          "name": "stdout"
        }
      ]
    },
    {
      "metadata": {
        "id": "z2GakXoMao3l",
        "colab_type": "text"
      },
      "cell_type": "markdown",
      "source": [
        "TODO: Nested"
      ]
    },
    {
      "metadata": {
        "id": "u1ZKE1zINfLc",
        "colab_type": "text"
      },
      "cell_type": "markdown",
      "source": [
        "# Bayesian try 2"
      ]
    },
    {
      "metadata": {
        "id": "b2GLZpVhNllu",
        "colab_type": "code",
        "colab": {}
      },
      "cell_type": "code",
      "source": [
        "bayes_cv_tuner = BayesSearchCV(estimator = xgb.XGBClassifier(\n",
        "                                n_jobs = -1,\n",
        "                                objective = 'binary:logistic',\n",
        "                                eval_metric = 'auc',\n",
        "                                learning_rate = 0.1,\n",
        "                                silent=1,\n",
        "                                early_stopping = 200,\n",
        "                                n_estimators = 8000,\n",
        "                                tree_method='gpu_hist'),\n",
        "    search_spaces = {\n",
        "        'min_child_weight': (15, 20),\n",
        "        'max_depth': (6, 8),\n",
        "        'max_delta_step': (0, 20),\n",
        "        'subsample': (0.01, 1.0, 'uniform'),\n",
        "        'colsample_bytree': (0.01, 1.0, 'uniform'),\n",
        "        'colsample_bylevel': (0.01, 1.0, 'uniform'),\n",
        "        'reg_lambda': (1e-2, 1000, 'log-uniform'),\n",
        "        'reg_alpha': (1e-2, 1.0, 'log-uniform'),\n",
        "        'gamma': (1e-2, 0.5, 'log-uniform'),\n",
        "        'min_child_weight': (0, 20),\n",
        "        'scale_pos_weight': (1e-6, 500, 'log-uniform')\n",
        "    },    \n",
        "    scoring = 'roc_auc',\n",
        "    cv = StratifiedKFold(\n",
        "        n_splits=3,\n",
        "        shuffle=True,\n",
        "        random_state=42),\n",
        "    n_jobs = 3,\n",
        "    n_iter = 10,   \n",
        "    verbose = 500,\n",
        "    refit = True,\n",
        "    random_state = 786)\n",
        "\n",
        "def status_print(optim_result):\n",
        "    \"\"\"Status callback durring bayesian hyperparameter search\"\"\"\n",
        "    # Get all the models tested so far in DataFrame format\n",
        "    all_models = pd.DataFrame(bayes_cv_tuner.cv_results_)    \n",
        "    # Get current parameters and the best parameters    \n",
        "    best_params = pd.Series(bayes_cv_tuner.best_params_)\n",
        "    print('Model #{}\\nBest ROC-AUC: {}\\nBest params: {}\\n'.format(\n",
        "        len(all_models),\n",
        "        np.round(bayes_cv_tuner.best_score_, 4),\n",
        "        bayes_cv_tuner.best_params_\n",
        "    ))\n",
        "    # Save all model results\n",
        "    clf_name = bayes_cv_tuner.estimator.__class__.__name__\n",
        "    all_models.to_csv(clf_name + \"_cv_results.csv\")"
      ],
      "execution_count": 0,
      "outputs": []
    },
    {
      "metadata": {
        "id": "6EwZwowPOk03",
        "colab_type": "code",
        "outputId": "fc63c6e8-6792-49fc-df15-a82295039a23",
        "colab": {
          "base_uri": "https://localhost:8080/",
          "height": 1912
        }
      },
      "cell_type": "code",
      "source": [
        "result = bayes_cv_tuner.fit(train_data_x, train_data_y, callback=status_print)"
      ],
      "execution_count": 0,
      "outputs": [
        {
          "output_type": "stream",
          "text": [
            "Fitting 3 folds for each of 1 candidates, totalling 3 fits\n",
            "[Parallel(n_jobs=3)]: Using backend LokyBackend with 3 concurrent workers.\n",
            "Memmapping (shape=(200000, 200), dtype=float64) to new file /dev/shm/joblib_memmapping_folder_552_8759145358/552-140122418961936-c8a262b8cd464fab939a62acd85117a5.pkl\n",
            "Memmapping (shape=(200000,), dtype=int64) to new file /dev/shm/joblib_memmapping_folder_552_8759145358/552-140122418961936-0c15515e6bed4e20afd87da65239f6b8.pkl\n",
            "Memmapping (shape=(133332,), dtype=int64) to new file /dev/shm/joblib_memmapping_folder_552_8759145358/552-140122418961936-3cb2ce3f4842401290ebd2bced8354de.pkl\n",
            "Pickling array (shape=(66668,), dtype=int64).\n",
            "Memmapping (shape=(200000, 200), dtype=float64) to old file /dev/shm/joblib_memmapping_folder_552_8759145358/552-140122418961936-c8a262b8cd464fab939a62acd85117a5.pkl\n",
            "Memmapping (shape=(200000,), dtype=int64) to old file /dev/shm/joblib_memmapping_folder_552_8759145358/552-140122418961936-0c15515e6bed4e20afd87da65239f6b8.pkl\n",
            "Memmapping (shape=(133334,), dtype=int64) to new file /dev/shm/joblib_memmapping_folder_552_8759145358/552-140122418961936-77d5020f1a3d402d833d453fe013dda1.pkl\n",
            "Pickling array (shape=(66666,), dtype=int64).\n",
            "Memmapping (shape=(200000, 200), dtype=float64) to old file /dev/shm/joblib_memmapping_folder_552_8759145358/552-140122418961936-c8a262b8cd464fab939a62acd85117a5.pkl\n",
            "Memmapping (shape=(200000,), dtype=int64) to old file /dev/shm/joblib_memmapping_folder_552_8759145358/552-140122418961936-0c15515e6bed4e20afd87da65239f6b8.pkl\n",
            "Memmapping (shape=(133334,), dtype=int64) to new file /dev/shm/joblib_memmapping_folder_552_8759145358/552-140122418961936-57ee6f75bef04958b8ba3907117da4c8.pkl\n",
            "Pickling array (shape=(66666,), dtype=int64).\n",
            "[Parallel(n_jobs=3)]: Done   1 tasks      | elapsed: 42.3min\n",
            "[Parallel(n_jobs=3)]: Done   3 out of   3 | elapsed: 43.3min remaining:    0.0s\n",
            "[Parallel(n_jobs=3)]: Done   3 out of   3 | elapsed: 43.3min finished\n",
            "Model #1\n",
            "Best ROC-AUC: 0.8869\n",
            "Best params: {'colsample_bylevel': 0.18273244758535206, 'colsample_bytree': 0.7530295101748936, 'gamma': 0.2941753333970994, 'max_delta_step': 19, 'max_depth': 7, 'min_child_weight': 2, 'reg_alpha': 0.1186916389388348, 'reg_lambda': 0.03835472993899774, 'scale_pos_weight': 0.23326565231989196, 'subsample': 0.6601228271348841}\n",
            "\n",
            "Fitting 3 folds for each of 1 candidates, totalling 3 fits\n",
            "[Parallel(n_jobs=3)]: Using backend LokyBackend with 3 concurrent workers.\n",
            "Memmapping (shape=(200000, 200), dtype=float64) to new file /dev/shm/joblib_memmapping_folder_552_8759145358/552-140122418961936-c8a262b8cd464fab939a62acd85117a5.pkl\n",
            "Memmapping (shape=(200000,), dtype=int64) to new file /dev/shm/joblib_memmapping_folder_552_8759145358/552-140122418961936-0c15515e6bed4e20afd87da65239f6b8.pkl\n",
            "Memmapping (shape=(133332,), dtype=int64) to new file /dev/shm/joblib_memmapping_folder_552_8759145358/552-140122418961936-0a7c3f3406d8415389d83303194de1c9.pkl\n",
            "Pickling array (shape=(66668,), dtype=int64).\n",
            "Memmapping (shape=(200000, 200), dtype=float64) to old file /dev/shm/joblib_memmapping_folder_552_8759145358/552-140122418961936-c8a262b8cd464fab939a62acd85117a5.pkl\n",
            "Memmapping (shape=(200000,), dtype=int64) to old file /dev/shm/joblib_memmapping_folder_552_8759145358/552-140122418961936-0c15515e6bed4e20afd87da65239f6b8.pkl\n",
            "Memmapping (shape=(133334,), dtype=int64) to new file /dev/shm/joblib_memmapping_folder_552_8759145358/552-140122418961936-a4ec591dfcef46a680d01e8cee3d71a6.pkl\n",
            "Pickling array (shape=(66666,), dtype=int64).\n",
            "Memmapping (shape=(200000, 200), dtype=float64) to old file /dev/shm/joblib_memmapping_folder_552_8759145358/552-140122418961936-c8a262b8cd464fab939a62acd85117a5.pkl\n",
            "Memmapping (shape=(200000,), dtype=int64) to old file /dev/shm/joblib_memmapping_folder_552_8759145358/552-140122418961936-0c15515e6bed4e20afd87da65239f6b8.pkl\n",
            "Memmapping (shape=(133334,), dtype=int64) to new file /dev/shm/joblib_memmapping_folder_552_8759145358/552-140122418961936-3813ad34b37e4088a4f508e3ea1946f6.pkl\n",
            "Pickling array (shape=(66666,), dtype=int64).\n",
            "[Parallel(n_jobs=3)]: Done   1 tasks      | elapsed: 17.4min\n",
            "[Parallel(n_jobs=3)]: Done   3 out of   3 | elapsed: 17.4min remaining:    0.0s\n",
            "[Parallel(n_jobs=3)]: Done   3 out of   3 | elapsed: 17.4min finished\n",
            "Model #2\n",
            "Best ROC-AUC: 0.8869\n",
            "Best params: {'colsample_bylevel': 0.18273244758535206, 'colsample_bytree': 0.7530295101748936, 'gamma': 0.2941753333970994, 'max_delta_step': 19, 'max_depth': 7, 'min_child_weight': 2, 'reg_alpha': 0.1186916389388348, 'reg_lambda': 0.03835472993899774, 'scale_pos_weight': 0.23326565231989196, 'subsample': 0.6601228271348841}\n",
            "\n",
            "Fitting 3 folds for each of 1 candidates, totalling 3 fits\n",
            "[Parallel(n_jobs=3)]: Using backend LokyBackend with 3 concurrent workers.\n",
            "Memmapping (shape=(200000, 200), dtype=float64) to new file /dev/shm/joblib_memmapping_folder_552_8759145358/552-140122418961936-c8a262b8cd464fab939a62acd85117a5.pkl\n",
            "Memmapping (shape=(200000,), dtype=int64) to new file /dev/shm/joblib_memmapping_folder_552_8759145358/552-140122418961936-0c15515e6bed4e20afd87da65239f6b8.pkl\n",
            "Memmapping (shape=(133332,), dtype=int64) to new file /dev/shm/joblib_memmapping_folder_552_8759145358/552-140122418961936-08b5d86c499f4c1883e49174ce39f144.pkl\n",
            "Pickling array (shape=(66668,), dtype=int64).\n",
            "Memmapping (shape=(200000, 200), dtype=float64) to old file /dev/shm/joblib_memmapping_folder_552_8759145358/552-140122418961936-c8a262b8cd464fab939a62acd85117a5.pkl\n",
            "Memmapping (shape=(200000,), dtype=int64) to old file /dev/shm/joblib_memmapping_folder_552_8759145358/552-140122418961936-0c15515e6bed4e20afd87da65239f6b8.pkl\n",
            "Memmapping (shape=(133334,), dtype=int64) to new file /dev/shm/joblib_memmapping_folder_552_8759145358/552-140122418961936-d5f6468ff2d049db9c30f4db3b59c39e.pkl\n",
            "Pickling array (shape=(66666,), dtype=int64).\n",
            "Memmapping (shape=(200000, 200), dtype=float64) to old file /dev/shm/joblib_memmapping_folder_552_8759145358/552-140122418961936-c8a262b8cd464fab939a62acd85117a5.pkl\n",
            "Memmapping (shape=(200000,), dtype=int64) to old file /dev/shm/joblib_memmapping_folder_552_8759145358/552-140122418961936-0c15515e6bed4e20afd87da65239f6b8.pkl\n",
            "Memmapping (shape=(133334,), dtype=int64) to new file /dev/shm/joblib_memmapping_folder_552_8759145358/552-140122418961936-8e9da41d3eab47b7a3f873b23c0ddab9.pkl\n",
            "Pickling array (shape=(66666,), dtype=int64).\n"
          ],
          "name": "stdout"
        },
        {
          "output_type": "stream",
          "text": [
            "/usr/local/lib/python3.6/dist-packages/sklearn/externals/joblib/externals/loky/process_executor.py:706: UserWarning: A worker stopped while some jobs were given to the executor. This can be caused by a too short worker timeout or by a memory leak.\n",
            "  \"timeout or by a memory leak.\", UserWarning\n"
          ],
          "name": "stderr"
        },
        {
          "output_type": "stream",
          "text": [
            "[Parallel(n_jobs=3)]: Done   1 tasks      | elapsed: 17.1min\n",
            "[Parallel(n_jobs=3)]: Done   3 out of   3 | elapsed: 17.1min remaining:    0.0s\n",
            "[Parallel(n_jobs=3)]: Done   3 out of   3 | elapsed: 17.1min finished\n",
            "Model #3\n",
            "Best ROC-AUC: 0.8869\n",
            "Best params: {'colsample_bylevel': 0.18273244758535206, 'colsample_bytree': 0.7530295101748936, 'gamma': 0.2941753333970994, 'max_delta_step': 19, 'max_depth': 7, 'min_child_weight': 2, 'reg_alpha': 0.1186916389388348, 'reg_lambda': 0.03835472993899774, 'scale_pos_weight': 0.23326565231989196, 'subsample': 0.6601228271348841}\n",
            "\n",
            "Fitting 3 folds for each of 1 candidates, totalling 3 fits\n",
            "[Parallel(n_jobs=3)]: Using backend LokyBackend with 3 concurrent workers.\n",
            "Memmapping (shape=(200000, 200), dtype=float64) to new file /dev/shm/joblib_memmapping_folder_552_8759145358/552-140122418961936-c8a262b8cd464fab939a62acd85117a5.pkl\n",
            "Memmapping (shape=(200000,), dtype=int64) to new file /dev/shm/joblib_memmapping_folder_552_8759145358/552-140122418961936-0c15515e6bed4e20afd87da65239f6b8.pkl\n",
            "Memmapping (shape=(133332,), dtype=int64) to new file /dev/shm/joblib_memmapping_folder_552_8759145358/552-140122418961936-4eb0507dcfec43068835d4fdc1c7b26c.pkl\n",
            "Pickling array (shape=(66668,), dtype=int64).\n",
            "Memmapping (shape=(200000, 200), dtype=float64) to old file /dev/shm/joblib_memmapping_folder_552_8759145358/552-140122418961936-c8a262b8cd464fab939a62acd85117a5.pkl\n",
            "Memmapping (shape=(200000,), dtype=int64) to old file /dev/shm/joblib_memmapping_folder_552_8759145358/552-140122418961936-0c15515e6bed4e20afd87da65239f6b8.pkl\n",
            "Memmapping (shape=(133334,), dtype=int64) to new file /dev/shm/joblib_memmapping_folder_552_8759145358/552-140122418961936-f0ae22b65d8643c884abcfb5084b921d.pkl\n",
            "Pickling array (shape=(66666,), dtype=int64).\n",
            "Memmapping (shape=(200000, 200), dtype=float64) to old file /dev/shm/joblib_memmapping_folder_552_8759145358/552-140122418961936-c8a262b8cd464fab939a62acd85117a5.pkl\n",
            "Memmapping (shape=(200000,), dtype=int64) to old file /dev/shm/joblib_memmapping_folder_552_8759145358/552-140122418961936-0c15515e6bed4e20afd87da65239f6b8.pkl\n",
            "Memmapping (shape=(133334,), dtype=int64) to new file /dev/shm/joblib_memmapping_folder_552_8759145358/552-140122418961936-58015a83070e4b21acca8e364ccd74d1.pkl\n",
            "Pickling array (shape=(66666,), dtype=int64).\n",
            "[Parallel(n_jobs=3)]: Done   1 tasks      | elapsed: 36.0min\n",
            "[Parallel(n_jobs=3)]: Done   3 out of   3 | elapsed: 37.0min remaining:    0.0s\n",
            "[Parallel(n_jobs=3)]: Done   3 out of   3 | elapsed: 37.0min finished\n",
            "Model #4\n",
            "Best ROC-AUC: 0.8869\n",
            "Best params: {'colsample_bylevel': 0.18273244758535206, 'colsample_bytree': 0.7530295101748936, 'gamma': 0.2941753333970994, 'max_delta_step': 19, 'max_depth': 7, 'min_child_weight': 2, 'reg_alpha': 0.1186916389388348, 'reg_lambda': 0.03835472993899774, 'scale_pos_weight': 0.23326565231989196, 'subsample': 0.6601228271348841}\n",
            "\n",
            "Fitting 3 folds for each of 1 candidates, totalling 3 fits\n",
            "[Parallel(n_jobs=3)]: Using backend LokyBackend with 3 concurrent workers.\n",
            "Memmapping (shape=(200000, 200), dtype=float64) to new file /dev/shm/joblib_memmapping_folder_552_8759145358/552-140122418961936-c8a262b8cd464fab939a62acd85117a5.pkl\n",
            "Memmapping (shape=(200000,), dtype=int64) to new file /dev/shm/joblib_memmapping_folder_552_8759145358/552-140122418961936-0c15515e6bed4e20afd87da65239f6b8.pkl\n",
            "Memmapping (shape=(133332,), dtype=int64) to new file /dev/shm/joblib_memmapping_folder_552_8759145358/552-140122418961936-dd4651325dca40d6afa254ee0e8f4776.pkl\n",
            "Pickling array (shape=(66668,), dtype=int64).\n",
            "Memmapping (shape=(200000, 200), dtype=float64) to old file /dev/shm/joblib_memmapping_folder_552_8759145358/552-140122418961936-c8a262b8cd464fab939a62acd85117a5.pkl\n",
            "Memmapping (shape=(200000,), dtype=int64) to old file /dev/shm/joblib_memmapping_folder_552_8759145358/552-140122418961936-0c15515e6bed4e20afd87da65239f6b8.pkl\n",
            "Memmapping (shape=(133334,), dtype=int64) to new file /dev/shm/joblib_memmapping_folder_552_8759145358/552-140122418961936-b08b3ace5cef4deeac3ccb15073e2ff7.pkl\n",
            "Pickling array (shape=(66666,), dtype=int64).\n",
            "Memmapping (shape=(200000, 200), dtype=float64) to old file /dev/shm/joblib_memmapping_folder_552_8759145358/552-140122418961936-c8a262b8cd464fab939a62acd85117a5.pkl\n",
            "Memmapping (shape=(200000,), dtype=int64) to old file /dev/shm/joblib_memmapping_folder_552_8759145358/552-140122418961936-0c15515e6bed4e20afd87da65239f6b8.pkl\n",
            "Memmapping (shape=(133334,), dtype=int64) to new file /dev/shm/joblib_memmapping_folder_552_8759145358/552-140122418961936-20658363b5de496692b5333398c1315a.pkl\n",
            "Pickling array (shape=(66666,), dtype=int64).\n",
            "[Parallel(n_jobs=3)]: Done   1 tasks      | elapsed: 43.0min\n"
          ],
          "name": "stdout"
        }
      ]
    },
    {
      "metadata": {
        "id": "cCdXBP1dliiU",
        "colab_type": "text"
      },
      "cell_type": "markdown",
      "source": [
        "# QDA"
      ]
    },
    {
      "metadata": {
        "id": "We3UaUtqljrs",
        "colab_type": "code",
        "outputId": "530e7507-3723-4341-cb88-81c5d9e7be1f",
        "colab": {
          "base_uri": "https://localhost:8080/",
          "height": 54
        }
      },
      "cell_type": "code",
      "source": [
        "from sklearn.discriminant_analysis import QuadraticDiscriminantAnalysis\n",
        "clf = QuadraticDiscriminantAnalysis()\n",
        "clf.fit(train_data_x[:length], train_data_y[:length])"
      ],
      "execution_count": 0,
      "outputs": [
        {
          "output_type": "execute_result",
          "data": {
            "text/plain": [
              "QuadraticDiscriminantAnalysis(priors=None, reg_param=0.0,\n",
              "               store_covariance=False, store_covariances=None, tol=0.0001)"
            ]
          },
          "metadata": {
            "tags": []
          },
          "execution_count": 8
        }
      ]
    },
    {
      "metadata": {
        "id": "Rw0BnRAtlucb",
        "colab_type": "code",
        "outputId": "372aaab9-2c36-4061-f825-4986c7529103",
        "colab": {
          "base_uri": "https://localhost:8080/",
          "height": 36
        }
      },
      "cell_type": "code",
      "source": [
        "preds = clf.predict(valid_data_x[:length])\n",
        "print(preds[:10])"
      ],
      "execution_count": 0,
      "outputs": [
        {
          "output_type": "stream",
          "text": [
            "[1 0 0 0 0 0 0 0 0 0]\n"
          ],
          "name": "stdout"
        }
      ]
    },
    {
      "metadata": {
        "id": "Heyr2r4tm10T",
        "colab_type": "code",
        "colab": {}
      },
      "cell_type": "code",
      "source": [
        "output_df = pd.DataFrame()\n",
        "output_df[\"ID_code\"] = valid_data_df[\"ID_code\"]\n",
        "output_df[\"target\"] = preds\n",
        "output_df.to_csv(pred_fn, index=False)"
      ],
      "execution_count": 0,
      "outputs": []
    },
    {
      "metadata": {
        "id": "q9KeUeS0l5nt",
        "colab_type": "code",
        "colab": {}
      },
      "cell_type": "code",
      "source": [
        ""
      ],
      "execution_count": 0,
      "outputs": []
    },
    {
      "metadata": {
        "id": "Ud1UND3tSg-m",
        "colab_type": "text"
      },
      "cell_type": "markdown",
      "source": [
        "# GNN"
      ]
    },
    {
      "metadata": {
        "id": "cV_XV44SSkcj",
        "colab_type": "code",
        "outputId": "1daa46d7-0d73-4638-ce1d-d2ccc922903a",
        "colab": {
          "base_uri": "https://localhost:8080/",
          "height": 36
        }
      },
      "cell_type": "code",
      "source": [
        "from sklearn.naive_bayes import GaussianNB\n",
        "clf = GaussianNB()\n",
        "clf.fit(train_data_x, train_data_y)"
      ],
      "execution_count": 0,
      "outputs": [
        {
          "output_type": "execute_result",
          "data": {
            "text/plain": [
              "GaussianNB(priors=None, var_smoothing=1e-09)"
            ]
          },
          "metadata": {
            "tags": []
          },
          "execution_count": 6
        }
      ]
    },
    {
      "metadata": {
        "id": "IuYkgmsZS3hw",
        "colab_type": "code",
        "colab": {}
      },
      "cell_type": "code",
      "source": [
        "preds = clf.predict_proba(test_data_x)"
      ],
      "execution_count": 0,
      "outputs": []
    },
    {
      "metadata": {
        "id": "iqK51G93S5Hs",
        "colab_type": "code",
        "colab": {}
      },
      "cell_type": "code",
      "source": [
        "pred_list = [elem[0] for elem in preds]"
      ],
      "execution_count": 0,
      "outputs": []
    },
    {
      "metadata": {
        "id": "p39TFUusS7QL",
        "colab_type": "code",
        "outputId": "07ea7248-d5e1-4ffa-864e-895d061c6426",
        "colab": {
          "base_uri": "https://localhost:8080/",
          "height": 18602
        }
      },
      "cell_type": "code",
      "source": [
        "pred_list"
      ],
      "execution_count": 0,
      "outputs": [
        {
          "output_type": "execute_result",
          "data": {
            "text/plain": [
              "[0.8905558611253653,\n",
              " 0.8131980275524737,\n",
              " 0.8001816964418139,\n",
              " 0.89075490553438,\n",
              " 0.9697760726500129,\n",
              " 0.9990383795531311,\n",
              " 0.9963122290558912,\n",
              " 0.8040674257205527,\n",
              " 0.9978008218769705,\n",
              " 0.9959463781225832,\n",
              " 0.813407961726841,\n",
              " 0.9608278181709029,\n",
              " 0.9242105532685129,\n",
              " 0.9841939470857695,\n",
              " 0.9950022278603009,\n",
              " 0.9697357644015621,\n",
              " 0.6230147158227418,\n",
              " 0.972979539812386,\n",
              " 0.8279746546956083,\n",
              " 0.9889341058751354,\n",
              " 0.6417451878246687,\n",
              " 0.9709605739023596,\n",
              " 0.9929451000165006,\n",
              " 0.9677557317906361,\n",
              " 0.9783543831525514,\n",
              " 0.9484047838181633,\n",
              " 0.9069796102247935,\n",
              " 0.9978667619132108,\n",
              " 0.8865827519780237,\n",
              " 0.8818578536396461,\n",
              " 0.9146516033191617,\n",
              " 0.9451674556393613,\n",
              " 0.33828633133151936,\n",
              " 0.6145870128310835,\n",
              " 0.9922581466457774,\n",
              " 0.9844065759956365,\n",
              " 0.9859597584711925,\n",
              " 0.9891930309097753,\n",
              " 0.996172385201619,\n",
              " 0.9871059251920309,\n",
              " 0.9824257486353902,\n",
              " 0.9955089819542445,\n",
              " 0.9862969052114791,\n",
              " 0.9917444020401187,\n",
              " 0.9815882130652618,\n",
              " 0.971851417308228,\n",
              " 0.9772505255553985,\n",
              " 0.962703710411574,\n",
              " 0.9917045926043249,\n",
              " 0.977314805585523,\n",
              " 0.9017250208763075,\n",
              " 0.9682447353790393,\n",
              " 0.9959051047951221,\n",
              " 0.9670876817906165,\n",
              " 0.9389667142040801,\n",
              " 0.9414958027224886,\n",
              " 0.8159609712239725,\n",
              " 0.997088195594101,\n",
              " 0.969130877576508,\n",
              " 0.9434931126896716,\n",
              " 0.9730558027832141,\n",
              " 0.9725532304603857,\n",
              " 0.8828478985144739,\n",
              " 0.9741507653188582,\n",
              " 0.9912775893566814,\n",
              " 0.9281006892030006,\n",
              " 0.9968922772358662,\n",
              " 0.8857642498006473,\n",
              " 0.9896981005040073,\n",
              " 0.9992642671085281,\n",
              " 0.7955366256821713,\n",
              " 0.9303504976213056,\n",
              " 0.8823683554706685,\n",
              " 0.7738126947197779,\n",
              " 0.9779981630741709,\n",
              " 0.9850603321564235,\n",
              " 0.9963274147144625,\n",
              " 0.9525163709017535,\n",
              " 0.9995478742227091,\n",
              " 0.9587282466517112,\n",
              " 0.6572993090704813,\n",
              " 0.984996351033581,\n",
              " 0.9038995282294396,\n",
              " 0.9846724808059957,\n",
              " 0.35020769877721397,\n",
              " 0.9910302450135863,\n",
              " 0.9606622122980776,\n",
              " 0.5957363197769379,\n",
              " 0.9301831971698568,\n",
              " 0.9903677342255087,\n",
              " 0.9497287598228935,\n",
              " 0.9659462156436364,\n",
              " 0.9892178707968071,\n",
              " 0.8303675062700113,\n",
              " 0.9966616425680246,\n",
              " 0.873939461010456,\n",
              " 0.9879454946636307,\n",
              " 0.9859279007268891,\n",
              " 0.9458949089171018,\n",
              " 0.9920485292941688,\n",
              " 0.9386010675963109,\n",
              " 0.9977737127070149,\n",
              " 0.9978670347823376,\n",
              " 0.9882778336691015,\n",
              " 0.971436318370669,\n",
              " 0.8755950043708045,\n",
              " 0.9539807868646542,\n",
              " 0.9921139605496676,\n",
              " 0.9504495100729946,\n",
              " 0.9746952516589675,\n",
              " 0.7747330179350538,\n",
              " 0.897467064890696,\n",
              " 0.8816091478769373,\n",
              " 0.9952834630173324,\n",
              " 0.9816383637392102,\n",
              " 0.9533593123230971,\n",
              " 0.979565365188444,\n",
              " 0.9928732083521001,\n",
              " 0.9768222279108185,\n",
              " 0.9979442258457759,\n",
              " 0.987171026363723,\n",
              " 0.32686480605622326,\n",
              " 0.9997163656171892,\n",
              " 0.9769792604570541,\n",
              " 0.9835839518186439,\n",
              " 0.9709501535303954,\n",
              " 0.8702643152414076,\n",
              " 0.9706881602169039,\n",
              " 0.9622222457335367,\n",
              " 0.9785883836596848,\n",
              " 0.9921077334922116,\n",
              " 0.7198548715679879,\n",
              " 0.9648350275092885,\n",
              " 0.9943098748173382,\n",
              " 0.9944326950764286,\n",
              " 0.9970677694663579,\n",
              " 0.896000494219861,\n",
              " 0.9726536823364006,\n",
              " 0.6533274177729191,\n",
              " 0.9344301056162055,\n",
              " 0.9304641998870741,\n",
              " 0.9330918867677495,\n",
              " 0.8934683385169536,\n",
              " 0.9867433308836312,\n",
              " 0.9799462060194651,\n",
              " 0.9716235642112809,\n",
              " 0.9977337069809785,\n",
              " 0.9979204262135504,\n",
              " 0.7220271955759995,\n",
              " 0.9935063777057028,\n",
              " 0.9957515750693277,\n",
              " 0.9550644751397469,\n",
              " 0.993519085257425,\n",
              " 0.7639684370609436,\n",
              " 0.8453649835681236,\n",
              " 0.9772169188282166,\n",
              " 0.9719525858285354,\n",
              " 0.9982138246182406,\n",
              " 0.9986711074725367,\n",
              " 0.9825241055819827,\n",
              " 0.9950726784229946,\n",
              " 0.712407871626944,\n",
              " 0.7026707590544022,\n",
              " 0.9789063992415284,\n",
              " 0.7815490348991385,\n",
              " 0.9679100684939976,\n",
              " 0.9714308883646197,\n",
              " 0.9555738442292814,\n",
              " 0.9990027274595289,\n",
              " 0.9944545087366239,\n",
              " 0.949651453631611,\n",
              " 0.734952391086585,\n",
              " 0.9806009220357826,\n",
              " 0.8298270187198894,\n",
              " 0.9707372606852411,\n",
              " 0.9824656384854558,\n",
              " 0.817085095038721,\n",
              " 0.9740114606163176,\n",
              " 0.9889159841458627,\n",
              " 0.9193093176872184,\n",
              " 0.9992493209031469,\n",
              " 0.9936230965726885,\n",
              " 0.9047850569875854,\n",
              " 0.996544392840566,\n",
              " 0.962033043888103,\n",
              " 0.996779642291562,\n",
              " 0.9848779473712552,\n",
              " 0.8305651952846066,\n",
              " 0.9982274097542584,\n",
              " 0.9918690802878743,\n",
              " 0.7820807623176771,\n",
              " 0.9974636901189681,\n",
              " 0.9299030186543269,\n",
              " 0.9848010337467824,\n",
              " 0.99265325067879,\n",
              " 0.9564305863025562,\n",
              " 0.991202007365529,\n",
              " 0.9722205509199022,\n",
              " 0.9916939042841042,\n",
              " 0.9353509448654528,\n",
              " 0.9841879871441962,\n",
              " 0.728183070918837,\n",
              " 0.9890043004354879,\n",
              " 0.9735892204189793,\n",
              " 0.9901480145059456,\n",
              " 0.985996969164313,\n",
              " 0.9194775696042689,\n",
              " 0.9982499357378626,\n",
              " 0.9811993198952355,\n",
              " 0.9847742556060275,\n",
              " 0.9984916854394483,\n",
              " 0.8547605132899363,\n",
              " 0.9394523009505397,\n",
              " 0.9753656592457282,\n",
              " 0.8867610012325079,\n",
              " 0.3803234512510159,\n",
              " 0.9878449071154023,\n",
              " 0.14879868742881053,\n",
              " 0.9207559916246536,\n",
              " 0.9751292813957326,\n",
              " 0.9566296451169038,\n",
              " 0.9968319337858399,\n",
              " 0.9073352437985048,\n",
              " 0.8127465652699727,\n",
              " 0.9982393056911336,\n",
              " 0.9920849039205123,\n",
              " 0.9705690106420892,\n",
              " 0.9920827899748309,\n",
              " 0.9384537576469315,\n",
              " 0.9827486047210217,\n",
              " 0.8915392222658043,\n",
              " 0.9699792298667383,\n",
              " 0.988836346460761,\n",
              " 0.8078798295448434,\n",
              " 0.9867327058122894,\n",
              " 0.9810140326529854,\n",
              " 0.9511015827790987,\n",
              " 0.9538948552458114,\n",
              " 0.990039221773392,\n",
              " 0.8531913172426887,\n",
              " 0.9307937311616145,\n",
              " 0.9043540414504379,\n",
              " 0.9932973319292209,\n",
              " 0.9994462676430028,\n",
              " 0.9991553258936365,\n",
              " 0.990069162489066,\n",
              " 0.9925033158411241,\n",
              " 0.9870610014154152,\n",
              " 0.993901898970071,\n",
              " 0.7893824481027054,\n",
              " 0.8458484552857568,\n",
              " 0.983680701694374,\n",
              " 0.9475554320547817,\n",
              " 0.9051724699194061,\n",
              " 0.9924997996265047,\n",
              " 0.9431513041452225,\n",
              " 0.9099638069454099,\n",
              " 0.9983470574448141,\n",
              " 0.9314442938351996,\n",
              " 0.8985043133963869,\n",
              " 0.9895827577845063,\n",
              " 0.7569884978188199,\n",
              " 0.9971159582030871,\n",
              " 0.9900018250766255,\n",
              " 0.9060152194514582,\n",
              " 0.579657240329324,\n",
              " 0.9397609105278603,\n",
              " 0.8634446756778745,\n",
              " 0.9933095892313191,\n",
              " 0.9687227730599965,\n",
              " 0.9068889967307395,\n",
              " 0.6530642655740824,\n",
              " 0.9482490831613368,\n",
              " 0.8653118864128533,\n",
              " 0.965817089054974,\n",
              " 0.9919277811656938,\n",
              " 0.916684729698217,\n",
              " 0.9811816801186144,\n",
              " 0.9861252284199974,\n",
              " 0.9713906998004371,\n",
              " 0.9966252461000353,\n",
              " 0.9955415765888105,\n",
              " 0.9433652650521974,\n",
              " 0.9943919881838478,\n",
              " 0.7286787190115999,\n",
              " 0.800695128532767,\n",
              " 0.9979940656645211,\n",
              " 0.9681319863356076,\n",
              " 0.7747655129181142,\n",
              " 0.9837753105753845,\n",
              " 0.8577323837274625,\n",
              " 0.9937706043211338,\n",
              " 0.942566817588875,\n",
              " 0.9876521032316151,\n",
              " 0.9942005967042089,\n",
              " 0.9927279588949569,\n",
              " 0.9736830714677487,\n",
              " 0.7362299726884437,\n",
              " 0.9976695400014206,\n",
              " 0.8825440723674445,\n",
              " 0.956883798075961,\n",
              " 0.9913219652674311,\n",
              " 0.9056097899438906,\n",
              " 0.9647223689903012,\n",
              " 0.9591150832762871,\n",
              " 0.7626448283192404,\n",
              " 0.9510575641425173,\n",
              " 0.84808179973019,\n",
              " 0.980590777662723,\n",
              " 0.8146135250319385,\n",
              " 0.9630905808302517,\n",
              " 0.9985087737364512,\n",
              " 0.8681123566510431,\n",
              " 0.9477133448485779,\n",
              " 0.9740040493527538,\n",
              " 0.8960124115202002,\n",
              " 0.9715602009606418,\n",
              " 0.7314001436230315,\n",
              " 0.9951895750923812,\n",
              " 0.9888184079310147,\n",
              " 0.9888913743129562,\n",
              " 0.9637267356835111,\n",
              " 0.9475326543361761,\n",
              " 0.6456640869545692,\n",
              " 0.9817180778568576,\n",
              " 0.9816449681572836,\n",
              " 0.9954453288898522,\n",
              " 0.9977286271821411,\n",
              " 0.9947122029752943,\n",
              " 0.9011539139916549,\n",
              " 0.9980074733551335,\n",
              " 0.9875967162353635,\n",
              " 0.9453476836770601,\n",
              " 0.9823880831551298,\n",
              " 0.8928056692816416,\n",
              " 0.9818629022079546,\n",
              " 0.9542699962465254,\n",
              " 0.9958107574874683,\n",
              " 0.8388419631308243,\n",
              " 0.9278352874113179,\n",
              " 0.9768858330038557,\n",
              " 0.9204598120008172,\n",
              " 0.9936483869541077,\n",
              " 0.9974219867006017,\n",
              " 0.9942143551058189,\n",
              " 0.9253540873389439,\n",
              " 0.7365539885844357,\n",
              " 0.9854017622943388,\n",
              " 0.9684094077443888,\n",
              " 0.791960264102499,\n",
              " 0.987209496266589,\n",
              " 0.9869315345074883,\n",
              " 0.9963540495731025,\n",
              " 0.9888857523251297,\n",
              " 0.9957773931049615,\n",
              " 0.5527127861859573,\n",
              " 0.9685710390127645,\n",
              " 0.9428934749880133,\n",
              " 0.9834944956296938,\n",
              " 0.9500446435605703,\n",
              " 0.973795631027739,\n",
              " 0.7324357064872868,\n",
              " 0.9607418643726034,\n",
              " 0.9071746852269577,\n",
              " 0.999131949765728,\n",
              " 0.9960915830337134,\n",
              " 0.9909516532342596,\n",
              " 0.9563216251064969,\n",
              " 0.9604988714723304,\n",
              " 0.9669116031518188,\n",
              " 0.9782182801843115,\n",
              " 0.9641594450567861,\n",
              " 0.9775264684458924,\n",
              " 0.9513919063503241,\n",
              " 0.9914678074263671,\n",
              " 0.547702148242454,\n",
              " 0.973886482352869,\n",
              " 0.9587824094968637,\n",
              " 0.9816543633877031,\n",
              " 0.959016065404127,\n",
              " 0.9947467803279691,\n",
              " 0.9953386801907292,\n",
              " 0.8970003184182767,\n",
              " 0.3904880648142488,\n",
              " 0.9546676143939984,\n",
              " 0.9870054680306052,\n",
              " 0.9722040221428504,\n",
              " 0.9086755184139857,\n",
              " 0.8877613396728656,\n",
              " 0.9876904617881345,\n",
              " 0.9718983351067083,\n",
              " 0.9869006979875532,\n",
              " 0.9676826452075626,\n",
              " 0.9765254013177477,\n",
              " 0.8821085975339287,\n",
              " 0.9834352130560593,\n",
              " 0.9127812840688744,\n",
              " 0.9821782712527516,\n",
              " 0.9906097965152405,\n",
              " 0.9813897797544616,\n",
              " 0.8521209075089899,\n",
              " 0.9883622100135887,\n",
              " 0.9728825578857366,\n",
              " 0.9957966988337142,\n",
              " 0.7911564564016655,\n",
              " 0.9558097847274144,\n",
              " 0.9920070440138894,\n",
              " 0.9821882673408218,\n",
              " 0.9809753353549039,\n",
              " 0.9691179565431197,\n",
              " 0.9989578571405906,\n",
              " 0.9745759374805738,\n",
              " 0.928164833001424,\n",
              " 0.4944103474267431,\n",
              " 0.9764542868943868,\n",
              " 0.7949288452151465,\n",
              " 0.38310179861474025,\n",
              " 0.9991637036224507,\n",
              " 0.9964639399479425,\n",
              " 0.9959842704715303,\n",
              " 0.8066850056306629,\n",
              " 0.9924749478608909,\n",
              " 0.9684201023337826,\n",
              " 0.9412310694410738,\n",
              " 0.8028688505157818,\n",
              " 0.9936928862714948,\n",
              " 0.9176211860200164,\n",
              " 0.9526634437170859,\n",
              " 0.9866958522796804,\n",
              " 0.9932279030955582,\n",
              " 0.9986203491430863,\n",
              " 0.19473414210219858,\n",
              " 0.980226738702598,\n",
              " 0.9872234746771412,\n",
              " 0.7260527214159593,\n",
              " 0.9979579181945094,\n",
              " 0.9789083720669397,\n",
              " 0.9882980699934532,\n",
              " 0.9679200630856514,\n",
              " 0.9796872167558438,\n",
              " 0.9624790727886838,\n",
              " 0.9844571823102041,\n",
              " 0.7179604226203126,\n",
              " 0.9942692872500819,\n",
              " 0.8094290064548421,\n",
              " 0.9558913736367219,\n",
              " 0.9959635914477909,\n",
              " 0.98595023577432,\n",
              " 0.9635632922729465,\n",
              " 0.8353141132710947,\n",
              " 0.9773520621811218,\n",
              " 0.9473884447029064,\n",
              " 0.1542235243032012,\n",
              " 0.9591429884017979,\n",
              " 0.920257341266588,\n",
              " 0.9933736052638096,\n",
              " 0.9927442685609974,\n",
              " 0.9741007440180343,\n",
              " 0.9718855176164658,\n",
              " 0.8729875495908513,\n",
              " 0.9886005338343176,\n",
              " 0.9746730658756936,\n",
              " 0.9721580199777701,\n",
              " 0.9027269970257082,\n",
              " 0.9983967275359182,\n",
              " 0.9103307880343627,\n",
              " 0.9437836325659281,\n",
              " 0.9676556852625621,\n",
              " 0.9859798762126809,\n",
              " 0.9933169007999324,\n",
              " 0.9955881173045086,\n",
              " 0.9755520123896728,\n",
              " 0.9802544741126872,\n",
              " 0.9211880755738722,\n",
              " 0.761832093795007,\n",
              " 0.8969289413016962,\n",
              " 0.9922810324863997,\n",
              " 0.9974438175215624,\n",
              " 0.5805554465740864,\n",
              " 0.9708495360945859,\n",
              " 0.9955556103643122,\n",
              " 0.7237814328089239,\n",
              " 0.9467174346562414,\n",
              " 0.9486080633506896,\n",
              " 0.9642348549510619,\n",
              " 0.9973355972559704,\n",
              " 0.7890526399200023,\n",
              " 0.9962555907272672,\n",
              " 0.9354360417766046,\n",
              " 0.973442931453316,\n",
              " 0.9980790703447923,\n",
              " 0.24548700909287446,\n",
              " 0.9730056203822177,\n",
              " 0.8873969821139616,\n",
              " 0.9960770548248895,\n",
              " 0.9980910147931072,\n",
              " 0.9896868758860073,\n",
              " 0.7370584287424782,\n",
              " 0.9673897055227781,\n",
              " 0.9839944843437871,\n",
              " 0.967577537962949,\n",
              " 0.9951611567418045,\n",
              " 0.9874073172137984,\n",
              " 0.7301879973208097,\n",
              " 0.9952166013047741,\n",
              " 0.8118236926819747,\n",
              " 0.9931046672285113,\n",
              " 0.9920114641181864,\n",
              " 0.8657799860568316,\n",
              " 0.9930981086244582,\n",
              " 0.9961935385015178,\n",
              " 0.9723296679703316,\n",
              " 0.9282202835575913,\n",
              " 0.9988728912330177,\n",
              " 0.9930783644887968,\n",
              " 0.998079607466753,\n",
              " 0.9746817984808132,\n",
              " 0.9775529139121145,\n",
              " 0.9805313443341239,\n",
              " 0.9612722793007515,\n",
              " 0.9658536037636868,\n",
              " 0.9680310026926553,\n",
              " 0.6719279020439036,\n",
              " 0.9184207560636988,\n",
              " 0.9824010883427169,\n",
              " 0.9836896972275524,\n",
              " 0.9941624534053264,\n",
              " 0.8848094231132081,\n",
              " 0.9789138419339319,\n",
              " 0.6154202811855441,\n",
              " 0.9951756727935067,\n",
              " 0.9762282965253714,\n",
              " 0.9930636638783316,\n",
              " 0.8535716422954868,\n",
              " 0.8868468862388562,\n",
              " 0.9972898404752333,\n",
              " 0.9861134823663074,\n",
              " 0.9670671846484742,\n",
              " 0.996032998694013,\n",
              " 0.9570492341365048,\n",
              " 0.15402720316885601,\n",
              " 0.960490545215591,\n",
              " 0.9955685551271847,\n",
              " 0.9986164571355493,\n",
              " 0.9902351252145256,\n",
              " 0.8933421615230399,\n",
              " 0.8531543991625178,\n",
              " 0.6979894082720287,\n",
              " 0.9909210042412361,\n",
              " 0.8156262559994479,\n",
              " 0.9945010501872034,\n",
              " 0.9575438755777645,\n",
              " 0.32072991170648024,\n",
              " 0.9386274907519117,\n",
              " 0.9765557136830441,\n",
              " 0.9773459916353989,\n",
              " 0.9436812152114952,\n",
              " 0.8497614408583088,\n",
              " 0.9587477883815663,\n",
              " 0.8939612878079031,\n",
              " 0.9898788346514499,\n",
              " 0.7488725910198112,\n",
              " 0.9917405441855592,\n",
              " 0.9966108805925467,\n",
              " 0.6421914038476485,\n",
              " 0.917031069900687,\n",
              " 0.8089628979252766,\n",
              " 0.9675241689547404,\n",
              " 0.5409541079169171,\n",
              " 0.9840132950126674,\n",
              " 0.8337018622549511,\n",
              " 0.9740539866448577,\n",
              " 0.9878123802238893,\n",
              " 0.8864140409685982,\n",
              " 0.9385530238425093,\n",
              " 0.941040174637116,\n",
              " 0.967436541419922,\n",
              " 0.9728218131184811,\n",
              " 0.9374730693474209,\n",
              " 0.7690426375711477,\n",
              " 0.6859429251688368,\n",
              " 0.9551693975105106,\n",
              " 0.7722649273300726,\n",
              " 0.9868710548364729,\n",
              " 0.9589451986223054,\n",
              " 0.9850449319226163,\n",
              " 0.9660451447141541,\n",
              " 0.9843210963520764,\n",
              " 0.8803909170121169,\n",
              " 0.9972960193954953,\n",
              " 0.9815958701680312,\n",
              " 0.8728022052064413,\n",
              " 0.9865289678012118,\n",
              " 0.9888605220010566,\n",
              " 0.9832038821096898,\n",
              " 0.9789654769627143,\n",
              " 0.9920557782307362,\n",
              " 0.9791376433620604,\n",
              " 0.9963255826933494,\n",
              " 0.9833840447705388,\n",
              " 0.9684575961488597,\n",
              " 0.6398987205009945,\n",
              " 0.6078652014821585,\n",
              " 0.9921335131171557,\n",
              " 0.9934341934021446,\n",
              " 0.9790020395194279,\n",
              " 0.950346780597147,\n",
              " 0.9696210338989081,\n",
              " 0.9453446375379994,\n",
              " 0.9694604138110308,\n",
              " 0.5556261295868554,\n",
              " 0.7411626363753705,\n",
              " 0.9829201277937872,\n",
              " 0.9928950282001687,\n",
              " 0.9639816067078611,\n",
              " 0.9780498229298582,\n",
              " 0.8470041855188888,\n",
              " 0.8581292349118989,\n",
              " 0.964327910062637,\n",
              " 0.9674409173208598,\n",
              " 0.9496727418853084,\n",
              " 0.9830485976292817,\n",
              " 0.9764535397852723,\n",
              " 0.9965862813618729,\n",
              " 0.9833284462131274,\n",
              " 0.9817575408947701,\n",
              " 0.874777646123519,\n",
              " 0.9060316477923851,\n",
              " 0.9951990339881388,\n",
              " 0.9268257207268609,\n",
              " 0.9928054395162071,\n",
              " 0.9602511727958671,\n",
              " 0.9329278977314324,\n",
              " 0.9981455451322196,\n",
              " 0.9921324593852195,\n",
              " 0.9779850256624467,\n",
              " 0.9302906171068519,\n",
              " 0.9733572638362281,\n",
              " 0.9611316566976449,\n",
              " 0.9602718300988062,\n",
              " 0.9879306534588117,\n",
              " 0.9907773625188672,\n",
              " 0.9466228629932547,\n",
              " 0.996594059113955,\n",
              " 0.9946646880102059,\n",
              " 0.9995396201401223,\n",
              " 0.9691121595586152,\n",
              " 0.9503592464760335,\n",
              " 0.8692575671939057,\n",
              " 0.9931693731426093,\n",
              " 0.9760987682320253,\n",
              " 0.9970157183030981,\n",
              " 0.7549008274361724,\n",
              " 0.983617006310597,\n",
              " 0.8308477962668066,\n",
              " 0.9908687224881959,\n",
              " 0.8769330349433121,\n",
              " 0.9902423661458608,\n",
              " 0.9672057683170622,\n",
              " 0.9787609503098805,\n",
              " 0.9888474057590406,\n",
              " 0.998008030045765,\n",
              " 0.9411492266589052,\n",
              " 0.9117184356822723,\n",
              " 0.9853980426276734,\n",
              " 0.8984289502596,\n",
              " 0.9530220766925445,\n",
              " 0.9808820770824535,\n",
              " 0.8232139698094562,\n",
              " 0.9423143269191245,\n",
              " 0.8757466021194489,\n",
              " 0.9474168617125426,\n",
              " 0.9732416024134275,\n",
              " 0.8863128599770944,\n",
              " 0.9866715379748241,\n",
              " 0.9981013931694295,\n",
              " 0.9868316809701692,\n",
              " 0.9825885939515355,\n",
              " 0.8037566250215931,\n",
              " 0.9408524886569957,\n",
              " 0.9893436597777794,\n",
              " 0.9945350285301203,\n",
              " 0.9986908962050284,\n",
              " 0.9132461033675049,\n",
              " 0.7698847806453203,\n",
              " 0.985482352364566,\n",
              " 0.9578868995883975,\n",
              " 0.9341501427183179,\n",
              " 0.3328967679558059,\n",
              " 0.9952134683397096,\n",
              " 0.9654066966140629,\n",
              " 0.9849976131719169,\n",
              " 0.9272706648715484,\n",
              " 0.6413324698758086,\n",
              " 0.9825559037976561,\n",
              " 0.9682912597344848,\n",
              " 0.4500364164214644,\n",
              " 0.9943286211147525,\n",
              " 0.994394993439479,\n",
              " 0.9912442604642466,\n",
              " 0.7872086425278851,\n",
              " 0.9986118822926426,\n",
              " 0.9970222751450569,\n",
              " 0.9917638159869337,\n",
              " 0.9765904628765139,\n",
              " 0.9874553148895172,\n",
              " 0.9920733472201162,\n",
              " 0.7984181380093675,\n",
              " 0.866470265710062,\n",
              " 0.9340212052641176,\n",
              " 0.9508789478541041,\n",
              " 0.9848287504839687,\n",
              " 0.9809089750015325,\n",
              " 0.9890390818939411,\n",
              " 0.9947874122855849,\n",
              " 0.9882473863343181,\n",
              " 0.4276821249869112,\n",
              " 0.9638064211601344,\n",
              " 0.9417303626564402,\n",
              " 0.9578526425791278,\n",
              " 0.8721116988127844,\n",
              " 0.9987814921251288,\n",
              " 0.9856600897629433,\n",
              " 0.9943371040731578,\n",
              " 0.9127640653924967,\n",
              " 0.9806996712971502,\n",
              " 0.9851353070540493,\n",
              " 0.9867253268431141,\n",
              " 0.8697180580423185,\n",
              " 0.9670722397292975,\n",
              " 0.9880023187482981,\n",
              " 0.9780706259248461,\n",
              " 0.9890414069323926,\n",
              " 0.889229092151208,\n",
              " 0.9711365178407448,\n",
              " 0.8092154244314909,\n",
              " 0.9909764822109577,\n",
              " 0.9217534694716217,\n",
              " 0.9513147395714406,\n",
              " 0.974950626055545,\n",
              " 0.9752558525989463,\n",
              " 0.9862384823132392,\n",
              " 0.9624118022044058,\n",
              " 0.9559860887795828,\n",
              " 0.9239203456039768,\n",
              " 0.9514134756056618,\n",
              " 0.7300191782716013,\n",
              " 0.9931693245756061,\n",
              " 0.9902252083749694,\n",
              " 0.9697197878734097,\n",
              " 0.935131089973046,\n",
              " 0.802183626903512,\n",
              " 0.9688747749915374,\n",
              " 0.9934246375988122,\n",
              " 0.9524421756954311,\n",
              " 0.9201902924597224,\n",
              " 0.9352248095759875,\n",
              " 0.8060435284910283,\n",
              " 0.9369206771302974,\n",
              " 0.9858506611617581,\n",
              " 0.24552236032358787,\n",
              " 0.9966350725243514,\n",
              " 0.9460966276679951,\n",
              " 0.9425676401355362,\n",
              " 0.9450739519752911,\n",
              " 0.9846555654178997,\n",
              " 0.9979181621023023,\n",
              " 0.8501807978452973,\n",
              " 0.9969429128224405,\n",
              " 0.9969844153708489,\n",
              " 0.9920754708909445,\n",
              " 0.9772643399742024,\n",
              " 0.7149092672663067,\n",
              " 0.8900209490255376,\n",
              " 0.8989101398580972,\n",
              " 0.9559079956200043,\n",
              " 0.9909164377219973,\n",
              " 0.9934482367086235,\n",
              " 0.9783476605757497,\n",
              " 0.912390227297053,\n",
              " 0.9821013540352865,\n",
              " 0.9866922946872183,\n",
              " 0.9680719870739547,\n",
              " 0.8471314864548525,\n",
              " 0.9188368750929888,\n",
              " 0.9534292661901836,\n",
              " 0.7512311271067791,\n",
              " 0.8084699559213445,\n",
              " 0.9755749023645177,\n",
              " 0.9959410426968172,\n",
              " 0.9976050508211229,\n",
              " 0.9988039781836667,\n",
              " 0.9950591424440004,\n",
              " 0.9811090848485688,\n",
              " 0.9607006853768149,\n",
              " 0.9925035637784086,\n",
              " 0.9779143672797844,\n",
              " 0.9581001713844259,\n",
              " 0.28739911986038336,\n",
              " 0.9612000309236699,\n",
              " 0.9983895424288912,\n",
              " 0.7377185709468109,\n",
              " 0.9176849356939984,\n",
              " 0.9921758196006261,\n",
              " 0.876767531247068,\n",
              " 0.7628412716322335,\n",
              " 0.9883820353699857,\n",
              " 0.9803059468076785,\n",
              " 0.9983205241071397,\n",
              " 0.9341061959947258,\n",
              " 0.9266412002620815,\n",
              " 0.95735911652126,\n",
              " 0.9731921876624644,\n",
              " 0.9878769540773261,\n",
              " 0.9496001787247026,\n",
              " 0.9943577959111201,\n",
              " 0.8512818564053337,\n",
              " 0.9701162682759366,\n",
              " 0.972671531258031,\n",
              " 0.9972966098122528,\n",
              " 0.8125456329498042,\n",
              " 0.9971012942680986,\n",
              " 0.8689340537013046,\n",
              " 0.8901255303133699,\n",
              " 0.9981350327183234,\n",
              " 0.9983834349189028,\n",
              " 0.7621930113986796,\n",
              " 0.9722941887590557,\n",
              " 0.8443372184827745,\n",
              " 0.9959740688039614,\n",
              " 0.99336612076351,\n",
              " 0.3730030013687586,\n",
              " 0.7028441639233528,\n",
              " 0.9224509294867184,\n",
              " 0.798051145641448,\n",
              " 0.6800533339940517,\n",
              " 0.2104861932959175,\n",
              " 0.9982191485684069,\n",
              " 0.9967791777454817,\n",
              " 0.9492472830629166,\n",
              " 0.9386428627642025,\n",
              " 0.9487032230463817,\n",
              " 0.9667421948461378,\n",
              " 0.9836487694029993,\n",
              " 0.688134065798902,\n",
              " 0.9094515229935537,\n",
              " 0.7167248343458489,\n",
              " 0.978056078940036,\n",
              " 0.9663508338707416,\n",
              " 0.9155240471568891,\n",
              " 0.8251137485490221,\n",
              " 0.8207037510600553,\n",
              " 0.9912228553534189,\n",
              " 0.9863137608607303,\n",
              " 0.9842653001607765,\n",
              " 0.9418130517258478,\n",
              " 0.9974590021561248,\n",
              " 0.9880124185670318,\n",
              " 0.9226111299336531,\n",
              " 0.9426035468948925,\n",
              " 0.9812072826370175,\n",
              " 0.9301207068120559,\n",
              " 0.9968223573332003,\n",
              " 0.984449465833557,\n",
              " 0.3631359302491871,\n",
              " 0.9844000833300727,\n",
              " 0.8524005456391189,\n",
              " 0.9804075904758224,\n",
              " 0.9884224005872014,\n",
              " 0.9848237620533837,\n",
              " 0.679152099994308,\n",
              " 0.986746086618418,\n",
              " 0.9940589781080466,\n",
              " 0.9544849195369108,\n",
              " 0.9759132681217492,\n",
              " 0.9995718643863885,\n",
              " 0.9828966842319294,\n",
              " 0.9510424972774737,\n",
              " 0.8177061103846844,\n",
              " 0.8429964842904679,\n",
              " 0.9073997785890093,\n",
              " 0.5956647020369272,\n",
              " 0.8524867252714777,\n",
              " 0.8250621097134763,\n",
              " 0.992875697417105,\n",
              " 0.9926478684175802,\n",
              " 0.9800900558524415,\n",
              " 0.9997895620215954,\n",
              " 0.9822248196334261,\n",
              " 0.9008961688785683,\n",
              " 0.9962345294721574,\n",
              " 0.5523233845060533,\n",
              " 0.8730724989505241,\n",
              " 0.9908056248457203,\n",
              " 0.956620428792566,\n",
              " 0.9772447439748336,\n",
              " 0.37500841477473007,\n",
              " 0.9264554152054709,\n",
              " 0.9885002954216487,\n",
              " 0.9551010628625746,\n",
              " 0.9951044100112194,\n",
              " 0.6257538595814124,\n",
              " 0.9924785819656922,\n",
              " 0.9568731916747625,\n",
              " 0.359266445503851,\n",
              " 0.9209269435668114,\n",
              " 0.8723619703370113,\n",
              " 0.9991964855280431,\n",
              " 0.9038746841893676,\n",
              " 0.9815824867892284,\n",
              " 0.9954791086053731,\n",
              " 0.9542982333549742,\n",
              " 0.9843765815863467,\n",
              " 0.9822328248014391,\n",
              " 0.98321455023911,\n",
              " 0.9984428422979703,\n",
              " 0.7924730706201335,\n",
              " 0.9972380418774365,\n",
              " 0.904624947235226,\n",
              " 0.8687238580557496,\n",
              " 0.9149223991896619,\n",
              " 0.9692476570970698,\n",
              " 0.9845461234380841,\n",
              " 0.9425806175109583,\n",
              " 0.9797022628342439,\n",
              " 0.8961095277794286,\n",
              " 0.9552915208241487,\n",
              " 0.999443381343742,\n",
              " 0.9856378541489274,\n",
              " 0.7252810528317706,\n",
              " 0.7751367574466018,\n",
              " 0.5135836043590972,\n",
              " 0.9788176694190212,\n",
              " 0.940108316511933,\n",
              " 0.9976944651522547,\n",
              " 0.48593196171579967,\n",
              " 0.9934728436041477,\n",
              " 0.6619765040860365,\n",
              " 0.9458424129259598,\n",
              " 0.7687316714447239,\n",
              " 0.9827887439952988,\n",
              " 0.6724397289053802,\n",
              " 0.9674803793361331,\n",
              " 0.9971522519350938,\n",
              " 0.9716014862437157,\n",
              " 0.9876295089633589,\n",
              " 0.6425065806168174,\n",
              " 0.996266771878692,\n",
              " 0.9972274347583494,\n",
              " 0.9208386665785363,\n",
              " 0.9903839565722626,\n",
              " 0.9785547721124614,\n",
              " 0.9956753725696662,\n",
              " 0.993782133279959,\n",
              " 0.8904018652101896,\n",
              " 0.9974109273360328,\n",
              " 0.9913485957743023,\n",
              " 0.9921108441867464,\n",
              " 0.9563813869573812,\n",
              " 0.8328952682048666,\n",
              " 0.9086397736385614,\n",
              " 0.8465350354757124,\n",
              " 0.9453828221469178,\n",
              " 0.9925251651604984,\n",
              " 0.9898041548215639,\n",
              " 0.9465470585519742,\n",
              " 0.99716194985918,\n",
              " 0.9920817818543919,\n",
              " 0.9985228488321001,\n",
              " 0.9314132424193015,\n",
              " 0.9122522223714155,\n",
              " 0.9483865898977404,\n",
              " 0.9677013055043674,\n",
              " 0.9872755901887492,\n",
              " 0.9354764003895645,\n",
              " 0.8906763422845763,\n",
              " 0.9565211702259767,\n",
              " 0.18069591776082725,\n",
              " 0.9980495036838387,\n",
              " 0.9883671038821868,\n",
              " 0.953984853325042,\n",
              " 0.9931296852340784,\n",
              " 0.9214346603994795,\n",
              " 0.9916872430667084,\n",
              " 0.997652100550647,\n",
              " 0.984103129751533,\n",
              " 0.6831817725652491,\n",
              " 0.8650399075614741,\n",
              " 0.988655520701349,\n",
              " 0.8415362894095205,\n",
              " 0.9645270109314706,\n",
              " 0.9979604096307928,\n",
              " 0.46103780193245186,\n",
              " 0.980299502948366,\n",
              " 0.9715263847278698,\n",
              " 0.87407814184445,\n",
              " 0.99470190301533,\n",
              " 0.8747384322250049,\n",
              " 0.5766632044063295,\n",
              " 0.913235031870141,\n",
              " ...]"
            ]
          },
          "metadata": {
            "tags": []
          },
          "execution_count": 10
        }
      ]
    },
    {
      "metadata": {
        "id": "TyzFeUKXTJPW",
        "colab_type": "code",
        "colab": {}
      },
      "cell_type": "code",
      "source": [
        "output_df = pd.DataFrame()\n",
        "output_df[\"ID_code\"] = test_data_df[\"ID_code\"]\n",
        "output_df[\"target\"] = pred_list"
      ],
      "execution_count": 0,
      "outputs": []
    },
    {
      "metadata": {
        "id": "SfuOcYJYTTAx",
        "colab_type": "code",
        "colab": {}
      },
      "cell_type": "code",
      "source": [
        "output_df.to_csv(\"/content/gdrive/My Drive/santander_data/gnn_preds.csv\", index=False)"
      ],
      "execution_count": 0,
      "outputs": []
    },
    {
      "metadata": {
        "id": "RhrICaYNTm90",
        "colab_type": "code",
        "outputId": "cf4938e4-5779-427a-b794-f73fb081f035",
        "colab": {
          "base_uri": "https://localhost:8080/",
          "height": 74
        }
      },
      "cell_type": "code",
      "source": [
        "from sklearn import metrics\n",
        "fpr, tpr, thresholds = metrics.roc_curve(test_data_df[\"ID_code\"], pred_list, pos_label=1)"
      ],
      "execution_count": 0,
      "outputs": [
        {
          "output_type": "stream",
          "text": [
            "/usr/local/lib/python3.6/dist-packages/sklearn/metrics/ranking.py:656: UndefinedMetricWarning: No positive samples in y_true, true positive value should be meaningless\n",
            "  UndefinedMetricWarning)\n"
          ],
          "name": "stderr"
        }
      ]
    },
    {
      "metadata": {
        "id": "dJDNTX6-V6ow",
        "colab_type": "code",
        "outputId": "8e50b336-7570-43cb-88cf-b266bce35169",
        "colab": {
          "base_uri": "https://localhost:8080/",
          "height": 376
        }
      },
      "cell_type": "code",
      "source": [
        "import numpy as np\n",
        "from scipy import interp\n",
        "import matplotlib.pyplot as plt\n",
        "\n",
        "from sklearn import svm, datasets\n",
        "from sklearn.metrics import roc_curve, auc\n",
        "from sklearn.model_selection import StratifiedKFold\n",
        "\n",
        "\n",
        "cv = StratifiedKFold(n_splits=10)\n",
        "\n",
        "clf = GaussianNB()\n",
        "\n",
        "\n",
        "tprs = []\n",
        "aucs = []\n",
        "mean_fpr = np.linspace(0, 1, 100)\n",
        "\n",
        "i = 0\n",
        "for train, test in cv.split(train_data_x, train_data_y):\n",
        "    probas_ = clf.fit(train_data_x[train], train_data_y[train]).predict_proba(train_data_x[test])\n",
        "    # Compute ROC curve and area the curve\n",
        "    fpr, tpr, thresholds = roc_curve(train_data_y[test], probas_[:, 1])\n",
        "    tprs.append(interp(mean_fpr, fpr, tpr))\n",
        "    tprs[-1][0] = 0.0\n",
        "    roc_auc = auc(fpr, tpr)\n",
        "    aucs.append(roc_auc)\n",
        "    plt.plot(fpr, tpr, lw=1, alpha=0.3,\n",
        "             label='ROC fold %d (AUC = %0.2f)' % (i, roc_auc))\n",
        "\n",
        "    i += 1\n",
        "plt.plot([0, 1], [0, 1], linestyle='--', lw=2, color='r',\n",
        "         label='Chance', alpha=.8)\n",
        "\n",
        "mean_tpr = np.mean(tprs, axis=0)\n",
        "mean_tpr[-1] = 1.0\n",
        "mean_auc = auc(mean_fpr, mean_tpr)\n",
        "std_auc = np.std(aucs)\n",
        "plt.plot(mean_fpr, mean_tpr, color='b',\n",
        "         label=r'Mean ROC (AUC = %0.2f $\\pm$ %0.2f)' % (mean_auc, std_auc),\n",
        "         lw=2, alpha=.8)\n",
        "\n",
        "std_tpr = np.std(tprs, axis=0)\n",
        "tprs_upper = np.minimum(mean_tpr + std_tpr, 1)\n",
        "tprs_lower = np.maximum(mean_tpr - std_tpr, 0)\n",
        "plt.fill_between(mean_fpr, tprs_lower, tprs_upper, color='grey', alpha=.2,\n",
        "                 label=r'$\\pm$ 1 std. dev.')\n",
        "\n",
        "plt.xlim([-0.05, 1.05])\n",
        "plt.ylim([-0.05, 1.05])\n",
        "plt.xlabel('False Positive Rate')\n",
        "plt.ylabel('True Positive Rate')\n",
        "plt.title('Receiver operating characteristic example')\n",
        "plt.legend(loc=\"lower right\")\n",
        "plt.show()"
      ],
      "execution_count": 0,
      "outputs": [
        {
          "output_type": "display_data",
          "data": {
            "image/png": "[encoded data removed]",
            "text/plain": [
              "<Figure size 576x396 with 1 Axes>"
            ]
          },
          "metadata": {
            "tags": []
          }
        }
      ]
    },
    {
      "metadata": {
        "id": "8UA9GIFKfPP9",
        "colab_type": "text"
      },
      "cell_type": "markdown",
      "source": [
        "# GNN with PCA"
      ]
    },
    {
      "metadata": {
        "id": "9DslQAo4dbe7",
        "colab_type": "code",
        "outputId": "c03e7ff7-65a9-4d87-ff99-507a82d72e52",
        "colab": {
          "base_uri": "https://localhost:8080/",
          "height": 376
        }
      },
      "cell_type": "code",
      "source": [
        "import numpy as np\n",
        "from scipy import interp\n",
        "import matplotlib.pyplot as plt\n",
        "\n",
        "from sklearn import svm, datasets\n",
        "from sklearn.metrics import roc_curve, auc\n",
        "from sklearn.model_selection import StratifiedKFold\n",
        "from sklearn.pipeline import make_pipeline\n",
        "from sklearn.preprocessing import StandardScaler\n",
        "from sklearn.decomposition import PCA\n",
        "\n",
        "\n",
        "cv = StratifiedKFold(n_splits=10)\n",
        "\n",
        "#clf = GaussianNB()\n",
        "#clf = make_pipeline(StandardScaler(), GaussianNB())\n",
        "clf = make_pipeline(StandardScaler(), PCA(n_components=100), GaussianNB())\n",
        "\n",
        "\n",
        "tprs = []\n",
        "aucs = []\n",
        "mean_fpr = np.linspace(0, 1, 100)\n",
        "\n",
        "i = 0\n",
        "for train, test in cv.split(train_data_x, train_data_y):\n",
        "    probas_ = clf.fit(train_data_x[train], train_data_y[train]).predict_proba(train_data_x[test])\n",
        "    # Compute ROC curve and area the curve\n",
        "    fpr, tpr, thresholds = roc_curve(train_data_y[test], probas_[:, 1])\n",
        "    tprs.append(interp(mean_fpr, fpr, tpr))\n",
        "    tprs[-1][0] = 0.0\n",
        "    roc_auc = auc(fpr, tpr)\n",
        "    aucs.append(roc_auc)\n",
        "    plt.plot(fpr, tpr, lw=1, alpha=0.3,\n",
        "             label='ROC fold %d (AUC = %0.2f)' % (i, roc_auc))\n",
        "\n",
        "    i += 1\n",
        "plt.plot([0, 1], [0, 1], linestyle='--', lw=2, color='r',\n",
        "         label='Chance', alpha=.8)\n",
        "\n",
        "mean_tpr = np.mean(tprs, axis=0)\n",
        "mean_tpr[-1] = 1.0\n",
        "mean_auc = auc(mean_fpr, mean_tpr)\n",
        "std_auc = np.std(aucs)\n",
        "plt.plot(mean_fpr, mean_tpr, color='b',\n",
        "         label=r'Mean ROC (AUC = %0.2f $\\pm$ %0.2f)' % (mean_auc, std_auc),\n",
        "         lw=2, alpha=.8)\n",
        "\n",
        "std_tpr = np.std(tprs, axis=0)\n",
        "tprs_upper = np.minimum(mean_tpr + std_tpr, 1)\n",
        "tprs_lower = np.maximum(mean_tpr - std_tpr, 0)\n",
        "plt.fill_between(mean_fpr, tprs_lower, tprs_upper, color='grey', alpha=.2,\n",
        "                 label=r'$\\pm$ 1 std. dev.')\n",
        "\n",
        "plt.xlim([-0.05, 1.05])\n",
        "plt.ylim([-0.05, 1.05])\n",
        "plt.xlabel('False Positive Rate')\n",
        "plt.ylabel('True Positive Rate')\n",
        "plt.title('Receiver operating characteristic example')\n",
        "plt.legend(loc=\"lower right\")\n",
        "plt.show()"
      ],
      "execution_count": 0,
      "outputs": [
        {
          "output_type": "display_data",
          "data": {
            "image/png": "[encoded data removed]",
            "text/plain": [
              "<Figure size 576x396 with 1 Axes>"
            ]
          },
          "metadata": {
            "tags": []
          }
        }
      ]
    },
    {
      "metadata": {
        "id": "YazQtkBof562",
        "colab_type": "text"
      },
      "cell_type": "markdown",
      "source": [
        "# GNN normalized"
      ]
    },
    {
      "metadata": {
        "id": "Q9ux3py-fd85",
        "colab_type": "code",
        "outputId": "c6250d97-59c6-43a1-c762-2afad0b39706",
        "colab": {
          "base_uri": "https://localhost:8080/",
          "height": 376
        }
      },
      "cell_type": "code",
      "source": [
        "import numpy as np\n",
        "from scipy import interp\n",
        "import matplotlib.pyplot as plt\n",
        "\n",
        "from sklearn import svm, datasets\n",
        "from sklearn.metrics import roc_curve, auc\n",
        "from sklearn.model_selection import StratifiedKFold\n",
        "from sklearn.pipeline import make_pipeline\n",
        "from sklearn.preprocessing import StandardScaler\n",
        "from sklearn.decomposition import PCA\n",
        "\n",
        "\n",
        "cv = StratifiedKFold(n_splits=10)\n",
        "\n",
        "#clf = GaussianNB()\n",
        "clf = make_pipeline(StandardScaler(), GaussianNB())\n",
        "#clf = make_pipeline(StandardScaler(), PCA(n_components=100), GaussianNB())\n",
        "\n",
        "\n",
        "tprs = []\n",
        "aucs = []\n",
        "mean_fpr = np.linspace(0, 1, 100)\n",
        "\n",
        "i = 0\n",
        "for train, test in cv.split(train_data_x, train_data_y):\n",
        "    probas_ = clf.fit(train_data_x[train], train_data_y[train]).predict_proba(train_data_x[test])\n",
        "    # Compute ROC curve and area the curve\n",
        "    fpr, tpr, thresholds = roc_curve(train_data_y[test], probas_[:, 1])\n",
        "    tprs.append(interp(mean_fpr, fpr, tpr))\n",
        "    tprs[-1][0] = 0.0\n",
        "    roc_auc = auc(fpr, tpr)\n",
        "    aucs.append(roc_auc)\n",
        "    plt.plot(fpr, tpr, lw=1, alpha=0.3,\n",
        "             label='ROC fold %d (AUC = %0.2f)' % (i, roc_auc))\n",
        "\n",
        "    i += 1\n",
        "plt.plot([0, 1], [0, 1], linestyle='--', lw=2, color='r',\n",
        "         label='Chance', alpha=.8)\n",
        "\n",
        "mean_tpr = np.mean(tprs, axis=0)\n",
        "mean_tpr[-1] = 1.0\n",
        "mean_auc = auc(mean_fpr, mean_tpr)\n",
        "std_auc = np.std(aucs)\n",
        "plt.plot(mean_fpr, mean_tpr, color='b',\n",
        "         label=r'Mean ROC (AUC = %0.2f $\\pm$ %0.2f)' % (mean_auc, std_auc),\n",
        "         lw=2, alpha=.8)\n",
        "\n",
        "std_tpr = np.std(tprs, axis=0)\n",
        "tprs_upper = np.minimum(mean_tpr + std_tpr, 1)\n",
        "tprs_lower = np.maximum(mean_tpr - std_tpr, 0)\n",
        "plt.fill_between(mean_fpr, tprs_lower, tprs_upper, color='grey', alpha=.2,\n",
        "                 label=r'$\\pm$ 1 std. dev.')\n",
        "\n",
        "plt.xlim([-0.05, 1.05])\n",
        "plt.ylim([-0.05, 1.05])\n",
        "plt.xlabel('False Positive Rate')\n",
        "plt.ylabel('True Positive Rate')\n",
        "plt.title('Receiver operating characteristic example')\n",
        "plt.legend(loc=\"lower right\")\n",
        "plt.show()"
      ],
      "execution_count": 0,
      "outputs": [
        {
          "output_type": "display_data",
          "data": {
            "image/png": "[encoded data removed]",
            "text/plain": [
              "<Figure size 576x396 with 1 Axes>"
            ]
          },
          "metadata": {
            "tags": []
          }
        }
      ]
    },
    {
      "metadata": {
        "id": "99-94klNj6Qh",
        "colab_type": "text"
      },
      "cell_type": "markdown",
      "source": [
        "# Ensemble19 averaging"
      ]
    },
    {
      "metadata": {
        "id": "65LeC8v-li4i",
        "colab_type": "code",
        "colab": {}
      },
      "cell_type": "code",
      "source": [
        "nn_df = pd.read_csv('/content/gdrive/My Drive/santander_data/nn19.csv')\n",
        "lgb_df = pd.read_csv('/content/gdrive/My Drive/santander_data/lgb19.csv')\n",
        "gnn_df = pd.read_csv('/content/gdrive/My Drive/santander_data/gnn19.csv')\n",
        "xgb_df = pd.read_csv('/content/gdrive/My Drive/santander_data/xgb19.csv')"
      ],
      "execution_count": 0,
      "outputs": []
    },
    {
      "metadata": {
        "id": "qTlo7Mrnmve6",
        "colab_type": "code",
        "colab": {}
      },
      "cell_type": "code",
      "source": [
        "nn_preds = nn_df['target']\n",
        "lgb_preds = lgb_df['target']\n",
        "gnn_preds = gnn_df['target']\n",
        "xgb_preds = xgb_df['target']"
      ],
      "execution_count": 0,
      "outputs": []
    },
    {
      "metadata": {
        "id": "HEAT9VdFm5II",
        "colab_type": "code",
        "colab": {}
      },
      "cell_type": "code",
      "source": [
        "averaged_preds = []\n",
        "for i in range(0, len(nn_preds)):\n",
        "    new_pred = (nn_preds[i] + lgb_preds[i] + gnn_preds[i] + xgb_preds[i]) / 4\n",
        "    averaged_preds.append(new_pred)"
      ],
      "execution_count": 0,
      "outputs": []
    },
    {
      "metadata": {
        "id": "z1LpYFXholEk",
        "colab_type": "code",
        "colab": {}
      },
      "cell_type": "code",
      "source": [
        "output_df = pd.DataFrame()\n",
        "output_df[\"ID_code\"] = test_data_df[\"ID_code\"]\n",
        "output_df[\"target\"] = averaged_preds"
      ],
      "execution_count": 0,
      "outputs": []
    },
    {
      "metadata": {
        "id": "H_IwsZFNow7w",
        "colab_type": "code",
        "colab": {}
      },
      "cell_type": "code",
      "source": [
        "output_df.to_csv(\"/content/gdrive/My Drive/santander_data/ensemble.csv\", index=False)"
      ],
      "execution_count": 0,
      "outputs": []
    },
    {
      "metadata": {
        "id": "G2tSd7VgqKeL",
        "colab_type": "code",
        "colab": {}
      },
      "cell_type": "code",
      "source": [
        ""
      ],
      "execution_count": 0,
      "outputs": []
    },
    {
      "metadata": {
        "id": "XU8GyftExuAZ",
        "colab_type": "text"
      },
      "cell_type": "markdown",
      "source": [
        "# Clustering"
      ]
    },
    {
      "metadata": {
        "id": "i-otyonO2NtJ",
        "colab_type": "code",
        "colab": {}
      },
      "cell_type": "code",
      "source": [
        "import numpy as np\n",
        "all_data = []\n",
        "for elem in train_data_x:\n",
        "    all_data.append(elem)\n",
        "for elem in test_data_x:\n",
        "    all_data.append(elem)"
      ],
      "execution_count": 0,
      "outputs": []
    },
    {
      "metadata": {
        "id": "ytUbNL7KxwoR",
        "colab_type": "code",
        "colab": {}
      },
      "cell_type": "code",
      "source": [
        "# https://scikit-learn.org/stable/modules/generated/sklearn.cluster.KMeans.html\n",
        "from sklearn.cluster import KMeans\n",
        "kmeans = KMeans(n_clusters=2, random_state=0, n_init=100, max_iter=1000, precompute_distances=True, n_jobs=4).fit(all_data)"
      ],
      "execution_count": 0,
      "outputs": []
    },
    {
      "metadata": {
        "id": "clLs6_h2x1MK",
        "colab_type": "code",
        "outputId": "c94e3321-bb5f-4dab-a250-7649fa7e1153",
        "colab": {
          "base_uri": "https://localhost:8080/",
          "height": 36
        }
      },
      "cell_type": "code",
      "source": [
        "sum(kmeans.labels_)"
      ],
      "execution_count": 0,
      "outputs": [
        {
          "output_type": "execute_result",
          "data": {
            "text/plain": [
              "201846"
            ]
          },
          "metadata": {
            "tags": []
          },
          "execution_count": 13
        }
      ]
    },
    {
      "metadata": {
        "id": "og83D8-Tx4ql",
        "colab_type": "code",
        "outputId": "d39f7234-cf6b-4888-d03a-de4dd1197ac4",
        "colab": {
          "base_uri": "https://localhost:8080/",
          "height": 36
        }
      },
      "cell_type": "code",
      "source": [
        "len(all_data)"
      ],
      "execution_count": 0,
      "outputs": [
        {
          "output_type": "execute_result",
          "data": {
            "text/plain": [
              "400000"
            ]
          },
          "metadata": {
            "tags": []
          },
          "execution_count": 14
        }
      ]
    },
    {
      "metadata": {
        "id": "BoGlMjZi4tKS",
        "colab_type": "code",
        "outputId": "85a3ef31-ee97-4123-ee75-46c3699890f0",
        "colab": {
          "base_uri": "https://localhost:8080/",
          "height": 36
        }
      },
      "cell_type": "code",
      "source": [
        "sum(kmeans.labels_ == 1)"
      ],
      "execution_count": 0,
      "outputs": [
        {
          "output_type": "execute_result",
          "data": {
            "text/plain": [
              "201846"
            ]
          },
          "metadata": {
            "tags": []
          },
          "execution_count": 15
        }
      ]
    },
    {
      "metadata": {
        "id": "Pm9M3O2c4ym9",
        "colab_type": "code",
        "outputId": "98a1c8d9-821c-410d-b6a6-5df447db242e",
        "colab": {
          "base_uri": "https://localhost:8080/",
          "height": 36
        }
      },
      "cell_type": "code",
      "source": [
        "sum(kmeans.labels_ == 0)"
      ],
      "execution_count": 0,
      "outputs": [
        {
          "output_type": "execute_result",
          "data": {
            "text/plain": [
              "198154"
            ]
          },
          "metadata": {
            "tags": []
          },
          "execution_count": 16
        }
      ]
    },
    {
      "metadata": {
        "id": "YZdBEwxt40Nm",
        "colab_type": "code",
        "colab": {}
      },
      "cell_type": "code",
      "source": [
        ""
      ],
      "execution_count": 0,
      "outputs": []
    }
  ]
}