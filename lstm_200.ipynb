{
  "nbformat": 4,
  "nbformat_minor": 0,
  "metadata": {
    "colab": {
      "name": "lstm_200.ipynb",
      "version": "0.3.2",
      "provenance": [],
      "collapsed_sections": [
        "TsJUh1P706zp"
      ],
      "include_colab_link": true
    },
    "kernelspec": {
      "name": "python3",
      "display_name": "Python 3"
    },
    "accelerator": "GPU"
  },
  "cells": [
    {
      "cell_type": "markdown",
      "metadata": {
        "id": "view-in-github",
        "colab_type": "text"
      },
      "source": [
        "<a href=\"https://colab.research.google.com/github/AstroBoy1/santander/blob/master/lstm_200.ipynb\" target=\"_parent\"><img src=\"https://colab.research.google.com/assets/colab-badge.svg\" alt=\"Open In Colab\"/></a>"
      ]
    },
    {
      "metadata": {
        "id": "TsJUh1P706zp",
        "colab_type": "text"
      },
      "cell_type": "markdown",
      "source": [
        "# Setup"
      ]
    },
    {
      "metadata": {
        "id": "C_NAI4E50RF9",
        "colab_type": "code",
        "outputId": "0813c3cc-2f0b-49a2-8eec-cef0a1e6ae56",
        "colab": {
          "base_uri": "https://localhost:8080/",
          "height": 36
        }
      },
      "cell_type": "code",
      "source": [
        "from google.colab import drive\n",
        "from sklearn.metrics import roc_auc_score\n",
        "import numpy as np\n",
        "from sklearn import svm\n",
        "from collections import Counter\n",
        "import pandas as pd\n",
        "from sklearn.preprocessing import MinMaxScaler\n",
        "from sklearn.preprocessing import StandardScaler\n",
        "from sklearn.pipeline import Pipeline\n",
        "from sklearn.linear_model import Ridge\n",
        "import matplotlib.pyplot as plt\n",
        "from sklearn.model_selection import train_test_split\n",
        "from sklearn.model_selection import StratifiedKFold\n",
        "from sklearn.model_selection import cross_val_score\n",
        "import time\n",
        "import statistics\n",
        "from sklearn.model_selection import GridSearchCV\n",
        "import pandas as pd\n",
        "from glob import glob\n",
        "import re \n",
        "np.random.seed(0) # ensure reproducibility\n",
        "np.set_printoptions(suppress = True)\n",
        "# Stacking\n",
        "from sklearn.metrics import roc_auc_score\n",
        "from sklearn.preprocessing import OneHotEncoder\n",
        "from sklearn.model_selection import KFold\n",
        "from sklearn.metrics import roc_auc_score\n",
        "from keras.models import Sequential, Model\n",
        "from keras.layers import Dense, Input, Flatten, Dropout, BatchNormalization, GaussianNoise\n",
        "from keras import callbacks\n",
        "import keras.backend as K\n",
        "from keras.wrappers.scikit_learn import KerasClassifier\n",
        "import warnings\n",
        "warnings.simplefilter(\"ignore\")\n",
        "from keras.callbacks import EarlyStopping, TensorBoard\n",
        "from mlxtend.feature_selection import ColumnSelector\n",
        "from sklearn.pipeline import make_pipeline\n",
        "import random"
      ],
      "execution_count": 1,
      "outputs": [
        {
          "output_type": "stream",
          "text": [
            "Using TensorFlow backend.\n"
          ],
          "name": "stderr"
        }
      ]
    },
    {
      "metadata": {
        "id": "oNUHigXL0UIC",
        "colab_type": "code",
        "outputId": "d51c832a-59d8-48f2-81e2-feeacb42c452",
        "colab": {
          "base_uri": "https://localhost:8080/",
          "height": 130
        }
      },
      "cell_type": "code",
      "source": [
        "drive.mount('/content/gdrive')"
      ],
      "execution_count": 3,
      "outputs": [
        {
          "output_type": "stream",
          "text": [
            "Go to this URL in a browser: https://accounts.google.com/o/oauth2/auth?client_id=947318989803-6bn6qk8qdgf4n4g3pfee6491hc0brc4i.apps.googleusercontent.com&redirect_uri=urn%3Aietf%3Awg%3Aoauth%3A2.0%3Aoob&scope=email%20https%3A%2F%2Fwww.googleapis.com%2Fauth%2Fdocs.test%20https%3A%2F%2Fwww.googleapis.com%2Fauth%2Fdrive%20https%3A%2F%2Fwww.googleapis.com%2Fauth%2Fdrive.photos.readonly%20https%3A%2F%2Fwww.googleapis.com%2Fauth%2Fpeopleapi.readonly&response_type=code\n",
            "\n",
            "Enter your authorization code:\n",
            "··········\n",
            "Mounted at /content/gdrive\n"
          ],
          "name": "stdout"
        }
      ]
    },
    {
      "metadata": {
        "id": "ldWV6R_e0V9y",
        "colab_type": "code",
        "colab": {}
      },
      "cell_type": "code",
      "source": [
        "train_fn = '/content/gdrive/My Drive/santander_data/train.csv'\n",
        "valid_fn = '/content/gdrive/My Drive/santander_data/test.csv'\n",
        "pred_fn = '/content/gdrive/My Drive/santander_data/submission12.csv'\n",
        "train_data_df = pd.read_csv(train_fn)\n",
        "test_data_df = pd.read_csv(valid_fn)\n",
        "train_data_x = train_data_df.drop(columns=[\"ID_code\", \"target\"]).values\n",
        "train_data_y = train_data_df[\"target\"].values\n",
        "test_data_x = test_data_df.drop(columns=[\"ID_code\"]).values\n",
        "save_directory = '/content/gdrive/My Drive/santander_results/'"
      ],
      "execution_count": 0,
      "outputs": []
    },
    {
      "metadata": {
        "id": "kNbcCI7o04AG",
        "colab_type": "text"
      },
      "cell_type": "markdown",
      "source": [
        "# LSTM"
      ]
    },
    {
      "metadata": {
        "id": "6PSNc_9uyr0r",
        "colab_type": "code",
        "colab": {
          "base_uri": "https://localhost:8080/",
          "height": 93
        },
        "outputId": "002c38d6-469b-4243-8b19-a68a68b03767"
      },
      "cell_type": "code",
      "source": [
        "from keras.layers.recurrent import LSTM\n",
        "model = Sequential()\n",
        "model.add(LSTM(64, input_shape=(200, 1), dropout=0.2, recurrent_dropout=0.2, return_sequences=True, return_state=True))\n",
        "model.add(LSTM(16, input_shape=(200, 1), dropout=0.2, recurrent_dropout=0.2, return_sequences=True, return_state=True))\n",
        "model.add(Dense(1, activation='sigmoid'))\n",
        "model.compile(loss = 'binary_crossentropy', optimizer='adam', metrics = [\"accuracy\"])"
      ],
      "execution_count": 5,
      "outputs": [
        {
          "output_type": "stream",
          "text": [
            "WARNING:tensorflow:From /usr/local/lib/python3.6/dist-packages/tensorflow/python/framework/op_def_library.py:263: colocate_with (from tensorflow.python.framework.ops) is deprecated and will be removed in a future version.\n",
            "Instructions for updating:\n",
            "Colocations handled automatically by placer.\n"
          ],
          "name": "stdout"
        }
      ]
    },
    {
      "metadata": {
        "id": "QkDfL4AM1WQ0",
        "colab_type": "code",
        "colab": {}
      },
      "cell_type": "code",
      "source": [
        "num_samples = 1000\n",
        "x = train_data_x[:num_samples].reshape(num_samples, 200, 1)\n",
        "x.shape\n",
        "y = train_data_y[:num_samples]"
      ],
      "execution_count": 0,
      "outputs": []
    },
    {
      "metadata": {
        "id": "z3Aa5G5p4hYu",
        "colab_type": "code",
        "colab": {}
      },
      "cell_type": "code",
      "source": [
        "# LOGGER\n",
        "class Logger(callbacks.Callback):\n",
        "    def __init__(self, out_path=save_directory, patience=10, lr_patience=3, out_fn='', log_fn=''):\n",
        "        self.auc = 0\n",
        "        self.path = out_path\n",
        "        self.fn = out_fn\n",
        "        self.patience = patience\n",
        "        self.lr_patience = lr_patience\n",
        "        self.no_improve = 0\n",
        "        self.no_improve_lr = 0\n",
        "\n",
        "    def on_train_begin(self, logs={}):\n",
        "        return\n",
        "\n",
        "    def on_train_end(self, logs={}):\n",
        "        return\n",
        "\n",
        "    def on_epoch_begin(self, epoch, logs={}):\n",
        "        return\n",
        "\n",
        "    def on_batch_begin(self, batch, logs={}):\n",
        "        return\n",
        "\n",
        "    def on_batch_end(self, batch, logs={}):\n",
        "        return\n",
        "\n",
        "    def on_epoch_end(self, epoch, logs={}):\n",
        "        cv_pred = self.model.predict(self.validation_data[0], batch_size=1024)\n",
        "        cv_true = self.validation_data[1]\n",
        "        auc_val = roc_auc_score(cv_true, cv_pred)\n",
        "        if self.auc < auc_val:\n",
        "            self.no_improve = 0\n",
        "            self.no_improve_lr = 0\n",
        "            print(\"Epoch %s - best AUC: %s\" % (epoch, round(auc_val, 4)))\n",
        "            self.auc = auc_val\n",
        "            self.model.save(self.path + self.fn, overwrite=True)\n",
        "        else:\n",
        "            self.no_improve += 1\n",
        "            self.no_improve_lr += 1\n",
        "            print(\"Epoch %s - current AUC: %s\" % (epoch, round(auc_val, 4)))\n",
        "            if self.no_improve >= self.patience:\n",
        "                self.model.stop_training = True\n",
        "            if self.no_improve_lr >= self.lr_patience:\n",
        "                lr = float(K.get_value(self.model.optimizer.lr))\n",
        "                K.set_value(self.model.optimizer.lr, 0.75*lr)\n",
        "                print(\"Setting lr to {}\".format(0.75*lr))\n",
        "                self.no_improve_lr = 0\n",
        "        return"
      ],
      "execution_count": 0,
      "outputs": []
    },
    {
      "metadata": {
        "id": "EtcPxpoD3yyM",
        "colab_type": "code",
        "outputId": "56b2f8c8-27d4-43b4-fe71-2438ad12771f",
        "colab": {
          "base_uri": "https://localhost:8080/",
          "height": 128
        }
      },
      "cell_type": "code",
      "source": [
        "cv = StratifiedKFold(n_splits=5, shuffle=True, random_state=7)\n",
        "preds = []\n",
        "oof_preds = np.zeros((num_samples, 1))\n",
        "c = 0\n",
        "for train, valid in cv.split(x, y):\n",
        "    c += 1\n",
        "    logger = Logger(patience=10, out_path=save_directory, out_fn='cv_{}.h5'.format(c))\n",
        "    model.fit(x[train][:], y[train][:], nb_epoch = 5, validation_data=(x[valid][:], y[valid][:]), callbacks=[logger])\n",
        "    model.load_weights(save_directory + 'cv_{}.h5'.format(c))\n",
        "    X_test = np.reshape(test_data_x, (200000, 200, 1))\n",
        "    curr_preds = model.predict(X_test, batch_size=2048)\n",
        "    oof_preds[valid] = model.predict(x[valid])\n",
        "    preds.append(curr_preds)"
      ],
      "execution_count": 0,
      "outputs": [
        {
          "output_type": "stream",
          "text": [
            "Train on 799 samples, validate on 201 samples\n",
            "Epoch 1/5\n",
            "799/799 [==============================] - 10s 13ms/step - loss: 0.2852 - acc: 0.9036 - val_loss: 0.3214 - val_acc: 0.9005\n",
            "Epoch 0 - best AUC: 0.6108\n",
            "Epoch 2/5\n",
            "704/799 [=========================>....] - ETA: 1s - loss: 0.2801 - acc: 0.9048"
          ],
          "name": "stdout"
        }
      ]
    },
    {
      "metadata": {
        "id": "fdVSs0z97hx6",
        "colab_type": "code",
        "colab": {}
      },
      "cell_type": "code",
      "source": [
        "auc = roc_auc_score(y_train, oof_preds)\n",
        "print(\"CV_AUC: {}\".format(auc))\n",
        "\n",
        "# SAVE DATA\n",
        "preds = np.asarray(preds)\n",
        "preds = preds.reshape((5, 200000))\n",
        "preds_final = np.mean(preds.T, axis=1)\n",
        "submission = pd.read_csv(save_directory + 'santander_data/sample_submission.csv')\n",
        "submission['target'] = preds_final\n",
        "submission.to_csv('lstm_submission.csv', index=False)"
      ],
      "execution_count": 0,
      "outputs": []
    },
    {
      "metadata": {
        "id": "O4SwCjMe290B",
        "colab_type": "code",
        "colab": {}
      },
      "cell_type": "code",
      "source": [
        ""
      ],
      "execution_count": 0,
      "outputs": []
    }
  ]
}